{
 "cells": [
  {
   "attachments": {},
   "cell_type": "markdown",
   "metadata": {},
   "source": [
    "# <center>**Pre-Processing**"
   ]
  },
  {
   "attachments": {},
   "cell_type": "markdown",
   "metadata": {},
   "source": [
    "Many of the requirements for this notebook have been fulfilled in the EDA. I will copy and paste over the code that I used in EDA for those parts. But first we must import packages and import the data.\n",
    "\n",
    "## Import Packages"
   ]
  },
  {
   "cell_type": "code",
   "execution_count": 1,
   "metadata": {},
   "outputs": [],
   "source": [
    "# To create dummy variables and manage dataset\n",
    "import pandas as pd\n",
    "\n",
    "# To scale the dataset.\n",
    "from sklearn.preprocessing import StandardScaler\n",
    "\n",
    "# To split the data into training vs. test set\n",
    "from sklearn.model_selection import train_test_split\n",
    "\n",
    "import os"
   ]
  },
  {
   "cell_type": "code",
   "execution_count": 2,
   "metadata": {},
   "outputs": [],
   "source": [
    "# Find and set the working directory for this project\n",
    "os.chdir(r'C:\\Users\\jdrel\\OneDrive\\Documents\\Data_Science\\Springboard\\Capstone-2')"
   ]
  },
  {
   "attachments": {},
   "cell_type": "markdown",
   "metadata": {},
   "source": [
    "Load the Data"
   ]
  },
  {
   "cell_type": "code",
   "execution_count": 3,
   "metadata": {},
   "outputs": [],
   "source": [
    "# Import the data\n",
    "data = pd.read_csv('./data/interim/KDD Data.csv')\n",
    "data = data.drop('Unnamed: 0', axis = 1)"
   ]
  },
  {
   "attachments": {},
   "cell_type": "markdown",
   "metadata": {},
   "source": [
    "Scale the data for Analysis"
   ]
  },
  {
   "cell_type": "code",
   "execution_count": 4,
   "metadata": {},
   "outputs": [],
   "source": [
    "#Remove the y from the dataframe so the result is not influence by it\n",
    "X = data.drop('labels', axis = 1)\n",
    "\n",
    "# Create list of categorical columns including binary in a list comprehension. \n",
    "cat_col = [col for col in X.columns if X[col].dtype == 'object' or set(X[col].unique()) == {0,1}]\n",
    "\n",
    "# Convert binary columns into categorical columns because they represent two states more so than degrees\n",
    "X[cat_col] = X[cat_col].astype('category')\n",
    "\n",
    "# Gather all of the columns in X that aren't in the categorical column\n",
    "num_col = list(set(list(X.columns)) - set(cat_col))\n",
    "\n",
    "# Create a dataframe that is just the numerical X columns\n",
    "X_num = X[num_col]\n",
    "\n",
    "# Use the sklearn's standard scalar and fit it to the data and return the scaled data.\n",
    "X_num_scaled = pd.DataFrame(StandardScaler().fit_transform(X_num))\n",
    "X_num_scaled.columns = X_num.columns\n",
    "\n",
    "# Create X_scaled which is the scaled numerical columns and the categorical columns\n",
    "X_scaled = pd.concat([X_num_scaled, X[cat_col]], axis= 1)"
   ]
  },
  {
   "attachments": {},
   "cell_type": "markdown",
   "metadata": {},
   "source": [
    "Transform Categorical variables into onehot features."
   ]
  },
  {
   "cell_type": "code",
   "execution_count": 5,
   "metadata": {},
   "outputs": [],
   "source": [
    "# import the data with K=7\n",
    "dataK7 = pd.read_csv(r'./data/processed/data+k=7.csv')[['labels', 'k=7']]\n",
    "\n",
    "#Create a dummy matrix for the types of intrusions and labels\n",
    "lab_clus_dummy = pd.get_dummies(dataK7, columns = ['labels', 'k=7'], \n",
    "                                # No prefix to make the graph look better\n",
    "                                prefix = ['', ''], \n",
    "                                # No sep to make the graph look better\n",
    "                                prefix_sep = '')\n"
   ]
  },
  {
   "attachments": {},
   "cell_type": "markdown",
   "metadata": {},
   "source": [
    "Breakdown data into training vs. test set"
   ]
  },
  {
   "cell_type": "code",
   "execution_count": 10,
   "metadata": {},
   "outputs": [],
   "source": [
    "# import data with k=7 full dataset\n",
    "dataK7_full = pd.read_csv(r'./data/processed/data+k=7.csv')\n",
    "\n",
    "#Split the data in to training set and a test set\n",
    "X_train, X_test, y_train, y_test = train_test_split(dataK7_full.drop('labels', axis = 1), dataK7_full['labels'],\n",
    "                                                    test_size = 0.2, random_state = 42)"
   ]
  }
 ],
 "metadata": {
  "kernelspec": {
   "display_name": "Capstone-2",
   "language": "python",
   "name": "python3"
  },
  "language_info": {
   "codemirror_mode": {
    "name": "ipython",
    "version": 3
   },
   "file_extension": ".py",
   "mimetype": "text/x-python",
   "name": "python",
   "nbconvert_exporter": "python",
   "pygments_lexer": "ipython3",
   "version": "3.10.9"
  },
  "orig_nbformat": 4
 },
 "nbformat": 4,
 "nbformat_minor": 2
}
