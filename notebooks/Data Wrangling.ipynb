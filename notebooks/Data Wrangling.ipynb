{
 "cells": [
  {
   "attachments": {},
   "cell_type": "markdown",
   "metadata": {},
   "source": [
    "# <center>  **Data Wrangling** \n",
    "\n",
    "### <center> **Data Collection**\n",
    "\n",
    "Goal: Organize your data to streamline the next steps of your capstone\n",
    "\n",
    "Time estimate: 1-2 hours\n",
    "\n",
    "<center> Data Loading"
   ]
  },
  {
   "attachments": {},
   "cell_type": "markdown",
   "metadata": {},
   "source": [
    "Importing Packages"
   ]
  },
  {
   "cell_type": "code",
   "execution_count": 87,
   "metadata": {},
   "outputs": [],
   "source": [
    "# Import all the Necessary Packages\n",
    "import pandas as pd\n",
    "import numpy as np\n",
    "import matplotlib\n",
    "import matplotlib.pyplot as plt\n",
    "import seaborn as sns\n",
    "\n",
    "from ydata_profiling import ProfileReport\n",
    "\n",
    "from sklearn.preprocessing import StandardScaler\n",
    "from sklearn.linear_model import Lasso\n",
    "from sklearn.model_selection import GridSearchCV\n",
    "\n",
    "from statsmodels.stats.outliers_influence import variance_inflation_factor"
   ]
  },
  {
   "attachments": {},
   "cell_type": "markdown",
   "metadata": {},
   "source": [
    "Importing the data"
   ]
  },
  {
   "cell_type": "code",
   "execution_count": 45,
   "metadata": {},
   "outputs": [],
   "source": [
    "# Import the data and see what it looks like\n",
    "path = r'C:\\Users\\jdrel\\OneDrive\\Documents\\Data_Science\\Springboard\\Capstone-2\\data\\raw\\kddcup.data_10_percent'\n",
    "data = pd.read_csv(path)"
   ]
  },
  {
   "attachments": {},
   "cell_type": "markdown",
   "metadata": {},
   "source": [
    "### <center> **Data Definition**\n",
    "\n",
    "<center> Column Names"
   ]
  },
  {
   "attachments": {},
   "cell_type": "markdown",
   "metadata": {},
   "source": [
    "The column names can be found in the about section on the data's webpage: [KDD Dataset](https://www.kaggle.com/datasets/slashtea/kdd-cyberattack?resource=download)"
   ]
  },
  {
   "cell_type": "code",
   "execution_count": 46,
   "metadata": {},
   "outputs": [
    {
     "data": {
      "text/html": [
       "<div>\n",
       "<style scoped>\n",
       "    .dataframe tbody tr th:only-of-type {\n",
       "        vertical-align: middle;\n",
       "    }\n",
       "\n",
       "    .dataframe tbody tr th {\n",
       "        vertical-align: top;\n",
       "    }\n",
       "\n",
       "    .dataframe thead th {\n",
       "        text-align: right;\n",
       "    }\n",
       "</style>\n",
       "<table border=\"1\" class=\"dataframe\">\n",
       "  <thead>\n",
       "    <tr style=\"text-align: right;\">\n",
       "      <th></th>\n",
       "      <th>duration</th>\n",
       "      <th>protocol_type</th>\n",
       "      <th>service</th>\n",
       "      <th>flag</th>\n",
       "      <th>src_bytes</th>\n",
       "      <th>dst_bytes</th>\n",
       "      <th>land</th>\n",
       "      <th>wrong_fragment</th>\n",
       "      <th>urgent</th>\n",
       "      <th>hot</th>\n",
       "      <th>...</th>\n",
       "      <th>dst_host_srv_count</th>\n",
       "      <th>dst_host_same_srv_rate</th>\n",
       "      <th>dst_host_diff_srv_rate</th>\n",
       "      <th>dst_host_same_src_port_rate</th>\n",
       "      <th>dst_host_srv_diff_host_rate</th>\n",
       "      <th>dst_host_serror_rate</th>\n",
       "      <th>dst_host_srv_serror_rate</th>\n",
       "      <th>dst_host_rerror_rate</th>\n",
       "      <th>dst_host_srv_rerror_rate</th>\n",
       "      <th>labels</th>\n",
       "    </tr>\n",
       "  </thead>\n",
       "  <tbody>\n",
       "    <tr>\n",
       "      <th>0</th>\n",
       "      <td>0</td>\n",
       "      <td>tcp</td>\n",
       "      <td>http</td>\n",
       "      <td>SF</td>\n",
       "      <td>239</td>\n",
       "      <td>486</td>\n",
       "      <td>0</td>\n",
       "      <td>0</td>\n",
       "      <td>0</td>\n",
       "      <td>0</td>\n",
       "      <td>...</td>\n",
       "      <td>19</td>\n",
       "      <td>1.0</td>\n",
       "      <td>0.0</td>\n",
       "      <td>0.05</td>\n",
       "      <td>0.0</td>\n",
       "      <td>0.0</td>\n",
       "      <td>0.0</td>\n",
       "      <td>0.0</td>\n",
       "      <td>0.0</td>\n",
       "      <td>normal.</td>\n",
       "    </tr>\n",
       "    <tr>\n",
       "      <th>1</th>\n",
       "      <td>0</td>\n",
       "      <td>tcp</td>\n",
       "      <td>http</td>\n",
       "      <td>SF</td>\n",
       "      <td>235</td>\n",
       "      <td>1337</td>\n",
       "      <td>0</td>\n",
       "      <td>0</td>\n",
       "      <td>0</td>\n",
       "      <td>0</td>\n",
       "      <td>...</td>\n",
       "      <td>29</td>\n",
       "      <td>1.0</td>\n",
       "      <td>0.0</td>\n",
       "      <td>0.03</td>\n",
       "      <td>0.0</td>\n",
       "      <td>0.0</td>\n",
       "      <td>0.0</td>\n",
       "      <td>0.0</td>\n",
       "      <td>0.0</td>\n",
       "      <td>normal.</td>\n",
       "    </tr>\n",
       "    <tr>\n",
       "      <th>2</th>\n",
       "      <td>0</td>\n",
       "      <td>tcp</td>\n",
       "      <td>http</td>\n",
       "      <td>SF</td>\n",
       "      <td>219</td>\n",
       "      <td>1337</td>\n",
       "      <td>0</td>\n",
       "      <td>0</td>\n",
       "      <td>0</td>\n",
       "      <td>0</td>\n",
       "      <td>...</td>\n",
       "      <td>39</td>\n",
       "      <td>1.0</td>\n",
       "      <td>0.0</td>\n",
       "      <td>0.03</td>\n",
       "      <td>0.0</td>\n",
       "      <td>0.0</td>\n",
       "      <td>0.0</td>\n",
       "      <td>0.0</td>\n",
       "      <td>0.0</td>\n",
       "      <td>normal.</td>\n",
       "    </tr>\n",
       "  </tbody>\n",
       "</table>\n",
       "<p>3 rows × 42 columns</p>\n",
       "</div>"
      ],
      "text/plain": [
       "   duration protocol_type service flag  src_bytes  dst_bytes  land  \\\n",
       "0         0           tcp    http   SF        239        486     0   \n",
       "1         0           tcp    http   SF        235       1337     0   \n",
       "2         0           tcp    http   SF        219       1337     0   \n",
       "\n",
       "   wrong_fragment  urgent  hot  ...  dst_host_srv_count  \\\n",
       "0               0       0    0  ...                  19   \n",
       "1               0       0    0  ...                  29   \n",
       "2               0       0    0  ...                  39   \n",
       "\n",
       "   dst_host_same_srv_rate  dst_host_diff_srv_rate  \\\n",
       "0                     1.0                     0.0   \n",
       "1                     1.0                     0.0   \n",
       "2                     1.0                     0.0   \n",
       "\n",
       "   dst_host_same_src_port_rate  dst_host_srv_diff_host_rate  \\\n",
       "0                         0.05                          0.0   \n",
       "1                         0.03                          0.0   \n",
       "2                         0.03                          0.0   \n",
       "\n",
       "   dst_host_serror_rate  dst_host_srv_serror_rate  dst_host_rerror_rate  \\\n",
       "0                   0.0                       0.0                   0.0   \n",
       "1                   0.0                       0.0                   0.0   \n",
       "2                   0.0                       0.0                   0.0   \n",
       "\n",
       "   dst_host_srv_rerror_rate   labels  \n",
       "0                       0.0  normal.  \n",
       "1                       0.0  normal.  \n",
       "2                       0.0  normal.  \n",
       "\n",
       "[3 rows x 42 columns]"
      ]
     },
     "execution_count": 46,
     "metadata": {},
     "output_type": "execute_result"
    }
   ],
   "source": [
    "# I copy and pasted the column names into this list\n",
    "data.columns = [\"duration\", \"protocol_type\", \"service\", \"flag\", \"src_bytes\",\n",
    "                \"dst_bytes\", \"land\", \"wrong_fragment\", \"urgent\", \"hot\",\n",
    "                \"num_failed_logins\", \"logged_in\", \"num_compromised\",\n",
    "                \"root_shell\", \"su_attempted\", \"num_root\", \"num_file_creations\",\n",
    "                \"num_shells\", \"num_access_files\", \"num_outbound_cmds\", \"is_host_login\",\n",
    "                \"is_guest_login\", \"count\", \"srv_count\", \"serror_rate\",\"srv_serror_rate\",\n",
    "                \"rerror_rate\", \"srv_rerror_rate\", \"same_srv_rate\", \"diff_srv_rate\", \"srv_diff_host_rate\",\n",
    "                \"dst_host_count\", \"dst_host_srv_count\", \"dst_host_same_srv_rate\", \"dst_host_diff_srv_rate\",\n",
    "                \"dst_host_same_src_port_rate\", \"dst_host_srv_diff_host_rate\", \"dst_host_serror_rate\", \n",
    "                \"dst_host_srv_serror_rate\", \"dst_host_rerror_rate\", \"dst_host_srv_rerror_rate\", \"labels\"]\n",
    "data.head(3)"
   ]
  },
  {
   "attachments": {},
   "cell_type": "markdown",
   "metadata": {},
   "source": [
    "Save Data with the column names"
   ]
  },
  {
   "cell_type": "code",
   "execution_count": 17,
   "metadata": {},
   "outputs": [],
   "source": [
    "# Store the path in a variable so that it is easy to use\n",
    "path =  r'C:\\Users\\jdrel\\OneDrive\\Documents\\Data_Science\\Springboard\\Capstone-2\\data\\interim\\KDD Data.csv'\n",
    "# Save the data in a csv file\n",
    "data.to_csv(path)"
   ]
  },
  {
   "attachments": {},
   "cell_type": "markdown",
   "metadata": {},
   "source": [
    "## <center> **Data Wrangling**"
   ]
  },
  {
   "attachments": {},
   "cell_type": "markdown",
   "metadata": {},
   "source": [
    "Gain an overview of the dataset."
   ]
  },
  {
   "cell_type": "code",
   "execution_count": null,
   "metadata": {},
   "outputs": [],
   "source": [
    "# Report exploring all of the variables in the data\n",
    "# Dark Mode is enabled for my eyes\n",
    "profile = ProfileReport(data, \n",
    "                        title = 'Network Intrusion Exploration',\n",
    "                        dark_mode = True)\n",
    "profile"
   ]
  },
  {
   "attachments": {},
   "cell_type": "markdown",
   "metadata": {},
   "source": [
    "## <center>**Multi-Co-linearity**\n",
    "\n",
    "The most glaring problem from the profile report is the amount of variables that have high correlations with each other. This is because a sizable portion of the columns measure either similar things or the flip version of them. For instance \"srv_rerror_rate\" and \"dst_host_srv_rerror_rate\" are measuring the rate at which a packet is rejected but each columns measures different points on the route. There are many different examples of highly correlated features that can not all coexist in the dataset without making it impossible to not overfit a training model or determine which variables are mechanisms of action.\n",
    "\n",
    "One of the types of analyses that this data lent itself to was clustering. With Multi-Colinearity there may be some artificial clusters since some of the data would be overrepresented by variables that repeat the same information making it appear as though the two observations are close together. As such we need to perform some feature selection so that we can be sure that the clustering algorithms is not capturing any duplicates.\n"
   ]
  },
  {
   "cell_type": "code",
   "execution_count": 69,
   "metadata": {},
   "outputs": [],
   "source": [
    "# Only use the X data so that it is easy to test for multicolinearity\n",
    "X = data.drop('labels', axis = 1)\n",
    "\n",
    "# Find the categorical columns that need to be made numerical for analysis\n",
    "cat_cols = list(X.select_dtypes(include = 'object').columns)\n",
    "\n",
    "x_num_data = pd.get_dummies(X, columns = cat_cols, \n",
    "                        # When testing for multi-co-linearity it is important to drop one of the dummies\n",
    "                        # so that that column doesn't get flagged\n",
    "                            drop_first = True)\n",
    "\n",
    "# Create the scaler object\n",
    "scaler = StandardScaler()\n",
    "# fit the scaler to the dataset\n",
    "scaler.fit(x_num_data)\n",
    "# Scale the dataset\n",
    "x_num_data_scaled = pd.DataFrame(scaler.transform(x_num_data))"
   ]
  },
  {
   "cell_type": "code",
   "execution_count": 148,
   "metadata": {},
   "outputs": [],
   "source": [
    "# Create a list vif that stores all of the vif values for each of the features\n",
    "#vif = [variance_inflation_factor(x_num_data_scaled, i) for i in range(len(x_num_data_scaled.columns))]\n",
    "# Bind the features to their vif value for analysis, only keep the features with vif>2\n",
    "vif_dict = {x_num_data.columns[i]:vif[i] for i in range(len(vif)) if vif[i] < 3}"
   ]
  },
  {
   "cell_type": "code",
   "execution_count": 149,
   "metadata": {},
   "outputs": [
    {
     "name": "stdout",
     "output_type": "stream",
     "text": [
      "21 out of 115 features have a vif < 5\n",
      "['su_attempted', 'flag_S3', 'diff_srv_rate', 'dst_host_srv_diff_host_rate', 'flag_RSTOS0', 'service_Z39_50', 'service_netstat', 'service_ctf', 'service_kshell', 'service_name', 'service_http_443', 'service_exec', 'service_netbios_dgm', 'service_ldap', 'service_pop_2', 'service_link', 'service_netbios_ns', 'service_efs', 'service_daytime', 'hot', 'service_hostnames', 'service_login', 'service_supdup', 'service_ssh', 'service_nnsp', 'service_uucp', 'service_vmnet', 'service_klogin', 'service_uucp_path', 'service_bgp', 'service_sunrpc', 'service_netbios_ssn', 'service_mtp', 'service_courier', 'service_nntp', 'service_printer', 'service_whois', 'service_sql_net', 'service_rje', 'service_shell', 'service_echo', 'service_systat', 'service_iso_tsap', 'service_discard', 'service_domain', 'logged_in', 'service_imap4', 'service_gopher', 'service_remote_job', 'service_csnet_ns', 'flag_S2', 'service_time', 'service_pop_3', 'dst_host_rerror_rate', 'dst_host_diff_srv_rate', 'flag_S1', 'service_auth', 'is_guest_login', 'dst_host_same_src_port_rate', 'service_ntp_u', 'service_telnet', 'flag_SH', 'service_finger', 'srv_count', 'dst_host_srv_count', 'service_ftp', 'count', 'service_http', 'service_private', 'dst_host_same_srv_rate', 'same_srv_rate', 'dst_host_srv_rerror_rate', 'flag_RSTO', 'flag_SF', 'service_domain_u', 'num_root', 'num_compromised', 'service_ftp_data', 'flag_RSTR', 'service_smtp', 'service_other', 'rerror_rate', 'srv_rerror_rate', 'dst_host_srv_serror_rate', 'flag_REJ', 'dst_host_serror_rate', 'flag_S0', 'srv_serror_rate', 'serror_rate', 'protocol_type_tcp', 'protocol_type_udp', 'service_eco_i', 'service_ecr_i', 'service_red_i', 'service_tim_i', 'service_urh_i', 'service_urp_i']\n",
      "[1.0202476274339691, 1.0256453876385754, 1.0349904683211562, 1.0353850571761882, 1.0381043696734362, 1.0446824112442992, 1.057679217328674, 1.1082470080768325, 1.1310125351804081, 1.1813046052345622, 1.1934028751252448, 1.2306897711882452, 1.2725226105136314, 1.421038283446706, 1.4519439818846416, 1.5282995186232184, 2.1091721632806295, 2.3521532965496923, 2.421480804601644, 2.4350460445122817, 2.5051279009441023]\n"
     ]
    }
   ],
   "source": [
    "print(f\"{len(vif_dict)} out of {len(x_num_data.columns)} features have a vif < 5\")\n",
    "sorted_vif_dict_keys = [k for k, v in sorted(vif_dict.items(), key=lambda item: item[1])]\n",
    "print(sorted_vif_dict)\n",
    "print(sorted(list(vif_dict.values()))) "
   ]
  },
  {
   "attachments": {},
   "cell_type": "markdown",
   "metadata": {},
   "source": [
    "This result is a major problem. While it may have seemed as though there were a lot of features to work with, instead most of the features are multicolinear and will need to be dropped. The first step is to see how many of the multicolinear variables are from dummy columns vs. the initial features."
   ]
  },
  {
   "cell_type": "code",
   "execution_count": 140,
   "metadata": {},
   "outputs": [
    {
     "name": "stdout",
     "output_type": "stream",
     "text": [
      "Best hyperparameters:  {'alpha': 0.005}\n"
     ]
    }
   ],
   "source": [
    "# Define X and y\n",
    "X = x_num_data_scaled\n",
    "y = np.where(data['labels'] == 'normal.', 1, 0)\n",
    "\n",
    "# Create Lasso model\n",
    "lasso = Lasso()\n",
    "\n",
    "# Define hyperparameter grid\n",
    "params = {'alpha': np.linspace(.005, 10, 20)}\n",
    "\n",
    "# Perform grid search\n",
    "grid_search = GridSearchCV(estimator=lasso, param_grid=params, cv=8)\n",
    "grid_search.fit(X, y)\n",
    "\n",
    "# Print best hyperparameters\n",
    "print(\"Best hyperparameters: \", grid_search.best_params_)\n"
   ]
  },
  {
   "cell_type": "code",
   "execution_count": 163,
   "metadata": {},
   "outputs": [
    {
     "name": "stdout",
     "output_type": "stream",
     "text": [
      "{'wrong_fragment': -0.035665562338885966, 'hot': -0.02789990888982136, 'logged_in': 0.05039148892050847, 'is_guest_login': 0.02105738110702302, 'count': -0.1039681421071592, 'serror_rate': -0.002336134541103318, 'srv_serror_rate': -0.0007324790813765419, 'same_srv_rate': 0.067653890310172, 'dst_host_count': -0.022887906185011155, 'dst_host_same_src_port_rate': -0.02705945930892925, 'dst_host_srv_diff_host_rate': -0.0027980354781513934, 'dst_host_serror_rate': -0.004419873170670419, 'protocol_type_udp': 0.13353651456915858, 'service_auth': 0.004893524955779914, 'service_finger': 0.010930662706795692, 'service_ftp_data': 0.03178881707503904, 'service_http': 0.1621148556277428, 'service_other': 0.006298177249483122, 'service_private': -0.011537354084874236, 'service_smtp': 0.064833067950171, 'service_urp_i': 0.01932678856398204, 'flag_RSTR': -0.0072009971825016785}\n"
     ]
    }
   ],
   "source": [
    "# Find the coefficients of lasso regularization\n",
    "lasso = Lasso(alpha = .005)\n",
    "lasso.fit(X,y)\n",
    "lasso_dict = {x_num_data.columns[i]:lasso.coef_[i] for i in range(len(x_num_data.columns)) if list(lasso.coef_)[i] != 0}\n",
    "lasso_features = [x_num_data.columns[i] for i in range(len(x_num_data.columns)) if list(lasso.coef_)[i] != 0]\n",
    "print(lasso_dict)"
   ]
  },
  {
   "cell_type": "code",
   "execution_count": 161,
   "metadata": {},
   "outputs": [],
   "source": [
    "lasso_df_features = x_num_data[lasso_features]"
   ]
  },
  {
   "attachments": {},
   "cell_type": "markdown",
   "metadata": {},
   "source": [
    "Now that we have a dataframe that is not supposed to have a colinearity problem we can test this one more time with the variance inflation score."
   ]
  },
  {
   "cell_type": "code",
   "execution_count": 165,
   "metadata": {},
   "outputs": [
    {
     "name": "stdout",
     "output_type": "stream",
     "text": [
      "{'wrong_fragment': [1.100787267567862, -0.035665562338885966], 'hot': [3.4981230144564823, -0.02789990888982136], 'logged_in': [12.931801056683987, 0.05039148892050847], 'is_guest_login': [3.6502578879738237, 0.02105738110702302], 'count': [48.235832137684106, -0.1039681421071592], 'serror_rate': [674.0203383887539, -0.002336134541103318], 'srv_serror_rate': [407.27350534384357, -0.0007324790813765419], 'same_srv_rate': [93.32800052917462, 0.067653890310172], 'dst_host_count': [29.37531689765294, -0.022887906185011155], 'dst_host_same_src_port_rate': [52.87342550920837, -0.02705945930892925], 'dst_host_srv_diff_host_rate': [1.4577261915414559, -0.0027980354781513934], 'dst_host_serror_rate': [500.7841010322061, -0.004419873170670419], 'protocol_type_udp': [5.4275249369190695, 0.13353651456915858], 'service_auth': [1.0348054931334085, 0.004893524955779914], 'service_finger': [1.0815952196882133, 0.010930662706795692], 'service_ftp_data': [1.809215631134741, 0.03178881707503904], 'service_http': [17.290846443044853, 0.1621148556277428], 'service_other': [2.1108107638026343, 0.006298177249483122], 'service_private': [6.765291597096866, -0.011537354084874236], 'service_smtp': [3.6352191076729747, 0.064833067950171], 'service_urp_i': [1.0650031747212976, 0.01932678856398204], 'flag_RSTR': [1.1393108178114464, -0.0072009971825016785]}\n"
     ]
    },
    {
     "data": {
      "text/plain": [
       "22"
      ]
     },
     "execution_count": 165,
     "metadata": {},
     "output_type": "execute_result"
    }
   ],
   "source": [
    "# Create a list vif that stores all of the vif values for each of the features\n",
    "#vif2 = [variance_inflation_factor(lasso_df_features, i) for i in range(len(lasso_df_features.columns))]\n",
    "# Bind the features to their vif value for analysis, only keep the features with vif>2\n",
    "vif2_dict = {lasso_df_features.columns[i]:[vif2[i], v]  for i,v in enumerate(lasso_dict.values())}\n",
    "print(vif2_dict)\n",
    "len(vif2_dict)"
   ]
  },
  {
   "cell_type": "code",
   "execution_count": null,
   "metadata": {},
   "outputs": [],
   "source": [
    "sns.heatmap()"
   ]
  },
  {
   "cell_type": "code",
   "execution_count": 154,
   "metadata": {},
   "outputs": [
    {
     "name": "stdout",
     "output_type": "stream",
     "text": [
      "21 ['diff_srv_rate', 'dst_bytes', 'dst_host_count', 'dst_host_srv_diff_host_rate', 'duration', 'flag_RSTOS0', 'flag_S3', 'land', 'num_access_files', 'num_failed_logins', 'num_file_creations', 'num_shells', 'root_shell', 'service_X11', 'service_pm_dump', 'service_tftp_u', 'src_bytes', 'srv_diff_host_rate', 'su_attempted', 'urgent', 'wrong_fragment']\n",
      "11 ['dst_host_srv_diff_host_rate', 'flag_RSTR', 'hot', 'is_guest_login', 'service_auth', 'service_finger', 'service_ftp_data', 'service_other', 'service_smtp', 'service_urp_i', 'wrong_fragment']\n"
     ]
    }
   ],
   "source": [
    "usable1 = [key for key, value in vif_dict.items() if value < 4]\n",
    "usable2 = [key for key, value in vif2_dict.items() if value < 4]\n",
    "print(len(usable1), sorted(usable1))\n",
    "print(len(usable2), sorted(usable2))"
   ]
  }
 ],
 "metadata": {
  "kernelspec": {
   "display_name": "Capstone-2",
   "language": "python",
   "name": "python3"
  },
  "language_info": {
   "codemirror_mode": {
    "name": "ipython",
    "version": 3
   },
   "file_extension": ".py",
   "mimetype": "text/x-python",
   "name": "python",
   "nbconvert_exporter": "python",
   "pygments_lexer": "ipython3",
   "version": "3.10.9"
  },
  "orig_nbformat": 4,
  "vscode": {
   "interpreter": {
    "hash": "d8543b166641ea1797de370a5e8e08ae0d0fefd655bae34b1f79dc9cd0932f8b"
   }
  }
 },
 "nbformat": 4,
 "nbformat_minor": 2
}
