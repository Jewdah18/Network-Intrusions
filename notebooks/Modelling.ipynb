{
 "cells": [
  {
   "attachments": {},
   "cell_type": "markdown",
   "metadata": {},
   "source": [
    "# **Modeling**"
   ]
  },
  {
   "attachments": {},
   "cell_type": "markdown",
   "metadata": {},
   "source": [
    "#### **Import Packages**"
   ]
  },
  {
   "cell_type": "code",
   "execution_count": 19,
   "metadata": {},
   "outputs": [],
   "source": [
    "import numpy as np\n",
    "import pandas as pd\n",
    "import matplotlib.pyplot as plt\n",
    "import os\n",
    "from sklearn.ensemble import RandomForestClassifier\n",
    "\n",
    "import torch \n",
    "import torch.nn as nn\n",
    "import torch.optim as optim\n",
    "\n",
    "import tensorflow as tf\n",
    "\n",
    "from keras.models import Sequential\n",
    "from keras.layers import Dense\n",
    "from keras import backend as K\n",
    "from keras.utils import to_categorical\n",
    "\n",
    "\n",
    "from sklearn.model_selection import train_test_split\n",
    "from sklearn.preprocessing import LabelEncoder\n",
    "from sklearn.metrics import classification_report\n",
    "from sklearn.metrics import roc_curve, auc\n",
    "\n",
    "from tqdm import tqdm\n",
    "\n",
    "plt.style.use('dark_background')"
   ]
  },
  {
   "attachments": {},
   "cell_type": "markdown",
   "metadata": {},
   "source": [
    "#### Set Directory"
   ]
  },
  {
   "cell_type": "code",
   "execution_count": 2,
   "metadata": {},
   "outputs": [],
   "source": [
    "# Change the directory to capstone 2\n",
    "os.chdir(r'C:\\Users\\jdrel\\OneDrive\\Documents\\Data_Science\\Springboard\\Capstone-2')"
   ]
  },
  {
   "attachments": {},
   "cell_type": "markdown",
   "metadata": {},
   "source": [
    "#### **Load the Data**"
   ]
  },
  {
   "cell_type": "code",
   "execution_count": 3,
   "metadata": {},
   "outputs": [],
   "source": [
    "# Import the small training set\n",
    "small_train = pd.read_csv('./data/processed/small_train.csv')\n",
    "\n",
    "# Import the small test set\n",
    "small_test = pd.read_csv('./data/processed/small_test.csv')\n",
    "\n",
    "# Import the small training set\n",
    "big_train = pd.read_csv('./data/processed/big_train.csv')\n",
    "\n",
    "# Import the small test set\n",
    "big_test = pd.read_csv('./data/processed/big_test.csv')\n"
   ]
  },
  {
   "attachments": {},
   "cell_type": "markdown",
   "metadata": {},
   "source": [
    "Now that I have loaded the datasets, I need to separate out the features (X) from the target variable (y) so that it is easy to run the models. "
   ]
  },
  {
   "cell_type": "code",
   "execution_count": 6,
   "metadata": {},
   "outputs": [],
   "source": [
    "# Create the X which is only features in the training data\n",
    "X_small = small_train.drop(['labels', 'group'], axis = 1)\n",
    "# Create X small for the test set\n",
    "X_small_test = small_test.drop(['labels', 'group'], axis = 1)\n",
    "# Do the same thing for the bigger data set\n",
    "X_big = big_train.drop(['labels', 'group'], axis = 1)\n",
    "# Create X big for the test set\n",
    "X_big_test = big_test.drop(['labels'], axis = 1)\n",
    "# Create the binary y for the training set.\n",
    "y_train = np.where(small_train['labels'] == 'normal.', 0, 1)\n",
    "# Create the binary y for the test set\n",
    "y_test = np.where(small_test['labels'] == 'normal.', 0, 1)"
   ]
  },
  {
   "attachments": {},
   "cell_type": "markdown",
   "metadata": {},
   "source": [
    "### **Neural Network**"
   ]
  },
  {
   "attachments": {},
   "cell_type": "markdown",
   "metadata": {},
   "source": [
    "I wanted to use a gpu for my neural network to speed up the processing significantly. Unfortunately Tensorflow has discontinued support for windows so I will not be able to use my gpu. Fortunately the models that I used in this notebook are not too time intensive that I needed to use the GPU."
   ]
  },
  {
   "cell_type": "code",
   "execution_count": 16,
   "metadata": {},
   "outputs": [
    {
     "name": "stdout",
     "output_type": "stream",
     "text": [
      "GPU is available\n"
     ]
    }
   ],
   "source": [
    "# Check if GPU is available\n",
    "if torch.cuda.is_available():\n",
    "    device = torch.device(\"cuda\")  # Use the GPU\n",
    "    print(\"GPU is available\")\n",
    "else:\n",
    "    device = torch.device(\"cpu\")  # Use the CPU\n",
    "    print(\"GPU is not available, using CPU\")"
   ]
  },
  {
   "cell_type": "code",
   "execution_count": 17,
   "metadata": {},
   "outputs": [
    {
     "data": {
      "text/plain": [
       "device(type='cuda')"
      ]
     },
     "execution_count": 17,
     "metadata": {},
     "output_type": "execute_result"
    }
   ],
   "source": [
    "torch.device(\"cuda\")"
   ]
  },
  {
   "cell_type": "code",
   "execution_count": 42,
   "metadata": {},
   "outputs": [
    {
     "name": "stderr",
     "output_type": "stream",
     "text": [
      "100%|██████████| 74/74 [00:00<00:00, 228.97it/s]\n"
     ]
    },
    {
     "name": "stdout",
     "output_type": "stream",
     "text": [
      "Epoch [1/10], Step [3650001/3673822], Loss: 0.6146, Accuracy: 0.8966\r"
     ]
    },
    {
     "name": "stderr",
     "output_type": "stream",
     "text": [
      "100%|██████████| 74/74 [00:00<00:00, 264.43it/s]\n"
     ]
    },
    {
     "name": "stdout",
     "output_type": "stream",
     "text": [
      "Epoch [2/10], Step [3650001/3673822], Loss: 0.0640, Accuracy: 0.9965\r"
     ]
    },
    {
     "name": "stderr",
     "output_type": "stream",
     "text": [
      "100%|██████████| 74/74 [00:00<00:00, 283.54it/s]\n"
     ]
    },
    {
     "name": "stdout",
     "output_type": "stream",
     "text": [
      "Epoch [3/10], Step [3650001/3673822], Loss: 0.0138, Accuracy: 0.9967\r"
     ]
    },
    {
     "name": "stderr",
     "output_type": "stream",
     "text": [
      "100%|██████████| 74/74 [00:00<00:00, 294.15it/s]\n"
     ]
    },
    {
     "name": "stdout",
     "output_type": "stream",
     "text": [
      "Epoch [4/10], Step [3650001/3673822], Loss: 0.0103, Accuracy: 0.9968\r"
     ]
    },
    {
     "name": "stderr",
     "output_type": "stream",
     "text": [
      "100%|██████████| 74/74 [00:00<00:00, 286.89it/s]\n"
     ]
    },
    {
     "name": "stdout",
     "output_type": "stream",
     "text": [
      "Epoch [5/10], Step [3650001/3673822], Loss: 0.0091, Accuracy: 0.9977\r"
     ]
    },
    {
     "name": "stderr",
     "output_type": "stream",
     "text": [
      "100%|██████████| 74/74 [00:00<00:00, 270.55it/s]\n"
     ]
    },
    {
     "name": "stdout",
     "output_type": "stream",
     "text": [
      "Epoch [6/10], Step [3650001/3673822], Loss: 0.0086, Accuracy: 0.9979\r"
     ]
    },
    {
     "name": "stderr",
     "output_type": "stream",
     "text": [
      "100%|██████████| 74/74 [00:00<00:00, 283.12it/s]\n"
     ]
    },
    {
     "name": "stdout",
     "output_type": "stream",
     "text": [
      "Epoch [7/10], Step [3650001/3673822], Loss: 0.0073, Accuracy: 0.9982\r"
     ]
    },
    {
     "name": "stderr",
     "output_type": "stream",
     "text": [
      "100%|██████████| 74/74 [00:00<00:00, 316.74it/s]\n"
     ]
    },
    {
     "name": "stdout",
     "output_type": "stream",
     "text": [
      "Epoch [8/10], Step [3650001/3673822], Loss: 0.0071, Accuracy: 0.9980\r"
     ]
    },
    {
     "name": "stderr",
     "output_type": "stream",
     "text": [
      "100%|██████████| 74/74 [00:00<00:00, 283.16it/s]\n"
     ]
    },
    {
     "name": "stdout",
     "output_type": "stream",
     "text": [
      "Epoch [9/10], Step [3650001/3673822], Loss: 0.0077, Accuracy: 0.9979\r"
     ]
    },
    {
     "name": "stderr",
     "output_type": "stream",
     "text": [
      "100%|██████████| 74/74 [00:00<00:00, 283.84it/s]\n"
     ]
    },
    {
     "name": "stdout",
     "output_type": "stream",
     "text": [
      "Epoch [10/10], Step [3650001/3673822], Loss: 0.0067, Accuracy: 0.9983\r"
     ]
    }
   ],
   "source": [
    "# Create a train and test data from the full dataset\n",
    "X_train, X_test, y_tr, y_te = train_test_split(X_small, y_train, test_size = .25, random_state = 42)\n",
    "\n",
    "# Define the model class\n",
    "class Net(nn.Module):\n",
    "    def __init__(self, input_dim):\n",
    "        super(Net, self).__init__()\n",
    "        self.fc1 = nn.Linear(input_dim, 12)\n",
    "        self.fc2 = nn.Linear(12, 12)\n",
    "        self.fc3 = nn.Linear(12, 12)\n",
    "        self.fc4 = nn.Linear(12, 12)\n",
    "        self.fc5 = nn.Linear(12, 8)\n",
    "        self.fc6 = nn.Linear(8, 1)\n",
    "        self.activation = nn.ReLU()\n",
    "        self.sigmoid = nn.Sigmoid()\n",
    "\n",
    "    def forward(self, x):\n",
    "        x = self.activation(self.fc1(x))\n",
    "        x = self.activation(self.fc2(x))\n",
    "        x = self.activation(self.fc3(x))\n",
    "        x = self.activation(self.fc4(x))\n",
    "        x = self.activation(self.fc5(x))\n",
    "        x = self.sigmoid(self.fc6(x))\n",
    "        return x\n",
    "\n",
    "# Create an instance of the model\n",
    "model = Net(X_train.shape[1])\n",
    "\n",
    "# Move the model to the GPU if available\n",
    "device = torch.device(\"cuda\" if torch.cuda.is_available() else \"cpu\")\n",
    "model.to(device)\n",
    "\n",
    "# Define the loss function\n",
    "criterion = nn.BCELoss()\n",
    "\n",
    "# Define the optimizer\n",
    "optimizer = optim.Adam(model.parameters())\n",
    "\n",
    "# Convert the data to torch tensors and move to the GPU\n",
    "X_train_tensor = torch.Tensor(X_train.values).float().to(device)\n",
    "y_train_tensor = torch.Tensor(y_tr).float().to(device)\n",
    "X_test_tensor = torch.Tensor(X_test.values).float().to(device)\n",
    "\n",
    "# Training loop\n",
    "num_epochs = 10\n",
    "batch_size = 50000\n",
    "\n",
    "for epoch in range(num_epochs):\n",
    "    # Shuffle the data at the start of each epoch\n",
    "    indices = np.random.permutation(len(X_train_tensor))\n",
    "    shuffled_X = X_train_tensor[indices]\n",
    "    shuffled_y = y_train_tensor[indices]\n",
    "    \n",
    "    # Set the model to training mode\n",
    "    model.train()\n",
    "\n",
    "    # Mini-batch training\n",
    "    for i in tqdm(range(0, len(X_train_tensor), batch_size), leave = True):\n",
    "\n",
    "        batch_X = shuffled_X[i:i+batch_size]\n",
    "        batch_y = shuffled_y[i:i+batch_size]\n",
    "\n",
    "        # Forward pass\n",
    "        outputs = model(batch_X)\n",
    "        outputs = outputs.view(-1)\n",
    "        loss = criterion(outputs, batch_y)\n",
    "\n",
    "        # Backward and optimize\n",
    "        optimizer.zero_grad()\n",
    "        loss.backward()\n",
    "        optimizer.step()\n",
    "\n",
    "        # Compute accuracy\n",
    "        predicted_labels = (outputs > 0.5).float()\n",
    "        accuracy = (predicted_labels == batch_y).float().mean()\n",
    "\n",
    "    # Print loss and accuracy\n",
    "    print(f'\\rEpoch [{epoch+1}/{num_epochs}], Step [{i+1}/{len(X_train_tensor)}], Loss: {loss.item():.4f}, Accuracy: {accuracy.item():.4f}', end = '\\r')\n",
    "        \n",
    "\n",
    "\n",
    "# Set the model to evaluation mode\n",
    "model.eval()\n",
    "\n",
    "# Move the model and data back to the CPU\n",
    "model.to(\"cpu\")\n",
    "X_test_tensor = X_test_tensor.to(\"cpu\")\n",
    "\n",
    "# Perform predictions on the test set\n",
    "with torch.no_grad():\n",
    "    preds = model(X_test_tensor)\n",
    "\n",
    "# Convert the predictions tensor to a numpy array\n",
    "preds = preds.numpy()\n",
    "\n",
    "# Classify the predicitions as 0 or 1 since the values the sigmoid produces are not exact\n",
    "preds = np.where(preds < .5, 0, 1)\n"
   ]
  },
  {
   "cell_type": "code",
   "execution_count": 41,
   "metadata": {},
   "outputs": [
    {
     "name": "stdout",
     "output_type": "stream",
     "text": [
      "              precision    recall  f1-score   support\n",
      "\n",
      "           0       0.98      1.00      0.99    243103\n",
      "           1       1.00      1.00      1.00    981505\n",
      "\n",
      "    accuracy                           1.00   1224608\n",
      "   macro avg       0.99      1.00      0.99   1224608\n",
      "weighted avg       1.00      1.00      1.00   1224608\n",
      "\n"
     ]
    }
   ],
   "source": [
    "# Print the classification report \n",
    "print(classification_report(y_te, preds))"
   ]
  },
  {
   "attachments": {},
   "cell_type": "markdown",
   "metadata": {},
   "source": [
    "#### **Small Data**"
   ]
  },
  {
   "attachments": {},
   "cell_type": "markdown",
   "metadata": {},
   "source": [
    "The first model that I'm going to run is going to use only the training data and using train_test_split to create the test set. Because the official test set contains new values, I want to see how well the data and the model perform when they are only using the type of data that they have been trained for. This in a sense is cross validation because I can still go back and change the model based on this result."
   ]
  },
  {
   "cell_type": "code",
   "execution_count": 39,
   "metadata": {},
   "outputs": [
    {
     "name": "stdout",
     "output_type": "stream",
     "text": [
      "Epoch 1/3\n",
      "74/74 [==============================] - 4s 10ms/step - loss: 0.5903 - binary_accuracy: 0.8316\n",
      "Epoch 2/3\n",
      "74/74 [==============================] - 1s 10ms/step - loss: 0.1657 - binary_accuracy: 0.9861\n",
      "Epoch 3/3\n",
      "74/74 [==============================] - 1s 9ms/step - loss: 0.0236 - binary_accuracy: 0.9968\n",
      "38269/38269 [==============================] - 39s 1ms/step\n",
      "              precision    recall  f1-score   support\n",
      "\n",
      "           0       0.99      0.99      0.99    243103\n",
      "           1       1.00      1.00      1.00    981505\n",
      "\n",
      "    accuracy                           1.00   1224608\n",
      "   macro avg       1.00      1.00      1.00   1224608\n",
      "weighted avg       1.00      1.00      1.00   1224608\n",
      "\n"
     ]
    }
   ],
   "source": [
    "# Create a train and test data from the full dataset\n",
    "X_train, X_test, y_tr, y_te = train_test_split(X_small, y_train, test_size = .25, random_state = 42)\n",
    "\n",
    "# Initialize the model\n",
    "nnettrain = Sequential()\n",
    "\n",
    "# Create the first layer of the deep learning model with input set the number of features in X_train\n",
    "nnettrain.add(Dense(12, activation = 'relu', input_dim = X_train.shape[1]))\n",
    "# Add a middle layer to give the model more complexity\n",
    "nnettrain.add(Dense(12, activation = 'relu'))\n",
    "# Add a middle layer to give the model more complexity\n",
    "nnettrain.add(Dense(12, activation = 'relu'))\n",
    "# Add a middle layer to give the model more complexity\n",
    "nnettrain.add(Dense(12, activation = 'relu'))\n",
    "# Add a middle layer to give the model more complexity\n",
    "nnettrain.add(Dense(8, activation = 'relu'))\n",
    "# Finish on a single node with sigmoid activation so that the result is between 0 and 1\n",
    "nnettrain.add(Dense(1, activation = 'sigmoid'))\n",
    "\n",
    "# Compile the network with the standard optimiizer and loss function\n",
    "nnettrain.compile(optimizer = 'adam', loss = 'binary_crossentropy', metrics = ['binary_accuracy'])\n",
    "\n",
    "# Train the model whle converting X_train and y_train into floats. Given the accuracy 3 epochs is good enough\n",
    "nnettrain.fit(X_train.astype('float32'), y_tr.astype('float32'), epochs = 3, batch_size = 50000)\n",
    "\n",
    "# Create the predictions\n",
    "preds = nnettrain.predict(X_test)\n",
    "\n",
    "# Classify the predicitions as 0 or 1 since the values the sigmoid produces are not exact\n",
    "preds = np.where(preds < .5, 0, 1)\n",
    "# Print the classification report \n",
    "print(classification_report(y_te, preds))"
   ]
  },
  {
   "attachments": {},
   "cell_type": "markdown",
   "metadata": {},
   "source": [
    "This is an incredible result. The model was able to perfectly predict if there was an intrusion in the test set every single time. This may in part be due to luck as some of the rarer intrusion types might not have been in the test set.\n",
    "\n",
    "With this result I'm now going to try and use this model on the test set to see if we can get the same results as cross validation with the training set."
   ]
  },
  {
   "cell_type": "code",
   "execution_count": 18,
   "metadata": {},
   "outputs": [
    {
     "name": "stdout",
     "output_type": "stream",
     "text": [
      "9720/9720 [==============================] - 10s 1ms/step\n",
      "              precision    recall  f1-score   support\n",
      "\n",
      "           0       0.72      0.86      0.78     60592\n",
      "           1       0.96      0.92      0.94    250436\n",
      "\n",
      "    accuracy                           0.91    311028\n",
      "   macro avg       0.84      0.89      0.86    311028\n",
      "weighted avg       0.92      0.91      0.91    311028\n",
      "\n"
     ]
    }
   ],
   "source": [
    "# Create the predictions for the test result\n",
    "preds_of = nnettrain.predict(X_small_test)\n",
    "\n",
    "# Classify the predicitions as 0 or 1 since the values the sigmoid produces are not exact\n",
    "preds_of = np.where(preds_of < .5, 0, 1)\n",
    "# Print the classification report\n",
    "print(classification_report(y_test, preds_of))"
   ]
  },
  {
   "attachments": {},
   "cell_type": "markdown",
   "metadata": {},
   "source": [
    "Unfortunately the model was significantly less than perfect with the official test set. This is in part because there are a lot of new intrusion types that the model couldn't train for. My theory is that the model found patterns that predicted the training intrusions but never found a generalizable pattern for normal observations. Once the intrusions changed the model struggled to keep up with the new information.\n",
    "\n",
    "It is also important to remember that there is an uneven distribution between intrusions and non intrusions. Below I calculated the percentage of the test set that had intrusions in it."
   ]
  },
  {
   "cell_type": "code",
   "execution_count": 19,
   "metadata": {},
   "outputs": [
    {
     "name": "stdout",
     "output_type": "stream",
     "text": [
      "No Intrusion: 19.5%\n",
      "Intrusion: 80.5%\n"
     ]
    }
   ],
   "source": [
    "# Store the unique values and their counts in separate variables\n",
    "vals, counts = np.unique(y_test, return_counts = True)\n",
    "# Create value_counts(normalize=True) for np array\n",
    "prop_counts = counts/len(y_test)\n",
    "# print the % of observations with no intrusion\n",
    "print(f'No Intrusion: {round(prop_counts[0]*100, 1)}%')\n",
    "# print the % of observations with an intrusion\n",
    "print(f'Intrusion: {round(prop_counts[1]*100,1)}%')"
   ]
  },
  {
   "attachments": {},
   "cell_type": "markdown",
   "metadata": {},
   "source": [
    "Above we see that only 19.5% of the test set contains no intrusion so If I had built a model that always predicted intrusion, It would have been high on precision and recall for 1 and very low for zero. The accuracy scores show that this model is providing important value as they would be 50 if the model guessed intrusion every time. It is also important to note that the test set contains new intrusion types that aren't like the training set. Given the very high training scores, if I had a dataset that didn't have the new intrusion types this model would have been nearly perfect.\n",
    "\n",
    "To get a better understanding of how well the model performed at predicting normal observations I can use the Reciever under the Curve metric which measures the True Positive Rate (TPR) against the False Positive Rate (FPR). A ROC area of greater that 0.8 is good and an ROC curve of 0.9 or greater is excellent."
   ]
  },
  {
   "cell_type": "code",
   "execution_count": 34,
   "metadata": {},
   "outputs": [
    {
     "data": {
      "image/png": "[encoded data removed]",
      "text/plain": [
       "<Figure size 640x480 with 1 Axes>"
      ]
     },
     "metadata": {},
     "output_type": "display_data"
    }
   ],
   "source": [
    "# compute the false positive rate, true positive rate, and threshold for normal observations\n",
    "fpr, tpr, thresholds = roc_curve(y_test, preds_of)\n",
    "\n",
    "# calculate the AUC\n",
    "roc_auc = auc(fpr, tpr)\n",
    "\n",
    "# plot the ROC curve\n",
    "plt.plot(fpr, tpr, label='ROC curve (area = %0.2f)' % roc_auc);\n",
    "# Plot the baseline 50-50 dashed line\n",
    "plt.plot([0, 1], [0, 1], '--', color = 'w');\n",
    "# Set the x axis limits\n",
    "plt.xlim([0.0, 1.0]);\n",
    "# Set the y axis limits\n",
    "plt.ylim([0.0, 1.05]);\n",
    "# Label the x-axis\n",
    "plt.xlabel('False Positive Rate');\n",
    "# Label the y-axis\n",
    "plt.ylabel('True Positive Rate');\n",
    "# Title the plot\n",
    "plt.title('Receiver Operating Characteristic');\n",
    "# Create the legend that has the area under the curve\n",
    "plt.legend(loc=\"lower right\");\n",
    "# Show the graph\n",
    "plt.show();"
   ]
  },
  {
   "attachments": {},
   "cell_type": "markdown",
   "metadata": {},
   "source": [
    "An ROC curve of .89 is really good although not great. Given the disparity between the official testset and the unofficial testset, it is important to see how the model did when the observations contained the new attack types. "
   ]
  },
  {
   "cell_type": "code",
   "execution_count": 42,
   "metadata": {},
   "outputs": [
    {
     "name": "stdout",
     "output_type": "stream",
     "text": [
      "              precision    recall  f1-score   support\n",
      "\n",
      "           0       0.00      0.00      0.00         0\n",
      "           1       1.00      0.13      0.24     18729\n",
      "\n",
      "    accuracy                           0.13     18729\n",
      "   macro avg       0.50      0.07      0.12     18729\n",
      "weighted avg       1.00      0.13      0.24     18729\n",
      "\n"
     ]
    }
   ],
   "source": [
    "# Create a list of all the new attack types. This list was taken from preprocessing notebook\n",
    "new_attacks = ['xsnoop.', 'udpstorm.', 'mscan.', 'named.', 'processtable.', 'xlock.', 'snmpgetattack.', \n",
    "               'snmpguess.', 'worm.', 'ps.', 'httptunnel.', 'sendmail.', 'saint.', 'mailbomb.', 'apache2.', 'xterm.', 'sqlattack.']\n",
    "# Create a mask for all values that are in new attacks in the test set\n",
    "mask = small_test['labels'].isin(new_attacks)\n",
    "# Use the mask to find all the y-test values that are from new labels\n",
    "y_test_new = y_test[mask]\n",
    "# Use the mask to find all the prediction values that are from new labels\n",
    "preds_new = preds_of[mask]\n",
    "# Print the classification report\n",
    "print(classification_report(y_test_new, preds_new, zero_division = 0))"
   ]
  },
  {
   "attachments": {},
   "cell_type": "markdown",
   "metadata": {},
   "source": [
    "This is not the result that I hoped for. Out of all the observations that had new attack types only 13% of the time the model classified those as attack types. We can see which attack types the model was best at predicting."
   ]
  },
  {
   "cell_type": "code",
   "execution_count": 73,
   "metadata": {},
   "outputs": [
    {
     "data": {
      "text/plain": [
       "apache2.         793\n",
       "processtable.    694\n",
       "saint.           603\n",
       "mscan.           262\n",
       "httptunnel.      119\n",
       "ps.                7\n",
       "xterm.             5\n",
       "xlock.             4\n",
       "xsnoop.            4\n",
       "sendmail.          4\n",
       "sqlattack.         2\n",
       "named.             1\n",
       "Name: labels, dtype: int64"
      ]
     },
     "execution_count": 73,
     "metadata": {},
     "output_type": "execute_result"
    }
   ],
   "source": [
    "# create a dataframe that is a column of labels that only has the new labels\n",
    "new_labels = pd.DataFrame(small_test['labels'][mask], columns = ['labels']).reset_index(drop=True)\n",
    "# create a dataframe that is a column of labels that only has the predictions\n",
    "pred_df = pd.DataFrame(preds_new, columns = ['pred']).reset_index(drop=True)\n",
    "# Combine the labels and the predictions for analysis\n",
    "new_intrusions = pd.concat([new_labels, pred_df], axis = 1)\n",
    "# Run value counts when the prediction is positive to see which new intrusions the model captures\n",
    "new_intrusions.loc[new_intrusions['pred'] == 1, 'labels'].value_counts()"
   ]
  },
  {
   "attachments": {},
   "cell_type": "markdown",
   "metadata": {},
   "source": [
    "And which new intrusion types the model was the worst at predicting."
   ]
  },
  {
   "cell_type": "code",
   "execution_count": 74,
   "metadata": {},
   "outputs": [
    {
     "data": {
      "text/plain": [
       "snmpgetattack.    7741\n",
       "mailbomb.         5000\n",
       "snmpguess.        2406\n",
       "mscan.             791\n",
       "saint.             133\n",
       "processtable.       65\n",
       "httptunnel.         39\n",
       "named.              16\n",
       "sendmail.           13\n",
       "ps.                  9\n",
       "xterm.               8\n",
       "xlock.               5\n",
       "udpstorm.            2\n",
       "worm.                2\n",
       "apache2.             1\n",
       "Name: labels, dtype: int64"
      ]
     },
     "execution_count": 74,
     "metadata": {},
     "output_type": "execute_result"
    }
   ],
   "source": [
    "# Run value counts when the prediction is negative to see which new intrusions the model doesn't capture\n",
    "new_intrusions.loc[new_intrusions['pred'] == 0, 'labels'].value_counts()"
   ]
  },
  {
   "attachments": {},
   "cell_type": "markdown",
   "metadata": {},
   "source": [
    "It is interesting that some of the new intrusion types the model totally disregarded where as some of the new intrusion types it did a great job. If this model was operational it would most likely start doing significantly better after it had trained on the new attack types while still giving some protection against attack types that were similar to the training set. "
   ]
  },
  {
   "attachments": {},
   "cell_type": "markdown",
   "metadata": {},
   "source": [
    "#### **Categorical Models**"
   ]
  },
  {
   "cell_type": "code",
   "execution_count": 78,
   "metadata": {},
   "outputs": [
    {
     "name": "stdout",
     "output_type": "stream",
     "text": [
      "Epoch 1/3\n",
      "73477/73477 [==============================] - 121s 2ms/step - loss: 0.0120 - accuracy: 0.9970\n",
      "Epoch 2/3\n",
      "73477/73477 [==============================] - 122s 2ms/step - loss: 0.0075 - accuracy: 0.9982\n",
      "Epoch 3/3\n",
      "73477/73477 [==============================] - 119s 2ms/step - loss: 0.0073 - accuracy: 0.9983\n",
      "38269/38269 [==============================] - 43s 1ms/step\n",
      "              precision    recall  f1-score   support\n",
      "\n",
      " brute force       0.00      0.00      0.00        19\n",
      "       files       0.00      0.00      0.00         6\n",
      "    internal       1.00      1.00      1.00    702901\n",
      "        none       1.00      1.00      1.00    243103\n",
      "       pings       1.00      1.00      1.00    268035\n",
      "     scripts       0.00      0.00      0.00         3\n",
      "      sweeps       0.97      0.90      0.94     10285\n",
      "       warez       0.00      0.00      0.00       256\n",
      "\n",
      "    accuracy                           1.00   1224608\n",
      "   macro avg       0.50      0.49      0.49   1224608\n",
      "weighted avg       1.00      1.00      1.00   1224608\n",
      "\n"
     ]
    }
   ],
   "source": [
    "# Create a train and test data from the full dataset\n",
    "X_train, X_test, y_tr, y_te = train_test_split(X_small, small_train['group'], test_size = .25, random_state = 42)\n",
    "\n",
    "# Encode the different groups as numeric values\n",
    "label_encoder = LabelEncoder()\n",
    "# fit and transform the y training data with label encoder\n",
    "y_group = label_encoder.fit_transform(y_tr)\n",
    "# transfrom the encoded data to a categorical variable\n",
    "y_group = to_categorical(y_group, num_classes = 8)\n",
    "\n",
    "# Initialize the model\n",
    "nnettraincat = Sequential()\n",
    "\n",
    "# Create the first layer of the deep learning model with input set the number of features in X_train\n",
    "nnettraincat.add(Dense(12, activation = 'relu', input_dim = X_small.shape[1]))\n",
    "# Add a middle layer to give the model more complexity\n",
    "nnettraincat.add(Dense(12, activation = 'relu'))\n",
    "# Add a middle layer to give the model more complexity\n",
    "nnettraincat.add(Dense(12, activation = 'relu'))\n",
    "# Add a middle layer to give the model more complexity\n",
    "nnettraincat.add(Dense(12, activation = 'relu'))\n",
    "# Add a middle layer to give the model more complexity\n",
    "nnettraincat.add(Dense(12, activation = 'relu'))\n",
    "# Finish with the same amount of nodes as categories that there are to predict\n",
    "nnettraincat.add(Dense(8, activation = 'softmax'))\n",
    "\n",
    "# Compile the network with the standard optimiizer and loss function\n",
    "nnettraincat.compile(optimizer = 'adam', loss = 'categorical_crossentropy', metrics = ['accuracy'])\n",
    "# Train the model with X_train and the encoded categorical y_group\n",
    "nnettraincat.fit(X_train, y_group, epochs = 3, batch_size = 50)\n",
    "# Create the predictions. This creates an array that has as many columns as potential predictions\n",
    "preds = nnettraincat.predict(X_test)\n",
    "# Take the highest prediction as the model's prediction\n",
    "pred = preds.argmax(axis = 1)\n",
    "# get the intrusions corresponding to the encoder class.\n",
    "ints = label_encoder.classes_\n",
    "# Assign each of the predictions to the group that they correspond to\n",
    "predictions = [ints[i] for i in pred]\n",
    "# Print out the classification report\n",
    "print(classification_report(y_te, predictions, zero_division = 0))"
   ]
  },
  {
   "attachments": {},
   "cell_type": "markdown",
   "metadata": {},
   "source": [
    "This continues the earlier model's training perfect results for predicting if there is an intrusion or not. It is important to note that every group over with over 300 observations the model performed very well. Unfortunately the rare groups the model had a lot more trouble with. Given the amount of observations that are in the dataset the model is still clearly giving important information."
   ]
  },
  {
   "cell_type": "code",
   "execution_count": 79,
   "metadata": {},
   "outputs": [],
   "source": [
    "# redefine y_group variable as the 'group' column from the test set\n",
    "y_group = small_test['group']\n",
    "# Initialize the label encoder\n",
    "label_encoder = LabelEncoder()\n",
    "# fit and transform y_group\n",
    "y_group = label_encoder.fit_transform(y_group)\n",
    "# Transform the y_group variable to a categorical variable\n",
    "y_group = to_categorical(y_group, num_classes = 8)"
   ]
  },
  {
   "cell_type": "code",
   "execution_count": 80,
   "metadata": {},
   "outputs": [
    {
     "name": "stdout",
     "output_type": "stream",
     "text": [
      "9720/9720 [==============================] - 10s 1ms/step\n",
      "              precision    recall  f1-score   support\n",
      "\n",
      " brute force       0.00      0.00      0.00      7574\n",
      "       files       0.00      0.00      0.00         5\n",
      "    internal       0.96      0.99      0.98    165217\n",
      "        none       0.69      0.89      0.78     60592\n",
      "       pings       0.98      0.91      0.94     63109\n",
      "     scripts       0.00      0.00      0.00      8763\n",
      "      sweeps       0.55      0.50      0.52      4166\n",
      "       warez       0.00      0.00      0.00      1602\n",
      "\n",
      "    accuracy                           0.89    311028\n",
      "   macro avg       0.40      0.41      0.40    311028\n",
      "weighted avg       0.85      0.89      0.87    311028\n",
      "\n"
     ]
    }
   ],
   "source": [
    "# Predict the test dataset with the previous model\n",
    "preds = nnettraincat.predict(X_small_test)\n",
    "# Find the prediction that the model likes the most\n",
    "pred = preds.argmax(axis = 1)\n",
    "# Get the corresponding group types from label_encoder\n",
    "ints = label_encoder.classes_\n",
    "# find the intrusions for each prediction\n",
    "predictions = [ints[i] for i in pred]\n",
    "# Print the classification report\n",
    "print(classification_report(small_test['group'], predictions, zero_division = 0))"
   ]
  },
  {
   "attachments": {},
   "cell_type": "markdown",
   "metadata": {},
   "source": [
    "This is a horrible result as the none group had a significant reduction in precision. It is important to realize that the model was able to correctly identify 89% of the normal observations but there were a lot of false positives. I'm sure that there are a lot of ways to optimize the model that would better capture what is an intrusion and what is not."
   ]
  },
  {
   "attachments": {},
   "cell_type": "markdown",
   "metadata": {},
   "source": [
    "#### **Big Data**"
   ]
  },
  {
   "attachments": {},
   "cell_type": "markdown",
   "metadata": {},
   "source": [
    "Now is the chance to use the bigger dataset that is supposed to contain every features that can help distinguish between the intrusion types."
   ]
  },
  {
   "cell_type": "code",
   "execution_count": 87,
   "metadata": {},
   "outputs": [
    {
     "name": "stdout",
     "output_type": "stream",
     "text": [
      "              precision    recall  f1-score   support\n",
      "\n",
      " brute force       0.00      0.00      0.00        19\n",
      "       files       0.00      0.00      0.00         3\n",
      "    internal       1.00      1.00      1.00    703507\n",
      "        none       1.00      1.00      1.00    242578\n",
      "       pings       1.00      1.00      1.00    267962\n",
      "     scripts       0.00      0.00      0.00         4\n",
      "      sweeps       0.99      0.98      0.98     10290\n",
      "       warez       0.00      0.00      0.00       245\n",
      "\n",
      "    accuracy                           1.00   1224608\n",
      "   macro avg       0.50      0.50      0.50   1224608\n",
      "weighted avg       1.00      1.00      1.00   1224608\n",
      "\n"
     ]
    }
   ],
   "source": [
    "# Create a train and test data from the full dataset\n",
    "X_train, X_test, y_tr, y_te = train_test_split(X_big, small_train['group'], test_size = .25)\n",
    "\n",
    "# Initialize the label encoder\n",
    "label_encoder = LabelEncoder()\n",
    "# fit and transform the y training data with label encoder\n",
    "y_group = label_encoder.fit_transform(y_tr)\n",
    "# transfrom the encoded data to a categorical variable\n",
    "y_group = to_categorical(y_group, num_classes = 8)\n",
    "\n",
    "# Initialize the model\n",
    "nnetbigcat = Sequential()\n",
    "\n",
    "# Create the first layer of the deep learning model with input set the number of features in X_train\n",
    "nnetbigcat.add(Dense(61, activation = 'relu', input_dim = X_big.shape[1]))\n",
    "# Add a middle layer to give the model more complexity\n",
    "nnetbigcat.add(Dense(61, activation = 'relu'))\n",
    "# Add a middle layer to give the model more complexity\n",
    "nnetbigcat.add(Dense(61, activation = 'relu'))\n",
    "# Add a middle layer to give the model more complexity\n",
    "nnetbigcat.add(Dense(61, activation = 'relu'))\n",
    "# Add a middle layer to give the model more complexity\n",
    "nnetbigcat.add(Dense(61, activation = 'relu'))\n",
    "# Add a middle layer to give the model more complexity\n",
    "nnetbigcat.add(Dense(61, activation = 'relu'))\n",
    "# Add a middle layer to give the model more complexity\n",
    "nnetbigcat.add(Dense(61, activation = 'relu'))\n",
    "# Add a middle layer to give the model more complexity\n",
    "nnetbigcat.add(Dense(61, activation = 'relu'))\n",
    "# Add a middle layer to give the model more complexity\n",
    "nnetbigcat.add(Dense(61, activation = 'relu'))\n",
    "# Add a middle layer to give the model more complexity\n",
    "nnetbigcat.add(Dense(53, activation = 'relu'))\n",
    "# Add a middle layer to give the model more complexity\n",
    "nnetbigcat.add(Dense(38, activation = 'relu'))\n",
    "# Add a middle layer to give the model more complexity\n",
    "nnetbigcat.add(Dense(25, activation = 'relu'))\n",
    "# Add a middle layer to give the model more complexity\n",
    "nnetbigcat.add(Dense(14, activation = 'relu'))\n",
    "# Finish with the same amount of nodes as categories that there are to predict\n",
    "nnetbigcat.add(Dense(8, activation = 'softmax'))\n",
    "# Compile the network with the standard optimiizer and loss function\n",
    "nnetbigcat.compile(optimizer = 'adam', loss = 'binary_crossentropy', metrics = ['binary_accuracy'])\n",
    "# Train the model with X_train and the encoded categorical y_group\n",
    "nnetbigcat.fit(X_train.astype('float32'), y_group, epochs = 2, batch_size = 50)\n",
    "# Create the predictions. This creates an array that has as many columns as potential predictions\n",
    "preds = nnetbigcat.predict(X_test)\n",
    "# Take the highest prediction as the model's prediction\n",
    "pred = preds.argmax(axis = 1)\n",
    "# get the intrusions corresponding to the encoder class.\n",
    "ints = label_encoder.classes_\n",
    "# Assign each of the predictions to the group that they correspond to\n",
    "predictions = [ints[i] for i in pred]\n",
    "# Print out the classification report\n",
    "print(classification_report(y_te, predictions, zero_division = 0))"
   ]
  },
  {
   "attachments": {},
   "cell_type": "markdown",
   "metadata": {},
   "source": [
    "This was slightly more precise than the previous model where the sweeps group was nearly perfect. Now lets see how it performs on the official test set."
   ]
  },
  {
   "cell_type": "code",
   "execution_count": 88,
   "metadata": {},
   "outputs": [
    {
     "name": "stdout",
     "output_type": "stream",
     "text": [
      "9720/9720 [==============================] - 14s 1ms/step\n",
      "              precision    recall  f1-score   support\n",
      "\n",
      " brute force       0.00      0.00      0.00      7574\n",
      "       files       0.00      0.00      0.00         5\n",
      "    internal       0.97      1.00      0.99    165217\n",
      "        none       0.71      0.92      0.80     60592\n",
      "       pings       0.98      0.92      0.95     63109\n",
      "     scripts       0.00      0.00      0.00      8763\n",
      "      sweeps       0.77      0.68      0.72      4166\n",
      "       warez       0.00      0.00      0.00      1602\n",
      "\n",
      "    accuracy                           0.91    311028\n",
      "   macro avg       0.43      0.44      0.43    311028\n",
      "weighted avg       0.87      0.91      0.88    311028\n",
      "\n"
     ]
    }
   ],
   "source": [
    "# Predict the test dataset with the previous model\n",
    "preds = nnetbigcat.predict(X_big_test)\n",
    "# Find the prediction that the model likes the most\n",
    "pred = preds.argmax(axis = 1)\n",
    "# Get the corresponding group types from label_encoder\n",
    "ints = label_encoder.classes_\n",
    "# find the intrusions for each prediction\n",
    "predictions = [ints[i] for i in pred]\n",
    "# Print the classification report\n",
    "print(classification_report(small_test['group'], predictions, zero_division = 0))"
   ]
  },
  {
   "attachments": {},
   "cell_type": "markdown",
   "metadata": {},
   "source": [
    "Overall the neural networks were amazing at predicting intrusion types that had already happened. If this model was to be used at a security firm than the more diverse set of intrusions that it was allowed to train on the better it would do. Unfortunately there are a set of attacks that without training data is impossible for this model to catch. I don't know if there is a better way to train the model to catch them.\n",
    "\n",
    "The one thing that I wish I had done better was to get the model to generate more rare events. Given the size of the dataset and the rarety of some of the intrusion types the models just ignored those types and stuck with the more common intrusion types. If I had weighted the model and created some synthetic data with some of the rarer intrusion types that might have helped the model predict all intrusion types."
   ]
  },
  {
   "attachments": {},
   "cell_type": "markdown",
   "metadata": {},
   "source": [
    "### **Random Forrest**"
   ]
  },
  {
   "attachments": {},
   "cell_type": "markdown",
   "metadata": {},
   "source": [
    "The second type of model that I will use is random forrest which is an ensemble method of decision trees. The idea is that since hacking is an inherently human act, the process should follow some sort of decision tree where certain features being elevated or lowered should lead to certain types of intrusions. I did not have enough time to conduct a grid search or random search so I just did the basic version of a Random Forest Classifier."
   ]
  },
  {
   "cell_type": "code",
   "execution_count": 7,
   "metadata": {},
   "outputs": [
    {
     "name": "stdout",
     "output_type": "stream",
     "text": [
      "              precision    recall  f1-score   support\n",
      "\n",
      "           0       0.70      0.86      0.77     60592\n",
      "           1       0.96      0.91      0.94    250436\n",
      "\n",
      "    accuracy                           0.90    311028\n",
      "   macro avg       0.83      0.89      0.85    311028\n",
      "weighted avg       0.91      0.90      0.90    311028\n",
      "\n"
     ]
    }
   ],
   "source": [
    "# Create a random forest classifier with 100 trees\n",
    "rf = RandomForestClassifier(n_estimators=100, random_state= 42)\n",
    "\n",
    "# Fit the model to the data\n",
    "rf.fit(X_small, y_train)\n",
    "\n",
    "# Predict the test set\n",
    "rf_pred = rf.predict(X_small_test)\n",
    "\n",
    "# print the classification report\n",
    "print(classification_report(y_test, rf_pred, zero_division = 0))"
   ]
  },
  {
   "attachments": {},
   "cell_type": "markdown",
   "metadata": {},
   "source": [
    "This is slightly worse than the neural network but it is very close. It could be that If the hyper parameters were correctly tuned that the results would be better. Below is a categorical random forrest."
   ]
  },
  {
   "cell_type": "code",
   "execution_count": null,
   "metadata": {},
   "outputs": [],
   "source": [
    "# Create a random forest classifier with 100 trees\n",
    "rf = RandomForestClassifier(n_estimators=100, random_state= 42)\n",
    "\n",
    "# Fit the model to the data\n",
    "rf.fit(X_small, y_group)\n",
    "\n",
    "# Predict the test set\n",
    "rf_pred_group = rf.predict(X_small_test)"
   ]
  },
  {
   "cell_type": "code",
   "execution_count": 12,
   "metadata": {},
   "outputs": [
    {
     "name": "stdout",
     "output_type": "stream",
     "text": [
      "              precision    recall  f1-score   support\n",
      "\n",
      " brute force       0.01      0.01      0.01      7574\n",
      "       files       0.00      0.00      0.00         5\n",
      "    internal       0.82      0.80      0.81    165217\n",
      "        none       0.54      0.99      0.70     60592\n",
      "       pings       0.94      0.28      0.43     63109\n",
      "     scripts       0.00      0.00      0.00      8763\n",
      "      sweeps       0.20      0.50      0.29      4166\n",
      "       warez       0.00      0.00      0.00      1602\n",
      "\n",
      "    accuracy                           0.68    311028\n",
      "   macro avg       0.31      0.32      0.28    311028\n",
      "weighted avg       0.74      0.68      0.66    311028\n",
      "\n"
     ]
    }
   ],
   "source": [
    "# Predict the test dataset with the previous model\n",
    "preds = rf.predict(X_small_test)\n",
    "# Find the prediction that the model likes the most\n",
    "pred = preds.argmax(axis = 1)\n",
    "# Get the corresponding group types from label_encoder\n",
    "ints = label_encoder.classes_\n",
    "# find the intrusions for each prediction\n",
    "predictions = [ints[i] for i in pred]\n",
    "# Print the classification report\n",
    "print(classification_report(small_test['group'], predictions, zero_division = 0))"
   ]
  },
  {
   "attachments": {},
   "cell_type": "markdown",
   "metadata": {},
   "source": [
    "This did significantly worse than the neural network. It is important to note that it recalled 99% of all the non intrusion observations but its precision was so low that has much less importance than the recall would indicate.\n",
    "\n",
    "Below is the same but with the bigger dataset."
   ]
  },
  {
   "cell_type": "code",
   "execution_count": 93,
   "metadata": {},
   "outputs": [
    {
     "name": "stdout",
     "output_type": "stream",
     "text": [
      "              precision    recall  f1-score   support\n",
      "\n",
      " brute force       0.05      0.42      0.09      7574\n",
      "       files       0.00      0.00      0.00         5\n",
      "    internal       0.53      0.00      0.00    165217\n",
      "        none       0.21      0.78      0.34     60592\n",
      "       pings       0.98      0.28      0.43     63109\n",
      "     scripts       0.00      0.00      0.00      8763\n",
      "      sweeps       0.76      0.76      0.76      4166\n",
      "       warez       1.00      0.13      0.23      1602\n",
      "\n",
      "    accuracy                           0.23    311028\n",
      "   macro avg       0.44      0.30      0.23    311028\n",
      "weighted avg       0.54      0.23      0.17    311028\n",
      "\n"
     ]
    }
   ],
   "source": [
    "# Initialize the label encoder\n",
    "label_encoder = LabelEncoder()\n",
    "# fit and transform y_group\n",
    "y_group = label_encoder.fit_transform(small_train['group'])\n",
    "# Transform the y_group variable to a categorical variable\n",
    "y_group = to_categorical(y_group, num_classes = 8)\n",
    "\n",
    "\n",
    "# Create a random forest classifier with 100 trees\n",
    "rf = RandomForestClassifier(n_estimators=100, random_state= 42)\n",
    "\n",
    "# Fit the model to the data\n",
    "rf.fit(X_big, y_group)\n",
    "\n",
    "# Predict the test dataset with the previous model\n",
    "preds = rf.predict(X_big_test)\n",
    "# Find the prediction that the model likes the most\n",
    "pred = preds.argmax(axis = 1)\n",
    "# Get the corresponding group types from label_encoder\n",
    "ints = label_encoder.classes_\n",
    "# find the intrusions for each prediction\n",
    "predictions = [ints[i] for i in pred]\n",
    "# Print the classification report\n",
    "print(classification_report(small_test['group'], predictions, zero_division = 0))\n"
   ]
  },
  {
   "attachments": {},
   "cell_type": "markdown",
   "metadata": {},
   "source": [
    "## **Conclusion**\n",
    "\n",
    "From these results it is clear that the neural network model is the best model. With more time I could run a lot of hyper paramater tuning and investigate if taking the highest value soft max is the best decision or if maybe sometimes the model hints at something rarer that gets covered up by higher values of more common types. But until then the best model was the big data categorical model. It recalled 92% of all non intrusion observations and 71% precision while also giving valuable insight into the type of intrusion it was. This means that when the model predicted that there was an intrusion there was a 1-(.195*(1-.92)) = 98.4% chance that there was an intrusion."
   ]
  }
 ],
 "metadata": {
  "kernelspec": {
   "display_name": "Capstone-2",
   "language": "python",
   "name": "python3"
  },
  "language_info": {
   "codemirror_mode": {
    "name": "ipython",
    "version": 3
   },
   "file_extension": ".py",
   "mimetype": "text/x-python",
   "name": "python",
   "nbconvert_exporter": "python",
   "pygments_lexer": "ipython3",
   "version": "3.10.9"
  },
  "orig_nbformat": 4
 },
 "nbformat": 4,
 "nbformat_minor": 2
}
