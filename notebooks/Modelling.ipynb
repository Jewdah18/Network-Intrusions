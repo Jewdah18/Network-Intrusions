{
 "cells": [
  {
   "attachments": {},
   "cell_type": "markdown",
   "metadata": {},
   "source": [
    "# **Modeling**"
   ]
  },
  {
   "attachments": {},
   "cell_type": "markdown",
   "metadata": {},
   "source": [
    "#### **Import Packages**"
   ]
  },
  {
   "cell_type": "code",
   "execution_count": 2,
   "metadata": {},
   "outputs": [],
   "source": [
    "import numpy as np\n",
    "import pandas as pd\n",
    "import matplotlib.pyplot as plt\n",
    "import os\n",
    "from sklearn.ensemble import RandomForestClassifier\n",
    "\n",
    "import torch \n",
    "import torch.nn as nn\n",
    "import torch.optim as optim\n",
    "\n",
    "import tensorflow as tf\n",
    "\n",
    "from keras.models import Sequential\n",
    "from keras.layers import Dense\n",
    "from keras import backend as K\n",
    "from keras.utils import to_categorical\n",
    "\n",
    "\n",
    "from sklearn.model_selection import train_test_split\n",
    "from sklearn.preprocessing import LabelEncoder\n",
    "from sklearn.metrics import classification_report\n",
    "from sklearn.metrics import roc_curve, auc\n",
    "\n",
    "from tqdm import tqdm\n",
    "\n",
    "plt.style.use('dark_background')"
   ]
  },
  {
   "attachments": {},
   "cell_type": "markdown",
   "metadata": {},
   "source": [
    "#### Set Directory"
   ]
  },
  {
   "cell_type": "code",
   "execution_count": 3,
   "metadata": {},
   "outputs": [],
   "source": [
    "# Change the directory to capstone 2\n",
    "os.chdir(r'C:\\Users\\jdrel\\OneDrive\\Documents\\Data_Science\\Springboard\\Capstone-2')"
   ]
  },
  {
   "attachments": {},
   "cell_type": "markdown",
   "metadata": {},
   "source": [
    "#### **Load the Data**"
   ]
  },
  {
   "cell_type": "code",
   "execution_count": 4,
   "metadata": {},
   "outputs": [],
   "source": [
    "# Import the small training set\n",
    "small_train = pd.read_csv('./data/processed/small_train.csv')\n",
    "\n",
    "# Import the small test set\n",
    "small_test = pd.read_csv('./data/processed/small_test.csv')\n",
    "\n",
    "# Import the small training set\n",
    "big_train = pd.read_csv('./data/processed/big_train.csv')\n",
    "\n",
    "# Import the small test set\n",
    "big_test = pd.read_csv('./data/processed/big_test.csv')\n"
   ]
  },
  {
   "attachments": {},
   "cell_type": "markdown",
   "metadata": {},
   "source": [
    "Now that I have loaded the datasets, I need to separate out the features (X) from the target variable (y) so that it is easy to run the models. "
   ]
  },
  {
   "cell_type": "code",
   "execution_count": 5,
   "metadata": {},
   "outputs": [],
   "source": [
    "# Create the X which is only features in the training data\n",
    "X_small = small_train.drop(['labels', 'group'], axis = 1)\n",
    "# Create X small for the test set\n",
    "X_small_test = small_test.drop(['labels', 'group'], axis = 1)\n",
    "# Do the same thing for the bigger data set\n",
    "X_big = big_train.drop(['labels', 'group'], axis = 1)\n",
    "# Create X big for the test set\n",
    "X_big_test = big_test.drop(['labels'], axis = 1)\n",
    "# Create the binary y for the training set.\n",
    "y_train = np.where(small_train['labels'] == 'normal.', 0, 1)\n",
    "# Create the binary y for the test set\n",
    "y_test = np.where(small_test['labels'] == 'normal.', 0, 1)"
   ]
  },
  {
   "attachments": {},
   "cell_type": "markdown",
   "metadata": {},
   "source": [
    "### **Neural Network**\n",
    "\n",
    "I wanted to use a gpu for my neural network to speed up the processing significantly. I first tried keras since that is the simplest API for machine learning in Python. Unfortunately Tensorflow has discontinued support for Windows so I would have to find a lot of older versions of many of the packages in this environment just to get a tensorflow version my gpu can use. \n",
    "\n",
    "I didn't give up. If tensorflow wasn't going to use Windows I could still use linux. I installed Windows Subsystem for Linux (WSL) and tried a remote session with VScode to use tensorflow gpu. After many failed attempts I was able to get my gpu to run the neural networks with tensorflow in the Linux distribution in WSL. Sadly that took significantly longer to run than tensorflow on the cpu in windows. \n",
    "\n",
    "My last hope was to try pytorch on Windows since pytorch hasn't discontinued Windows support. I don't know how to use pytorch well but I have all the code from the keras API that I asked chatGPT to translate into Keras. After wrangling those translations, I found a way to run the neural net on the gpu and it is way faster."
   ]
  },
  {
   "cell_type": "code",
   "execution_count": 16,
   "metadata": {},
   "outputs": [
    {
     "name": "stdout",
     "output_type": "stream",
     "text": [
      "GPU is available\n"
     ]
    }
   ],
   "source": [
    "# Check if GPU is available\n",
    "if torch.cuda.is_available():\n",
    "    device = torch.device(\"cuda\")  # Use the GPU\n",
    "    print(\"GPU is available\")\n",
    "else:\n",
    "    device = torch.device(\"cpu\")  # Use the CPU\n",
    "    print(\"GPU is not available, using CPU\")"
   ]
  },
  {
   "cell_type": "code",
   "execution_count": 17,
   "metadata": {},
   "outputs": [
    {
     "data": {
      "text/plain": [
       "device(type='cuda')"
      ]
     },
     "execution_count": 17,
     "metadata": {},
     "output_type": "execute_result"
    }
   ],
   "source": [
    "torch.device(\"cuda\")"
   ]
  },
  {
   "cell_type": "code",
   "execution_count": 19,
   "metadata": {},
   "outputs": [
    {
     "name": "stdout",
     "output_type": "stream",
     "text": [
      "Epoch [10/10], Step [3670001/3673822], Loss: 0.0050, Accuracy: 0.9992\r"
     ]
    }
   ],
   "source": [
    "# Create a train and test data from the full dataset\n",
    "X_train, X_test, y_tr, y_te = train_test_split(X_small, y_train, test_size = .25, random_state = 42)\n",
    "\n",
    "# Define the model class\n",
    "class Net(nn.Module):\n",
    "    def __init__(self, input_dim):\n",
    "        super(Net, self).__init__()\n",
    "        self.fc1 = nn.Linear(input_dim, 12)\n",
    "        self.fc2 = nn.Linear(12, 12)\n",
    "        self.fc3 = nn.Linear(12, 12)\n",
    "        self.fc4 = nn.Linear(12, 12)\n",
    "        self.fc5 = nn.Linear(12, 8)\n",
    "        self.fc6 = nn.Linear(8, 1)\n",
    "        self.activation = nn.ReLU()\n",
    "        self.sigmoid = nn.Sigmoid()\n",
    "\n",
    "    def forward(self, x):\n",
    "        x = self.activation(self.fc1(x))\n",
    "        x = self.activation(self.fc2(x))\n",
    "        x = self.activation(self.fc3(x))\n",
    "        x = self.activation(self.fc4(x))\n",
    "        x = self.activation(self.fc5(x))\n",
    "        x = self.sigmoid(self.fc6(x))\n",
    "        return x\n",
    "\n",
    "# Create an instance of the model\n",
    "model = Net(X_train.shape[1])\n",
    "\n",
    "# Move the model to the GPU if available\n",
    "device = torch.device(\"cuda\" if torch.cuda.is_available() else \"cpu\")\n",
    "model.to(device)\n",
    "\n",
    "# Define the loss function\n",
    "criterion = nn.BCELoss()\n",
    "\n",
    "# Define the optimizer\n",
    "optimizer = optim.Adam(model.parameters())\n",
    "\n",
    "# Convert the data to torch tensors and move to the GPU\n",
    "X_train_tensor = torch.Tensor(X_train.values).float().to(device)\n",
    "y_train_tensor = torch.Tensor(y_tr).float().to(device)\n",
    "X_test_tensor = torch.Tensor(X_test.values).float().to(device)\n",
    "\n",
    "# Training loop\n",
    "num_epochs = 10\n",
    "batch_size = 5000\n",
    "losses = []\n",
    "for epoch in range(num_epochs):\n",
    "    # Shuffle the data at the start of each epoch\n",
    "    indices = np.random.permutation(len(X_train_tensor))\n",
    "    shuffled_X = X_train_tensor[indices]\n",
    "    shuffled_y = y_train_tensor[indices]\n",
    "    \n",
    "    # Set the model to training mode\n",
    "    model.train()\n",
    "\n",
    "    # Mini-batch training\n",
    "    for i in range(0, len(X_train_tensor), batch_size):\n",
    "\n",
    "        batch_X = shuffled_X[i:i+batch_size]\n",
    "        batch_y = shuffled_y[i:i+batch_size]\n",
    "\n",
    "        # Forward pass\n",
    "        outputs = model(batch_X)\n",
    "        outputs = outputs.view(-1)\n",
    "        loss = criterion(outputs, batch_y)\n",
    "\n",
    "        # Backward and optimize\n",
    "        optimizer.zero_grad()\n",
    "        loss.backward()\n",
    "        optimizer.step()\n",
    "\n",
    "        # Compute accuracy\n",
    "        predicted_labels = (outputs > 0.5).float()\n",
    "        accuracy = (predicted_labels == batch_y).float().mean()\n",
    "    \n",
    "\n",
    "        # Print loss and accuracy\n",
    "        print(f'\\rEpoch [{epoch+1}/{num_epochs}], Step [{i+1}/{len(X_train_tensor)}], Loss: {loss.item():.4f}, Accuracy: {accuracy.item():.4f}', end = '\\r')\n",
    "    \n",
    "    losses.append(loss.item())\n",
    "        \n"
   ]
  },
  {
   "cell_type": "code",
   "execution_count": 20,
   "metadata": {},
   "outputs": [
    {
     "name": "stdout",
     "output_type": "stream",
     "text": [
      "              precision    recall  f1-score   support\n",
      "\n",
      "           0       1.00      1.00      1.00    243103\n",
      "           1       1.00      1.00      1.00    981505\n",
      "\n",
      "    accuracy                           1.00   1224608\n",
      "   macro avg       1.00      1.00      1.00   1224608\n",
      "weighted avg       1.00      1.00      1.00   1224608\n",
      "\n"
     ]
    }
   ],
   "source": [
    "# Set the model to evaluation mode\n",
    "model.eval()\n",
    "\n",
    "# Move the model and data back to the CPU\n",
    "model.to(\"cpu\")\n",
    "X_test_tensor = X_test_tensor.to(\"cpu\")\n",
    "\n",
    "# Perform predictions on the test set\n",
    "with torch.no_grad():\n",
    "    preds = model(X_test_tensor)\n",
    "\n",
    "# Convert the predictions tensor to a numpy array\n",
    "preds = preds.numpy()\n",
    "\n",
    "# Classify the predicitions as 0 or 1 since the values the sigmoid produces are not exact\n",
    "preds = np.where(preds < .5, 0, 1)\n",
    "\n",
    "# Print the classification report \n",
    "print(classification_report(y_te, preds))"
   ]
  },
  {
   "cell_type": "code",
   "execution_count": 21,
   "metadata": {},
   "outputs": [
    {
     "data": {
      "image/png": "[encoded data removed]",
      "text/plain": [
       "<Figure size 640x480 with 1 Axes>"
      ]
     },
     "metadata": {},
     "output_type": "display_data"
    }
   ],
   "source": [
    "plt.plot(range(1,11), losses);\n",
    "plt.xlabel(\"Epoch\");\n",
    "plt.ylabel(\"Cost\");\n",
    "plt.title(\"Model Cost\");"
   ]
  },
  {
   "attachments": {},
   "cell_type": "markdown",
   "metadata": {},
   "source": [
    "#### **Small Data**"
   ]
  },
  {
   "attachments": {},
   "cell_type": "markdown",
   "metadata": {},
   "source": [
    "The first model that I'm going to run is going to use only the training data and using train_test_split to create the test set. Because the official test set contains new values, I want to see how well the data and the model perform when they are only using the type of data that they have been trained for. This in a sense is cross validation because I can still go back and change the model based on this result."
   ]
  },
  {
   "cell_type": "code",
   "execution_count": 22,
   "metadata": {},
   "outputs": [
    {
     "name": "stdout",
     "output_type": "stream",
     "text": [
      "Epoch 1/10\n"
     ]
    },
    {
     "ename": "KeyboardInterrupt",
     "evalue": "",
     "output_type": "error",
     "traceback": [
      "\u001b[1;31m---------------------------------------------------------------------------\u001b[0m",
      "\u001b[1;31mInvalidArgumentError\u001b[0m                      Traceback (most recent call last)",
      "File \u001b[1;32mc:\\Users\\jdrel\\miniconda3\\envs\\Capstone-2\\lib\\site-packages\\tensorflow\\python\\framework\\ops.py:2693\u001b[0m, in \u001b[0;36mOperation.get_attr\u001b[1;34m(self, name)\u001b[0m\n\u001b[0;32m   2692\u001b[0m \u001b[39mwith\u001b[39;00m c_api_util\u001b[39m.\u001b[39mtf_buffer() \u001b[39mas\u001b[39;00m buf:\n\u001b[1;32m-> 2693\u001b[0m   pywrap_tf_session\u001b[39m.\u001b[39;49mTF_OperationGetAttrValueProto(\u001b[39mself\u001b[39;49m\u001b[39m.\u001b[39;49m_c_op, name, buf)\n\u001b[0;32m   2694\u001b[0m   data \u001b[39m=\u001b[39m pywrap_tf_session\u001b[39m.\u001b[39mTF_GetBuffer(buf)\n",
      "\u001b[1;31mInvalidArgumentError\u001b[0m: Operation 'Adam/IdentityN' has no attr named '_read_only_resource_inputs'.",
      "\nDuring handling of the above exception, another exception occurred:\n",
      "\u001b[1;31mValueError\u001b[0m                                Traceback (most recent call last)",
      "File \u001b[1;32mc:\\Users\\jdrel\\miniconda3\\envs\\Capstone-2\\lib\\site-packages\\tensorflow\\python\\framework\\auto_control_deps_utils.py:105\u001b[0m, in \u001b[0;36mget_read_write_resource_inputs\u001b[1;34m(op)\u001b[0m\n\u001b[0;32m    104\u001b[0m \u001b[39mtry\u001b[39;00m:\n\u001b[1;32m--> 105\u001b[0m   read_only_input_indices \u001b[39m=\u001b[39m op\u001b[39m.\u001b[39;49mget_attr(READ_ONLY_RESOURCE_INPUTS_ATTR)\n\u001b[0;32m    106\u001b[0m \u001b[39mexcept\u001b[39;00m \u001b[39mValueError\u001b[39;00m:\n\u001b[0;32m    107\u001b[0m   \u001b[39m# Attr was not set. Add all resource inputs to `writes` and return.\u001b[39;00m\n",
      "File \u001b[1;32mc:\\Users\\jdrel\\miniconda3\\envs\\Capstone-2\\lib\\site-packages\\tensorflow\\python\\framework\\ops.py:2697\u001b[0m, in \u001b[0;36mOperation.get_attr\u001b[1;34m(self, name)\u001b[0m\n\u001b[0;32m   2695\u001b[0m \u001b[39mexcept\u001b[39;00m errors\u001b[39m.\u001b[39mInvalidArgumentError \u001b[39mas\u001b[39;00m e:\n\u001b[0;32m   2696\u001b[0m   \u001b[39m# Convert to ValueError for backwards compatibility.\u001b[39;00m\n\u001b[1;32m-> 2697\u001b[0m   \u001b[39mraise\u001b[39;00m \u001b[39mValueError\u001b[39;00m(e\u001b[39m.\u001b[39mmessage)\n\u001b[0;32m   2698\u001b[0m x \u001b[39m=\u001b[39m attr_value_pb2\u001b[39m.\u001b[39mAttrValue()\n",
      "\u001b[1;31mValueError\u001b[0m: Operation 'Adam/IdentityN' has no attr named '_read_only_resource_inputs'.",
      "\nDuring handling of the above exception, another exception occurred:\n",
      "\u001b[1;31mKeyboardInterrupt\u001b[0m                         Traceback (most recent call last)",
      "Cell \u001b[1;32mIn[22], line 24\u001b[0m\n\u001b[0;32m     21\u001b[0m nnettrain\u001b[39m.\u001b[39mcompile(optimizer \u001b[39m=\u001b[39m \u001b[39m'\u001b[39m\u001b[39madam\u001b[39m\u001b[39m'\u001b[39m, loss \u001b[39m=\u001b[39m \u001b[39m'\u001b[39m\u001b[39mbinary_crossentropy\u001b[39m\u001b[39m'\u001b[39m, metrics \u001b[39m=\u001b[39m [\u001b[39m'\u001b[39m\u001b[39mbinary_accuracy\u001b[39m\u001b[39m'\u001b[39m])\n\u001b[0;32m     23\u001b[0m \u001b[39m# Train the model whle converting X_train and y_train into floats. Given the accuracy 3 epochs is good enough\u001b[39;00m\n\u001b[1;32m---> 24\u001b[0m nnettrain\u001b[39m.\u001b[39;49mfit(X_train\u001b[39m.\u001b[39;49mastype(\u001b[39m'\u001b[39;49m\u001b[39mfloat32\u001b[39;49m\u001b[39m'\u001b[39;49m), y_tr\u001b[39m.\u001b[39;49mastype(\u001b[39m'\u001b[39;49m\u001b[39mfloat32\u001b[39;49m\u001b[39m'\u001b[39;49m), epochs \u001b[39m=\u001b[39;49m \u001b[39m10\u001b[39;49m, batch_size \u001b[39m=\u001b[39;49m \u001b[39m50000\u001b[39;49m)\n",
      "File \u001b[1;32mc:\\Users\\jdrel\\miniconda3\\envs\\Capstone-2\\lib\\site-packages\\keras\\utils\\traceback_utils.py:65\u001b[0m, in \u001b[0;36mfilter_traceback.<locals>.error_handler\u001b[1;34m(*args, **kwargs)\u001b[0m\n\u001b[0;32m     63\u001b[0m filtered_tb \u001b[39m=\u001b[39m \u001b[39mNone\u001b[39;00m\n\u001b[0;32m     64\u001b[0m \u001b[39mtry\u001b[39;00m:\n\u001b[1;32m---> 65\u001b[0m     \u001b[39mreturn\u001b[39;00m fn(\u001b[39m*\u001b[39margs, \u001b[39m*\u001b[39m\u001b[39m*\u001b[39mkwargs)\n\u001b[0;32m     66\u001b[0m \u001b[39mexcept\u001b[39;00m \u001b[39mException\u001b[39;00m \u001b[39mas\u001b[39;00m e:\n\u001b[0;32m     67\u001b[0m     filtered_tb \u001b[39m=\u001b[39m _process_traceback_frames(e\u001b[39m.\u001b[39m__traceback__)\n",
      "File \u001b[1;32mc:\\Users\\jdrel\\miniconda3\\envs\\Capstone-2\\lib\\site-packages\\keras\\engine\\training.py:1564\u001b[0m, in \u001b[0;36mModel.fit\u001b[1;34m(self, x, y, batch_size, epochs, verbose, callbacks, validation_split, validation_data, shuffle, class_weight, sample_weight, initial_epoch, steps_per_epoch, validation_steps, validation_batch_size, validation_freq, max_queue_size, workers, use_multiprocessing)\u001b[0m\n\u001b[0;32m   1556\u001b[0m \u001b[39mwith\u001b[39;00m tf\u001b[39m.\u001b[39mprofiler\u001b[39m.\u001b[39mexperimental\u001b[39m.\u001b[39mTrace(\n\u001b[0;32m   1557\u001b[0m     \u001b[39m\"\u001b[39m\u001b[39mtrain\u001b[39m\u001b[39m\"\u001b[39m,\n\u001b[0;32m   1558\u001b[0m     epoch_num\u001b[39m=\u001b[39mepoch,\n\u001b[1;32m   (...)\u001b[0m\n\u001b[0;32m   1561\u001b[0m     _r\u001b[39m=\u001b[39m\u001b[39m1\u001b[39m,\n\u001b[0;32m   1562\u001b[0m ):\n\u001b[0;32m   1563\u001b[0m     callbacks\u001b[39m.\u001b[39mon_train_batch_begin(step)\n\u001b[1;32m-> 1564\u001b[0m     tmp_logs \u001b[39m=\u001b[39m \u001b[39mself\u001b[39;49m\u001b[39m.\u001b[39;49mtrain_function(iterator)\n\u001b[0;32m   1565\u001b[0m     \u001b[39mif\u001b[39;00m data_handler\u001b[39m.\u001b[39mshould_sync:\n\u001b[0;32m   1566\u001b[0m         context\u001b[39m.\u001b[39masync_wait()\n",
      "File \u001b[1;32mc:\\Users\\jdrel\\miniconda3\\envs\\Capstone-2\\lib\\site-packages\\tensorflow\\python\\util\\traceback_utils.py:150\u001b[0m, in \u001b[0;36mfilter_traceback.<locals>.error_handler\u001b[1;34m(*args, **kwargs)\u001b[0m\n\u001b[0;32m    148\u001b[0m filtered_tb \u001b[39m=\u001b[39m \u001b[39mNone\u001b[39;00m\n\u001b[0;32m    149\u001b[0m \u001b[39mtry\u001b[39;00m:\n\u001b[1;32m--> 150\u001b[0m   \u001b[39mreturn\u001b[39;00m fn(\u001b[39m*\u001b[39margs, \u001b[39m*\u001b[39m\u001b[39m*\u001b[39mkwargs)\n\u001b[0;32m    151\u001b[0m \u001b[39mexcept\u001b[39;00m \u001b[39mException\u001b[39;00m \u001b[39mas\u001b[39;00m e:\n\u001b[0;32m    152\u001b[0m   filtered_tb \u001b[39m=\u001b[39m _process_traceback_frames(e\u001b[39m.\u001b[39m__traceback__)\n",
      "File \u001b[1;32mc:\\Users\\jdrel\\miniconda3\\envs\\Capstone-2\\lib\\site-packages\\tensorflow\\python\\eager\\def_function.py:915\u001b[0m, in \u001b[0;36mFunction.__call__\u001b[1;34m(self, *args, **kwds)\u001b[0m\n\u001b[0;32m    912\u001b[0m compiler \u001b[39m=\u001b[39m \u001b[39m\"\u001b[39m\u001b[39mxla\u001b[39m\u001b[39m\"\u001b[39m \u001b[39mif\u001b[39;00m \u001b[39mself\u001b[39m\u001b[39m.\u001b[39m_jit_compile \u001b[39melse\u001b[39;00m \u001b[39m\"\u001b[39m\u001b[39mnonXla\u001b[39m\u001b[39m\"\u001b[39m\n\u001b[0;32m    914\u001b[0m \u001b[39mwith\u001b[39;00m OptionalXlaContext(\u001b[39mself\u001b[39m\u001b[39m.\u001b[39m_jit_compile):\n\u001b[1;32m--> 915\u001b[0m   result \u001b[39m=\u001b[39m \u001b[39mself\u001b[39m\u001b[39m.\u001b[39m_call(\u001b[39m*\u001b[39margs, \u001b[39m*\u001b[39m\u001b[39m*\u001b[39mkwds)\n\u001b[0;32m    917\u001b[0m new_tracing_count \u001b[39m=\u001b[39m \u001b[39mself\u001b[39m\u001b[39m.\u001b[39mexperimental_get_tracing_count()\n\u001b[0;32m    918\u001b[0m without_tracing \u001b[39m=\u001b[39m (tracing_count \u001b[39m==\u001b[39m new_tracing_count)\n",
      "File \u001b[1;32mc:\\Users\\jdrel\\miniconda3\\envs\\Capstone-2\\lib\\site-packages\\tensorflow\\python\\eager\\def_function.py:963\u001b[0m, in \u001b[0;36mFunction._call\u001b[1;34m(self, *args, **kwds)\u001b[0m\n\u001b[0;32m    960\u001b[0m \u001b[39mtry\u001b[39;00m:\n\u001b[0;32m    961\u001b[0m   \u001b[39m# This is the first call of __call__, so we have to initialize.\u001b[39;00m\n\u001b[0;32m    962\u001b[0m   initializers \u001b[39m=\u001b[39m []\n\u001b[1;32m--> 963\u001b[0m   \u001b[39mself\u001b[39;49m\u001b[39m.\u001b[39;49m_initialize(args, kwds, add_initializers_to\u001b[39m=\u001b[39;49minitializers)\n\u001b[0;32m    964\u001b[0m \u001b[39mfinally\u001b[39;00m:\n\u001b[0;32m    965\u001b[0m   \u001b[39m# At this point we know that the initialization is complete (or less\u001b[39;00m\n\u001b[0;32m    966\u001b[0m   \u001b[39m# interestingly an exception was raised) so we no longer need a lock.\u001b[39;00m\n\u001b[0;32m    967\u001b[0m   \u001b[39mself\u001b[39m\u001b[39m.\u001b[39m_lock\u001b[39m.\u001b[39mrelease()\n",
      "File \u001b[1;32mc:\\Users\\jdrel\\miniconda3\\envs\\Capstone-2\\lib\\site-packages\\tensorflow\\python\\eager\\def_function.py:785\u001b[0m, in \u001b[0;36mFunction._initialize\u001b[1;34m(self, args, kwds, add_initializers_to)\u001b[0m\n\u001b[0;32m    782\u001b[0m \u001b[39mself\u001b[39m\u001b[39m.\u001b[39m_lifted_initializer_graph \u001b[39m=\u001b[39m lifted_initializer_graph\n\u001b[0;32m    783\u001b[0m \u001b[39mself\u001b[39m\u001b[39m.\u001b[39m_graph_deleter \u001b[39m=\u001b[39m FunctionDeleter(\u001b[39mself\u001b[39m\u001b[39m.\u001b[39m_lifted_initializer_graph)\n\u001b[0;32m    784\u001b[0m \u001b[39mself\u001b[39m\u001b[39m.\u001b[39m_concrete_stateful_fn \u001b[39m=\u001b[39m (\n\u001b[1;32m--> 785\u001b[0m     \u001b[39mself\u001b[39m\u001b[39m.\u001b[39m_stateful_fn\u001b[39m.\u001b[39m_get_concrete_function_internal_garbage_collected(  \u001b[39m# pylint: disable=protected-access\u001b[39;00m\n\u001b[0;32m    786\u001b[0m         \u001b[39m*\u001b[39margs, \u001b[39m*\u001b[39m\u001b[39m*\u001b[39mkwds))\n\u001b[0;32m    788\u001b[0m \u001b[39mdef\u001b[39;00m \u001b[39minvalid_creator_scope\u001b[39m(\u001b[39m*\u001b[39munused_args, \u001b[39m*\u001b[39m\u001b[39m*\u001b[39munused_kwds):\n\u001b[0;32m    789\u001b[0m \u001b[39m  \u001b[39m\u001b[39m\"\"\"Disables variable creation.\"\"\"\u001b[39;00m\n",
      "File \u001b[1;32mc:\\Users\\jdrel\\miniconda3\\envs\\Capstone-2\\lib\\site-packages\\tensorflow\\python\\eager\\function.py:2523\u001b[0m, in \u001b[0;36mFunction._get_concrete_function_internal_garbage_collected\u001b[1;34m(self, *args, **kwargs)\u001b[0m\n\u001b[0;32m   2521\u001b[0m   args, kwargs \u001b[39m=\u001b[39m \u001b[39mNone\u001b[39;00m, \u001b[39mNone\u001b[39;00m\n\u001b[0;32m   2522\u001b[0m \u001b[39mwith\u001b[39;00m \u001b[39mself\u001b[39m\u001b[39m.\u001b[39m_lock:\n\u001b[1;32m-> 2523\u001b[0m   graph_function, _ \u001b[39m=\u001b[39m \u001b[39mself\u001b[39;49m\u001b[39m.\u001b[39;49m_maybe_define_function(args, kwargs)\n\u001b[0;32m   2524\u001b[0m \u001b[39mreturn\u001b[39;00m graph_function\n",
      "File \u001b[1;32mc:\\Users\\jdrel\\miniconda3\\envs\\Capstone-2\\lib\\site-packages\\tensorflow\\python\\eager\\function.py:2760\u001b[0m, in \u001b[0;36mFunction._maybe_define_function\u001b[1;34m(self, args, kwargs)\u001b[0m\n\u001b[0;32m   2758\u001b[0m   \u001b[39m# Only get placeholders for arguments, not captures\u001b[39;00m\n\u001b[0;32m   2759\u001b[0m   args, kwargs \u001b[39m=\u001b[39m placeholder_dict[\u001b[39m\"\u001b[39m\u001b[39margs\u001b[39m\u001b[39m\"\u001b[39m]\n\u001b[1;32m-> 2760\u001b[0m graph_function \u001b[39m=\u001b[39m \u001b[39mself\u001b[39;49m\u001b[39m.\u001b[39;49m_create_graph_function(args, kwargs)\n\u001b[0;32m   2762\u001b[0m graph_capture_container \u001b[39m=\u001b[39m graph_function\u001b[39m.\u001b[39mgraph\u001b[39m.\u001b[39m_capture_func_lib  \u001b[39m# pylint: disable=protected-access\u001b[39;00m\n\u001b[0;32m   2763\u001b[0m \u001b[39m# Maintain the list of all captures\u001b[39;00m\n",
      "File \u001b[1;32mc:\\Users\\jdrel\\miniconda3\\envs\\Capstone-2\\lib\\site-packages\\tensorflow\\python\\eager\\function.py:2670\u001b[0m, in \u001b[0;36mFunction._create_graph_function\u001b[1;34m(self, args, kwargs)\u001b[0m\n\u001b[0;32m   2665\u001b[0m missing_arg_names \u001b[39m=\u001b[39m [\n\u001b[0;32m   2666\u001b[0m     \u001b[39m\"\u001b[39m\u001b[39m%s\u001b[39;00m\u001b[39m_\u001b[39m\u001b[39m%d\u001b[39;00m\u001b[39m\"\u001b[39m \u001b[39m%\u001b[39m (arg, i) \u001b[39mfor\u001b[39;00m i, arg \u001b[39min\u001b[39;00m \u001b[39menumerate\u001b[39m(missing_arg_names)\n\u001b[0;32m   2667\u001b[0m ]\n\u001b[0;32m   2668\u001b[0m arg_names \u001b[39m=\u001b[39m base_arg_names \u001b[39m+\u001b[39m missing_arg_names\n\u001b[0;32m   2669\u001b[0m graph_function \u001b[39m=\u001b[39m ConcreteFunction(\n\u001b[1;32m-> 2670\u001b[0m     func_graph_module\u001b[39m.\u001b[39;49mfunc_graph_from_py_func(\n\u001b[0;32m   2671\u001b[0m         \u001b[39mself\u001b[39;49m\u001b[39m.\u001b[39;49m_name,\n\u001b[0;32m   2672\u001b[0m         \u001b[39mself\u001b[39;49m\u001b[39m.\u001b[39;49m_python_function,\n\u001b[0;32m   2673\u001b[0m         args,\n\u001b[0;32m   2674\u001b[0m         kwargs,\n\u001b[0;32m   2675\u001b[0m         \u001b[39mself\u001b[39;49m\u001b[39m.\u001b[39;49minput_signature,\n\u001b[0;32m   2676\u001b[0m         autograph\u001b[39m=\u001b[39;49m\u001b[39mself\u001b[39;49m\u001b[39m.\u001b[39;49m_autograph,\n\u001b[0;32m   2677\u001b[0m         autograph_options\u001b[39m=\u001b[39;49m\u001b[39mself\u001b[39;49m\u001b[39m.\u001b[39;49m_autograph_options,\n\u001b[0;32m   2678\u001b[0m         arg_names\u001b[39m=\u001b[39;49marg_names,\n\u001b[0;32m   2679\u001b[0m         capture_by_value\u001b[39m=\u001b[39;49m\u001b[39mself\u001b[39;49m\u001b[39m.\u001b[39;49m_capture_by_value),\n\u001b[0;32m   2680\u001b[0m     \u001b[39mself\u001b[39m\u001b[39m.\u001b[39m_function_attributes,\n\u001b[0;32m   2681\u001b[0m     spec\u001b[39m=\u001b[39m\u001b[39mself\u001b[39m\u001b[39m.\u001b[39mfunction_spec,\n\u001b[0;32m   2682\u001b[0m     \u001b[39m# Tell the ConcreteFunction to clean up its graph once it goes out of\u001b[39;00m\n\u001b[0;32m   2683\u001b[0m     \u001b[39m# scope. This is not the default behavior since it gets used in some\u001b[39;00m\n\u001b[0;32m   2684\u001b[0m     \u001b[39m# places (like Keras) where the FuncGraph lives longer than the\u001b[39;00m\n\u001b[0;32m   2685\u001b[0m     \u001b[39m# ConcreteFunction.\u001b[39;00m\n\u001b[0;32m   2686\u001b[0m     shared_func_graph\u001b[39m=\u001b[39m\u001b[39mFalse\u001b[39;00m)\n\u001b[0;32m   2687\u001b[0m \u001b[39mreturn\u001b[39;00m graph_function\n",
      "File \u001b[1;32mc:\\Users\\jdrel\\miniconda3\\envs\\Capstone-2\\lib\\site-packages\\tensorflow\\python\\framework\\func_graph.py:1153\u001b[0m, in \u001b[0;36mfunc_graph_from_py_func\u001b[1;34m(name, python_func, args, kwargs, signature, func_graph, autograph, autograph_options, add_control_dependencies, arg_names, op_return_value, collections, capture_by_value, acd_record_initial_resource_uses)\u001b[0m\n\u001b[0;32m   1150\u001b[0m \u001b[39melse\u001b[39;00m:\n\u001b[0;32m   1151\u001b[0m   deps_control_manager \u001b[39m=\u001b[39m ops\u001b[39m.\u001b[39mNullContextmanager()\n\u001b[1;32m-> 1153\u001b[0m \u001b[39mwith\u001b[39;00m func_graph\u001b[39m.\u001b[39mas_default(), deps_control_manager \u001b[39mas\u001b[39;00m deps_ctx:\n\u001b[0;32m   1154\u001b[0m   current_scope \u001b[39m=\u001b[39m variable_scope\u001b[39m.\u001b[39mget_variable_scope()\n\u001b[0;32m   1155\u001b[0m   default_use_resource \u001b[39m=\u001b[39m current_scope\u001b[39m.\u001b[39muse_resource\n",
      "File \u001b[1;32mc:\\Users\\jdrel\\miniconda3\\envs\\Capstone-2\\lib\\site-packages\\tensorflow\\python\\framework\\auto_control_deps.py:464\u001b[0m, in \u001b[0;36mAutomaticControlDependencies.__exit__\u001b[1;34m(self, unused_type, unused_value, unused_traceback)\u001b[0m\n\u001b[0;32m    461\u001b[0m resource_inputs \u001b[39m=\u001b[39m \u001b[39mset\u001b[39m()\n\u001b[0;32m    462\u001b[0m \u001b[39m# Check for any resource inputs. If we find any, we update control_inputs\u001b[39;00m\n\u001b[0;32m    463\u001b[0m \u001b[39m# and last_write_to_resource.\u001b[39;00m\n\u001b[1;32m--> 464\u001b[0m \u001b[39mfor\u001b[39;00m inp, resource_type \u001b[39min\u001b[39;00m _get_resource_inputs(op):\n\u001b[0;32m    465\u001b[0m   is_read \u001b[39m=\u001b[39m resource_type \u001b[39m==\u001b[39m ResourceType\u001b[39m.\u001b[39mREAD_ONLY\n\u001b[0;32m    466\u001b[0m   input_id \u001b[39m=\u001b[39m ops\u001b[39m.\u001b[39mtensor_id(inp)\n",
      "File \u001b[1;32mc:\\Users\\jdrel\\miniconda3\\envs\\Capstone-2\\lib\\site-packages\\tensorflow\\python\\framework\\auto_control_deps.py:662\u001b[0m, in \u001b[0;36m_get_resource_inputs\u001b[1;34m(op)\u001b[0m\n\u001b[0;32m    660\u001b[0m \u001b[39mdef\u001b[39;00m \u001b[39m_get_resource_inputs\u001b[39m(op):\n\u001b[0;32m    661\u001b[0m \u001b[39m  \u001b[39m\u001b[39m\"\"\"Returns an iterable of resources touched by this `op`.\"\"\"\u001b[39;00m\n\u001b[1;32m--> 662\u001b[0m   reads, writes \u001b[39m=\u001b[39m utils\u001b[39m.\u001b[39;49mget_read_write_resource_inputs(op)\n\u001b[0;32m    663\u001b[0m   saturated \u001b[39m=\u001b[39m \u001b[39mFalse\u001b[39;00m\n\u001b[0;32m    664\u001b[0m   \u001b[39mwhile\u001b[39;00m \u001b[39mnot\u001b[39;00m saturated:\n",
      "File \u001b[1;32mc:\\Users\\jdrel\\miniconda3\\envs\\Capstone-2\\lib\\site-packages\\tensorflow\\python\\framework\\auto_control_deps_utils.py:108\u001b[0m, in \u001b[0;36mget_read_write_resource_inputs\u001b[1;34m(op)\u001b[0m\n\u001b[0;32m    105\u001b[0m   read_only_input_indices \u001b[39m=\u001b[39m op\u001b[39m.\u001b[39mget_attr(READ_ONLY_RESOURCE_INPUTS_ATTR)\n\u001b[0;32m    106\u001b[0m \u001b[39mexcept\u001b[39;00m \u001b[39mValueError\u001b[39;00m:\n\u001b[0;32m    107\u001b[0m   \u001b[39m# Attr was not set. Add all resource inputs to `writes` and return.\u001b[39;00m\n\u001b[1;32m--> 108\u001b[0m   writes\u001b[39m.\u001b[39mupdate(t \u001b[39mfor\u001b[39;00m t \u001b[39min\u001b[39;00m op\u001b[39m.\u001b[39;49minputs \u001b[39mif\u001b[39;00m t\u001b[39m.\u001b[39mdtype \u001b[39m==\u001b[39m dtypes\u001b[39m.\u001b[39mresource)\n\u001b[0;32m    109\u001b[0m   \u001b[39mreturn\u001b[39;00m (reads, writes)\n\u001b[0;32m    111\u001b[0m read_only_index \u001b[39m=\u001b[39m \u001b[39m0\u001b[39m\n",
      "File \u001b[1;32mc:\\Users\\jdrel\\miniconda3\\envs\\Capstone-2\\lib\\site-packages\\tensorflow\\python\\framework\\ops.py:2521\u001b[0m, in \u001b[0;36mOperation.inputs\u001b[1;34m(self)\u001b[0m\n\u001b[0;32m   2518\u001b[0m \u001b[39m\u001b[39m\u001b[39m\"\"\"The sequence of `Tensor` objects representing the data inputs of this op.\"\"\"\u001b[39;00m\n\u001b[0;32m   2519\u001b[0m \u001b[39mif\u001b[39;00m \u001b[39mself\u001b[39m\u001b[39m.\u001b[39m_inputs_val \u001b[39mis\u001b[39;00m \u001b[39mNone\u001b[39;00m:\n\u001b[0;32m   2520\u001b[0m   \u001b[39m# pylint: disable=protected-access\u001b[39;00m\n\u001b[1;32m-> 2521\u001b[0m   \u001b[39mself\u001b[39m\u001b[39m.\u001b[39m_inputs_val \u001b[39m=\u001b[39m \u001b[39mtuple\u001b[39;49m(\n\u001b[0;32m   2522\u001b[0m       \u001b[39mmap\u001b[39;49m(\u001b[39mself\u001b[39;49m\u001b[39m.\u001b[39;49mgraph\u001b[39m.\u001b[39;49m_get_tensor_by_tf_output,\n\u001b[0;32m   2523\u001b[0m           pywrap_tf_session\u001b[39m.\u001b[39;49mGetOperationInputs(\u001b[39mself\u001b[39;49m\u001b[39m.\u001b[39;49m_c_op)))\n\u001b[0;32m   2524\u001b[0m   \u001b[39m# pylint: enable=protected-access\u001b[39;00m\n\u001b[0;32m   2525\u001b[0m \u001b[39mreturn\u001b[39;00m \u001b[39mself\u001b[39m\u001b[39m.\u001b[39m_inputs_val\n",
      "File \u001b[1;32mc:\\Users\\jdrel\\miniconda3\\envs\\Capstone-2\\lib\\site-packages\\tensorflow\\python\\framework\\ops.py:4189\u001b[0m, in \u001b[0;36mGraph._get_tensor_by_tf_output\u001b[1;34m(self, tf_output)\u001b[0m\n\u001b[0;32m   4176\u001b[0m \u001b[39mdef\u001b[39;00m \u001b[39m_get_tensor_by_tf_output\u001b[39m(\u001b[39mself\u001b[39m, tf_output):\n\u001b[0;32m   4177\u001b[0m \u001b[39m  \u001b[39m\u001b[39m\"\"\"Returns the `Tensor` representing `tf_output`.\u001b[39;00m\n\u001b[0;32m   4178\u001b[0m \n\u001b[0;32m   4179\u001b[0m \u001b[39m  Note that there is only one such `Tensor`, i.e. multiple calls to this\u001b[39;00m\n\u001b[1;32m   (...)\u001b[0m\n\u001b[0;32m   4187\u001b[0m \u001b[39m    The `Tensor` that represents `tf_output`.\u001b[39;00m\n\u001b[0;32m   4188\u001b[0m \u001b[39m  \"\"\"\u001b[39;00m\n\u001b[1;32m-> 4189\u001b[0m   op \u001b[39m=\u001b[39m \u001b[39mself\u001b[39;49m\u001b[39m.\u001b[39;49m_get_operation_by_tf_operation(tf_output\u001b[39m.\u001b[39;49moper)\n\u001b[0;32m   4190\u001b[0m   \u001b[39mreturn\u001b[39;00m op\u001b[39m.\u001b[39moutputs[tf_output\u001b[39m.\u001b[39mindex]\n",
      "File \u001b[1;32mc:\\Users\\jdrel\\miniconda3\\envs\\Capstone-2\\lib\\site-packages\\tensorflow\\python\\framework\\ops.py:4152\u001b[0m, in \u001b[0;36mGraph._get_operation_by_tf_operation\u001b[1;34m(self, tf_oper)\u001b[0m\n\u001b[0;32m   4151\u001b[0m \u001b[39mdef\u001b[39;00m \u001b[39m_get_operation_by_tf_operation\u001b[39m(\u001b[39mself\u001b[39m, tf_oper):\n\u001b[1;32m-> 4152\u001b[0m   op_name \u001b[39m=\u001b[39m pywrap_tf_session\u001b[39m.\u001b[39;49mTF_OperationName(tf_oper)\n\u001b[0;32m   4153\u001b[0m   \u001b[39mreturn\u001b[39;00m \u001b[39mself\u001b[39m\u001b[39m.\u001b[39m_get_operation_by_name_unsafe(op_name)\n",
      "\u001b[1;31mKeyboardInterrupt\u001b[0m: "
     ]
    }
   ],
   "source": [
    "# Create a train and test data from the full dataset\n",
    "X_train, X_test, y_tr, y_te = train_test_split(X_small, y_train, test_size = .25, random_state = 42)\n",
    "\n",
    "# Initialize the model\n",
    "nnettrain = Sequential()\n",
    "\n",
    "# Create the first layer of the deep learning model with input set the number of features in X_train\n",
    "nnettrain.add(Dense(12, activation = 'relu', input_dim = X_train.shape[1]))\n",
    "# Add a middle layer to give the model more complexity\n",
    "nnettrain.add(Dense(12, activation = 'relu'))\n",
    "# Add a middle layer to give the model more complexity\n",
    "nnettrain.add(Dense(12, activation = 'relu'))\n",
    "# Add a middle layer to give the model more complexity\n",
    "nnettrain.add(Dense(12, activation = 'relu'))\n",
    "# Add a middle layer to give the model more complexity\n",
    "nnettrain.add(Dense(8, activation = 'relu'))\n",
    "# Finish on a single node with sigmoid activation so that the result is between 0 and 1\n",
    "nnettrain.add(Dense(1, activation = 'sigmoid'))\n",
    "\n",
    "# Compile the network with the standard optimiizer and loss function\n",
    "nnettrain.compile(optimizer = 'adam', loss = 'binary_crossentropy', metrics = ['binary_accuracy'])\n",
    "\n",
    "# Train the model whle converting X_train and y_train into floats. Given the accuracy 3 epochs is good enough\n",
    "nnettrain.fit(X_train.astype('float32'), y_tr.astype('float32'), epochs = 10, batch_size = 5000)\n",
    "\n"
   ]
  },
  {
   "cell_type": "code",
   "execution_count": 9,
   "metadata": {},
   "outputs": [
    {
     "name": "stdout",
     "output_type": "stream",
     "text": [
      "38269/38269 [==============================] - 68s 2ms/step\n",
      "              precision    recall  f1-score   support\n",
      "\n",
      "           0       0.99      0.99      0.99    243103\n",
      "           1       1.00      1.00      1.00    981505\n",
      "\n",
      "    accuracy                           1.00   1224608\n",
      "   macro avg       0.99      1.00      1.00   1224608\n",
      "weighted avg       1.00      1.00      1.00   1224608\n",
      "\n"
     ]
    }
   ],
   "source": [
    "# Create the predictions\n",
    "preds = nnettrain.predict(X_test)\n",
    "\n",
    "# Classify the predicitions as 0 or 1 since the values the sigmoid produces are not exact\n",
    "preds = np.where(preds < .5, 0, 1)\n",
    "# Print the classification report \n",
    "print(classification_report(y_te, preds))"
   ]
  },
  {
   "attachments": {},
   "cell_type": "markdown",
   "metadata": {},
   "source": [
    "This is an incredible result. The model was able to perfectly predict if there was an intrusion in the test set every single time. This may in part be due to luck as some of the rarer intrusion types might not have been in the test set.\n",
    "\n",
    "With this result I'm now going to try and use this model on the test set to see if we can get the same results as cross validation with the training set."
   ]
  },
  {
   "cell_type": "code",
   "execution_count": 18,
   "metadata": {},
   "outputs": [
    {
     "name": "stdout",
     "output_type": "stream",
     "text": [
      "9720/9720 [==============================] - 10s 1ms/step\n",
      "              precision    recall  f1-score   support\n",
      "\n",
      "           0       0.72      0.86      0.78     60592\n",
      "           1       0.96      0.92      0.94    250436\n",
      "\n",
      "    accuracy                           0.91    311028\n",
      "   macro avg       0.84      0.89      0.86    311028\n",
      "weighted avg       0.92      0.91      0.91    311028\n",
      "\n"
     ]
    }
   ],
   "source": [
    "# Create the predictions for the test result\n",
    "preds_of = nnettrain.predict(X_small_test)\n",
    "\n",
    "# Classify the predicitions as 0 or 1 since the values the sigmoid produces are not exact\n",
    "preds_of = np.where(preds_of < .5, 0, 1)\n",
    "# Print the classification report\n",
    "print(classification_report(y_test, preds_of))"
   ]
  },
  {
   "attachments": {},
   "cell_type": "markdown",
   "metadata": {},
   "source": [
    "Unfortunately the model was significantly less than perfect with the official test set. This is in part because there are a lot of new intrusion types that the model couldn't train for. My theory is that the model found patterns that predicted the training intrusions but never found a generalizable pattern for normal observations. Once the intrusions changed the model struggled to keep up with the new information.\n",
    "\n",
    "It is also important to remember that there is an uneven distribution between intrusions and non intrusions. Below I calculated the percentage of the test set that had intrusions in it."
   ]
  },
  {
   "cell_type": "code",
   "execution_count": 19,
   "metadata": {},
   "outputs": [
    {
     "name": "stdout",
     "output_type": "stream",
     "text": [
      "No Intrusion: 19.5%\n",
      "Intrusion: 80.5%\n"
     ]
    }
   ],
   "source": [
    "# Store the unique values and their counts in separate variables\n",
    "vals, counts = np.unique(y_test, return_counts = True)\n",
    "# Create value_counts(normalize=True) for np array\n",
    "prop_counts = counts/len(y_test)\n",
    "# print the % of observations with no intrusion\n",
    "print(f'No Intrusion: {round(prop_counts[0]*100, 1)}%')\n",
    "# print the % of observations with an intrusion\n",
    "print(f'Intrusion: {round(prop_counts[1]*100,1)}%')"
   ]
  },
  {
   "attachments": {},
   "cell_type": "markdown",
   "metadata": {},
   "source": [
    "Above we see that only 19.5% of the test set contains no intrusion so If I had built a model that always predicted intrusion, It would have been high on precision and recall for 1 and very low for zero. The accuracy scores show that this model is providing important value as they would be 50 if the model guessed intrusion every time. It is also important to note that the test set contains new intrusion types that aren't like the training set. Given the very high training scores, if I had a dataset that didn't have the new intrusion types this model would have been nearly perfect.\n",
    "\n",
    "To get a better understanding of how well the model performed at predicting normal observations I can use the Reciever under the Curve metric which measures the True Positive Rate (TPR) against the False Positive Rate (FPR). A ROC area of greater that 0.8 is good and an ROC curve of 0.9 or greater is excellent."
   ]
  },
  {
   "cell_type": "code",
   "execution_count": 34,
   "metadata": {},
   "outputs": [
    {
     "data": {
      "image/png": "[encoded data removed]",
      "text/plain": [
       "<Figure size 640x480 with 1 Axes>"
      ]
     },
     "metadata": {},
     "output_type": "display_data"
    }
   ],
   "source": [
    "# compute the false positive rate, true positive rate, and threshold for normal observations\n",
    "fpr, tpr, thresholds = roc_curve(y_test, preds_of)\n",
    "\n",
    "# calculate the AUC\n",
    "roc_auc = auc(fpr, tpr)\n",
    "\n",
    "# plot the ROC curve\n",
    "plt.plot(fpr, tpr, label='ROC curve (area = %0.2f)' % roc_auc);\n",
    "# Plot the baseline 50-50 dashed line\n",
    "plt.plot([0, 1], [0, 1], '--', color = 'w');\n",
    "# Set the x axis limits\n",
    "plt.xlim([0.0, 1.0]);\n",
    "# Set the y axis limits\n",
    "plt.ylim([0.0, 1.05]);\n",
    "# Label the x-axis\n",
    "plt.xlabel('False Positive Rate');\n",
    "# Label the y-axis\n",
    "plt.ylabel('True Positive Rate');\n",
    "# Title the plot\n",
    "plt.title('Receiver Operating Characteristic');\n",
    "# Create the legend that has the area under the curve\n",
    "plt.legend(loc=\"lower right\");\n",
    "# Show the graph\n",
    "plt.show();"
   ]
  },
  {
   "attachments": {},
   "cell_type": "markdown",
   "metadata": {},
   "source": [
    "An ROC curve of .89 is really good although not great. Given the disparity between the official testset and the unofficial testset, it is important to see how the model did when the observations contained the new attack types. "
   ]
  },
  {
   "cell_type": "code",
   "execution_count": 42,
   "metadata": {},
   "outputs": [
    {
     "name": "stdout",
     "output_type": "stream",
     "text": [
      "              precision    recall  f1-score   support\n",
      "\n",
      "           0       0.00      0.00      0.00         0\n",
      "           1       1.00      0.13      0.24     18729\n",
      "\n",
      "    accuracy                           0.13     18729\n",
      "   macro avg       0.50      0.07      0.12     18729\n",
      "weighted avg       1.00      0.13      0.24     18729\n",
      "\n"
     ]
    }
   ],
   "source": [
    "# Create a list of all the new attack types. This list was taken from preprocessing notebook\n",
    "new_attacks = ['xsnoop.', 'udpstorm.', 'mscan.', 'named.', 'processtable.', 'xlock.', 'snmpgetattack.', \n",
    "               'snmpguess.', 'worm.', 'ps.', 'httptunnel.', 'sendmail.', 'saint.', 'mailbomb.', 'apache2.', 'xterm.', 'sqlattack.']\n",
    "# Create a mask for all values that are in new attacks in the test set\n",
    "mask = small_test['labels'].isin(new_attacks)\n",
    "# Use the mask to find all the y-test values that are from new labels\n",
    "y_test_new = y_test[mask]\n",
    "# Use the mask to find all the prediction values that are from new labels\n",
    "preds_new = preds_of[mask]\n",
    "# Print the classification report\n",
    "print(classification_report(y_test_new, preds_new, zero_division = 0))"
   ]
  },
  {
   "attachments": {},
   "cell_type": "markdown",
   "metadata": {},
   "source": [
    "This is not the result that I hoped for. Out of all the observations that had new attack types only 13% of the time the model classified those as attack types. We can see which attack types the model was best at predicting."
   ]
  },
  {
   "cell_type": "code",
   "execution_count": 73,
   "metadata": {},
   "outputs": [
    {
     "data": {
      "text/plain": [
       "apache2.         793\n",
       "processtable.    694\n",
       "saint.           603\n",
       "mscan.           262\n",
       "httptunnel.      119\n",
       "ps.                7\n",
       "xterm.             5\n",
       "xlock.             4\n",
       "xsnoop.            4\n",
       "sendmail.          4\n",
       "sqlattack.         2\n",
       "named.             1\n",
       "Name: labels, dtype: int64"
      ]
     },
     "execution_count": 73,
     "metadata": {},
     "output_type": "execute_result"
    }
   ],
   "source": [
    "# create a dataframe that is a column of labels that only has the new labels\n",
    "new_labels = pd.DataFrame(small_test['labels'][mask], columns = ['labels']).reset_index(drop=True)\n",
    "# create a dataframe that is a column of labels that only has the predictions\n",
    "pred_df = pd.DataFrame(preds_new, columns = ['pred']).reset_index(drop=True)\n",
    "# Combine the labels and the predictions for analysis\n",
    "new_intrusions = pd.concat([new_labels, pred_df], axis = 1)\n",
    "# Run value counts when the prediction is positive to see which new intrusions the model captures\n",
    "new_intrusions.loc[new_intrusions['pred'] == 1, 'labels'].value_counts()"
   ]
  },
  {
   "attachments": {},
   "cell_type": "markdown",
   "metadata": {},
   "source": [
    "And which new intrusion types the model was the worst at predicting."
   ]
  },
  {
   "cell_type": "code",
   "execution_count": 74,
   "metadata": {},
   "outputs": [
    {
     "data": {
      "text/plain": [
       "snmpgetattack.    7741\n",
       "mailbomb.         5000\n",
       "snmpguess.        2406\n",
       "mscan.             791\n",
       "saint.             133\n",
       "processtable.       65\n",
       "httptunnel.         39\n",
       "named.              16\n",
       "sendmail.           13\n",
       "ps.                  9\n",
       "xterm.               8\n",
       "xlock.               5\n",
       "udpstorm.            2\n",
       "worm.                2\n",
       "apache2.             1\n",
       "Name: labels, dtype: int64"
      ]
     },
     "execution_count": 74,
     "metadata": {},
     "output_type": "execute_result"
    }
   ],
   "source": [
    "# Run value counts when the prediction is negative to see which new intrusions the model doesn't capture\n",
    "new_intrusions.loc[new_intrusions['pred'] == 0, 'labels'].value_counts()"
   ]
  },
  {
   "attachments": {},
   "cell_type": "markdown",
   "metadata": {},
   "source": [
    "It is interesting that some of the new intrusion types the model totally disregarded where as some of the new intrusion types it did a great job. If this model was operational it would most likely start doing significantly better after it had trained on the new attack types while still giving some protection against attack types that were similar to the training set. "
   ]
  },
  {
   "attachments": {},
   "cell_type": "markdown",
   "metadata": {},
   "source": [
    "#### **Categorical Models**"
   ]
  },
  {
   "cell_type": "code",
   "execution_count": 78,
   "metadata": {},
   "outputs": [
    {
     "name": "stdout",
     "output_type": "stream",
     "text": [
      "Epoch 1/3\n",
      "73477/73477 [==============================] - 121s 2ms/step - loss: 0.0120 - accuracy: 0.9970\n",
      "Epoch 2/3\n",
      "73477/73477 [==============================] - 122s 2ms/step - loss: 0.0075 - accuracy: 0.9982\n",
      "Epoch 3/3\n",
      "73477/73477 [==============================] - 119s 2ms/step - loss: 0.0073 - accuracy: 0.9983\n",
      "38269/38269 [==============================] - 43s 1ms/step\n",
      "              precision    recall  f1-score   support\n",
      "\n",
      " brute force       0.00      0.00      0.00        19\n",
      "       files       0.00      0.00      0.00         6\n",
      "    internal       1.00      1.00      1.00    702901\n",
      "        none       1.00      1.00      1.00    243103\n",
      "       pings       1.00      1.00      1.00    268035\n",
      "     scripts       0.00      0.00      0.00         3\n",
      "      sweeps       0.97      0.90      0.94     10285\n",
      "       warez       0.00      0.00      0.00       256\n",
      "\n",
      "    accuracy                           1.00   1224608\n",
      "   macro avg       0.50      0.49      0.49   1224608\n",
      "weighted avg       1.00      1.00      1.00   1224608\n",
      "\n"
     ]
    }
   ],
   "source": [
    "# Create a train and test data from the full dataset\n",
    "X_train, X_test, y_tr, y_te = train_test_split(X_small, small_train['group'], test_size = .25, random_state = 42)\n",
    "\n",
    "# Encode the different groups as numeric values\n",
    "label_encoder = LabelEncoder()\n",
    "# fit and transform the y training data with label encoder\n",
    "y_group = label_encoder.fit_transform(y_tr)\n",
    "# transfrom the encoded data to a categorical variable\n",
    "y_group = to_categorical(y_group, num_classes = 8)\n",
    "\n",
    "# Initialize the model\n",
    "nnettraincat = Sequential()\n",
    "\n",
    "# Create the first layer of the deep learning model with input set the number of features in X_train\n",
    "nnettraincat.add(Dense(12, activation = 'relu', input_dim = X_small.shape[1]))\n",
    "# Add a middle layer to give the model more complexity\n",
    "nnettraincat.add(Dense(12, activation = 'relu'))\n",
    "# Add a middle layer to give the model more complexity\n",
    "nnettraincat.add(Dense(12, activation = 'relu'))\n",
    "# Add a middle layer to give the model more complexity\n",
    "nnettraincat.add(Dense(12, activation = 'relu'))\n",
    "# Add a middle layer to give the model more complexity\n",
    "nnettraincat.add(Dense(12, activation = 'relu'))\n",
    "# Finish with the same amount of nodes as categories that there are to predict\n",
    "nnettraincat.add(Dense(8, activation = 'softmax'))\n",
    "\n",
    "# Compile the network with the standard optimiizer and loss function\n",
    "nnettraincat.compile(optimizer = 'adam', loss = 'categorical_crossentropy', metrics = ['accuracy'])\n",
    "# Train the model with X_train and the encoded categorical y_group\n",
    "nnettraincat.fit(X_train, y_group, epochs = 3, batch_size = 50)\n",
    "# Create the predictions. This creates an array that has as many columns as potential predictions\n",
    "preds = nnettraincat.predict(X_test)\n",
    "# Take the highest prediction as the model's prediction\n",
    "pred = preds.argmax(axis = 1)\n",
    "# get the intrusions corresponding to the encoder class.\n",
    "ints = label_encoder.classes_\n",
    "# Assign each of the predictions to the group that they correspond to\n",
    "predictions = [ints[i] for i in pred]\n",
    "# Print out the classification report\n",
    "print(classification_report(y_te, predictions, zero_division = 0))"
   ]
  },
  {
   "attachments": {},
   "cell_type": "markdown",
   "metadata": {},
   "source": [
    "This continues the earlier model's training perfect results for predicting if there is an intrusion or not. It is important to note that every group over with over 300 observations the model performed very well. Unfortunately the rare groups the model had a lot more trouble with. Given the amount of observations that are in the dataset the model is still clearly giving important information."
   ]
  },
  {
   "cell_type": "code",
   "execution_count": 79,
   "metadata": {},
   "outputs": [],
   "source": [
    "# redefine y_group variable as the 'group' column from the test set\n",
    "y_group = small_test['group']\n",
    "# Initialize the label encoder\n",
    "label_encoder = LabelEncoder()\n",
    "# fit and transform y_group\n",
    "y_group = label_encoder.fit_transform(y_group)\n",
    "# Transform the y_group variable to a categorical variable\n",
    "y_group = to_categorical(y_group, num_classes = 8)"
   ]
  },
  {
   "cell_type": "code",
   "execution_count": 80,
   "metadata": {},
   "outputs": [
    {
     "name": "stdout",
     "output_type": "stream",
     "text": [
      "9720/9720 [==============================] - 10s 1ms/step\n",
      "              precision    recall  f1-score   support\n",
      "\n",
      " brute force       0.00      0.00      0.00      7574\n",
      "       files       0.00      0.00      0.00         5\n",
      "    internal       0.96      0.99      0.98    165217\n",
      "        none       0.69      0.89      0.78     60592\n",
      "       pings       0.98      0.91      0.94     63109\n",
      "     scripts       0.00      0.00      0.00      8763\n",
      "      sweeps       0.55      0.50      0.52      4166\n",
      "       warez       0.00      0.00      0.00      1602\n",
      "\n",
      "    accuracy                           0.89    311028\n",
      "   macro avg       0.40      0.41      0.40    311028\n",
      "weighted avg       0.85      0.89      0.87    311028\n",
      "\n"
     ]
    }
   ],
   "source": [
    "# Predict the test dataset with the previous model\n",
    "preds = nnettraincat.predict(X_small_test)\n",
    "# Find the prediction that the model likes the most\n",
    "pred = preds.argmax(axis = 1)\n",
    "# Get the corresponding group types from label_encoder\n",
    "ints = label_encoder.classes_\n",
    "# find the intrusions for each prediction\n",
    "predictions = [ints[i] for i in pred]\n",
    "# Print the classification report\n",
    "print(classification_report(small_test['group'], predictions, zero_division = 0))"
   ]
  },
  {
   "attachments": {},
   "cell_type": "markdown",
   "metadata": {},
   "source": [
    "This is a horrible result as the none group had a significant reduction in precision. It is important to realize that the model was able to correctly identify 89% of the normal observations but there were a lot of false positives. I'm sure that there are a lot of ways to optimize the model that would better capture what is an intrusion and what is not."
   ]
  },
  {
   "attachments": {},
   "cell_type": "markdown",
   "metadata": {},
   "source": [
    "#### **Big Data**"
   ]
  },
  {
   "attachments": {},
   "cell_type": "markdown",
   "metadata": {},
   "source": [
    "Now is the chance to use the bigger dataset that is supposed to contain every features that can help distinguish between the intrusion types."
   ]
  },
  {
   "cell_type": "code",
   "execution_count": 87,
   "metadata": {},
   "outputs": [
    {
     "name": "stdout",
     "output_type": "stream",
     "text": [
      "              precision    recall  f1-score   support\n",
      "\n",
      " brute force       0.00      0.00      0.00        19\n",
      "       files       0.00      0.00      0.00         3\n",
      "    internal       1.00      1.00      1.00    703507\n",
      "        none       1.00      1.00      1.00    242578\n",
      "       pings       1.00      1.00      1.00    267962\n",
      "     scripts       0.00      0.00      0.00         4\n",
      "      sweeps       0.99      0.98      0.98     10290\n",
      "       warez       0.00      0.00      0.00       245\n",
      "\n",
      "    accuracy                           1.00   1224608\n",
      "   macro avg       0.50      0.50      0.50   1224608\n",
      "weighted avg       1.00      1.00      1.00   1224608\n",
      "\n"
     ]
    }
   ],
   "source": [
    "# Create a train and test data from the full dataset\n",
    "X_train, X_test, y_tr, y_te = train_test_split(X_big, small_train['group'], test_size = .25)\n",
    "\n",
    "# Initialize the label encoder\n",
    "label_encoder = LabelEncoder()\n",
    "# fit and transform the y training data with label encoder\n",
    "y_group = label_encoder.fit_transform(y_tr)\n",
    "# transfrom the encoded data to a categorical variable\n",
    "y_group = to_categorical(y_group, num_classes = 8)\n",
    "\n",
    "# Initialize the model\n",
    "nnetbigcat = Sequential()\n",
    "\n",
    "# Create the first layer of the deep learning model with input set the number of features in X_train\n",
    "nnetbigcat.add(Dense(61, activation = 'relu', input_dim = X_big.shape[1]))\n",
    "# Add a middle layer to give the model more complexity\n",
    "nnetbigcat.add(Dense(61, activation = 'relu'))\n",
    "# Add a middle layer to give the model more complexity\n",
    "nnetbigcat.add(Dense(61, activation = 'relu'))\n",
    "# Add a middle layer to give the model more complexity\n",
    "nnetbigcat.add(Dense(61, activation = 'relu'))\n",
    "# Add a middle layer to give the model more complexity\n",
    "nnetbigcat.add(Dense(61, activation = 'relu'))\n",
    "# Add a middle layer to give the model more complexity\n",
    "nnetbigcat.add(Dense(61, activation = 'relu'))\n",
    "# Add a middle layer to give the model more complexity\n",
    "nnetbigcat.add(Dense(61, activation = 'relu'))\n",
    "# Add a middle layer to give the model more complexity\n",
    "nnetbigcat.add(Dense(61, activation = 'relu'))\n",
    "# Add a middle layer to give the model more complexity\n",
    "nnetbigcat.add(Dense(61, activation = 'relu'))\n",
    "# Add a middle layer to give the model more complexity\n",
    "nnetbigcat.add(Dense(53, activation = 'relu'))\n",
    "# Add a middle layer to give the model more complexity\n",
    "nnetbigcat.add(Dense(38, activation = 'relu'))\n",
    "# Add a middle layer to give the model more complexity\n",
    "nnetbigcat.add(Dense(25, activation = 'relu'))\n",
    "# Add a middle layer to give the model more complexity\n",
    "nnetbigcat.add(Dense(14, activation = 'relu'))\n",
    "# Finish with the same amount of nodes as categories that there are to predict\n",
    "nnetbigcat.add(Dense(8, activation = 'softmax'))\n",
    "# Compile the network with the standard optimiizer and loss function\n",
    "nnetbigcat.compile(optimizer = 'adam', loss = 'binary_crossentropy', metrics = ['binary_accuracy'])\n",
    "# Train the model with X_train and the encoded categorical y_group\n",
    "nnetbigcat.fit(X_train.astype('float32'), y_group, epochs = 2, batch_size = 50)\n",
    "# Create the predictions. This creates an array that has as many columns as potential predictions\n",
    "preds = nnetbigcat.predict(X_test)\n",
    "# Take the highest prediction as the model's prediction\n",
    "pred = preds.argmax(axis = 1)\n",
    "# get the intrusions corresponding to the encoder class.\n",
    "ints = label_encoder.classes_\n",
    "# Assign each of the predictions to the group that they correspond to\n",
    "predictions = [ints[i] for i in pred]\n",
    "# Print out the classification report\n",
    "print(classification_report(y_te, predictions, zero_division = 0))"
   ]
  },
  {
   "attachments": {},
   "cell_type": "markdown",
   "metadata": {},
   "source": [
    "This was slightly more precise than the previous model where the sweeps group was nearly perfect. Now lets see how it performs on the official test set."
   ]
  },
  {
   "cell_type": "code",
   "execution_count": 88,
   "metadata": {},
   "outputs": [
    {
     "name": "stdout",
     "output_type": "stream",
     "text": [
      "9720/9720 [==============================] - 14s 1ms/step\n",
      "              precision    recall  f1-score   support\n",
      "\n",
      " brute force       0.00      0.00      0.00      7574\n",
      "       files       0.00      0.00      0.00         5\n",
      "    internal       0.97      1.00      0.99    165217\n",
      "        none       0.71      0.92      0.80     60592\n",
      "       pings       0.98      0.92      0.95     63109\n",
      "     scripts       0.00      0.00      0.00      8763\n",
      "      sweeps       0.77      0.68      0.72      4166\n",
      "       warez       0.00      0.00      0.00      1602\n",
      "\n",
      "    accuracy                           0.91    311028\n",
      "   macro avg       0.43      0.44      0.43    311028\n",
      "weighted avg       0.87      0.91      0.88    311028\n",
      "\n"
     ]
    }
   ],
   "source": [
    "# Predict the test dataset with the previous model\n",
    "preds = nnetbigcat.predict(X_big_test)\n",
    "# Find the prediction that the model likes the most\n",
    "pred = preds.argmax(axis = 1)\n",
    "# Get the corresponding group types from label_encoder\n",
    "ints = label_encoder.classes_\n",
    "# find the intrusions for each prediction\n",
    "predictions = [ints[i] for i in pred]\n",
    "# Print the classification report\n",
    "print(classification_report(small_test['group'], predictions, zero_division = 0))"
   ]
  },
  {
   "attachments": {},
   "cell_type": "markdown",
   "metadata": {},
   "source": [
    "Overall the neural networks were amazing at predicting intrusion types that had already happened. If this model was to be used at a security firm than the more diverse set of intrusions that it was allowed to train on the better it would do. Unfortunately there are a set of attacks that without training data is impossible for this model to catch. I don't know if there is a better way to train the model to catch them.\n",
    "\n",
    "The one thing that I wish I had done better was to get the model to generate more rare events. Given the size of the dataset and the rarety of some of the intrusion types the models just ignored those types and stuck with the more common intrusion types. If I had weighted the model and created some synthetic data with some of the rarer intrusion types that might have helped the model predict all intrusion types."
   ]
  },
  {
   "attachments": {},
   "cell_type": "markdown",
   "metadata": {},
   "source": [
    "### **Random Forrest**"
   ]
  },
  {
   "attachments": {},
   "cell_type": "markdown",
   "metadata": {},
   "source": [
    "The second type of model that I will use is random forrest which is an ensemble method of decision trees. The idea is that since hacking is an inherently human act, the process should follow some sort of decision tree where certain features being elevated or lowered should lead to certain types of intrusions. I did not have enough time to conduct a grid search or random search so I just did the basic version of a Random Forest Classifier."
   ]
  },
  {
   "cell_type": "code",
   "execution_count": 7,
   "metadata": {},
   "outputs": [
    {
     "name": "stdout",
     "output_type": "stream",
     "text": [
      "              precision    recall  f1-score   support\n",
      "\n",
      "           0       0.70      0.86      0.77     60592\n",
      "           1       0.96      0.91      0.94    250436\n",
      "\n",
      "    accuracy                           0.90    311028\n",
      "   macro avg       0.83      0.89      0.85    311028\n",
      "weighted avg       0.91      0.90      0.90    311028\n",
      "\n"
     ]
    }
   ],
   "source": [
    "# Create a random forest classifier with 100 trees\n",
    "rf = RandomForestClassifier(n_estimators=100, random_state= 42)\n",
    "\n",
    "# Fit the model to the data\n",
    "rf.fit(X_small, y_train)\n",
    "\n",
    "# Predict the test set\n",
    "rf_pred = rf.predict(X_small_test)\n",
    "\n",
    "# print the classification report\n",
    "print(classification_report(y_test, rf_pred, zero_division = 0))"
   ]
  },
  {
   "attachments": {},
   "cell_type": "markdown",
   "metadata": {},
   "source": [
    "This is slightly worse than the neural network but it is very close. It could be that If the hyper parameters were correctly tuned that the results would be better. Below is a categorical random forrest."
   ]
  },
  {
   "cell_type": "code",
   "execution_count": null,
   "metadata": {},
   "outputs": [],
   "source": [
    "# Create a random forest classifier with 100 trees\n",
    "rf = RandomForestClassifier(n_estimators=100, random_state= 42)\n",
    "\n",
    "# Fit the model to the data\n",
    "rf.fit(X_small, y_group)\n",
    "\n",
    "# Predict the test set\n",
    "rf_pred_group = rf.predict(X_small_test)"
   ]
  },
  {
   "cell_type": "code",
   "execution_count": 12,
   "metadata": {},
   "outputs": [
    {
     "name": "stdout",
     "output_type": "stream",
     "text": [
      "              precision    recall  f1-score   support\n",
      "\n",
      " brute force       0.01      0.01      0.01      7574\n",
      "       files       0.00      0.00      0.00         5\n",
      "    internal       0.82      0.80      0.81    165217\n",
      "        none       0.54      0.99      0.70     60592\n",
      "       pings       0.94      0.28      0.43     63109\n",
      "     scripts       0.00      0.00      0.00      8763\n",
      "      sweeps       0.20      0.50      0.29      4166\n",
      "       warez       0.00      0.00      0.00      1602\n",
      "\n",
      "    accuracy                           0.68    311028\n",
      "   macro avg       0.31      0.32      0.28    311028\n",
      "weighted avg       0.74      0.68      0.66    311028\n",
      "\n"
     ]
    }
   ],
   "source": [
    "# Predict the test dataset with the previous model\n",
    "preds = rf.predict(X_small_test)\n",
    "# Find the prediction that the model likes the most\n",
    "pred = preds.argmax(axis = 1)\n",
    "# Get the corresponding group types from label_encoder\n",
    "ints = label_encoder.classes_\n",
    "# find the intrusions for each prediction\n",
    "predictions = [ints[i] for i in pred]\n",
    "# Print the classification report\n",
    "print(classification_report(small_test['group'], predictions, zero_division = 0))"
   ]
  },
  {
   "attachments": {},
   "cell_type": "markdown",
   "metadata": {},
   "source": [
    "This did significantly worse than the neural network. It is important to note that it recalled 99% of all the non intrusion observations but its precision was so low that has much less importance than the recall would indicate.\n",
    "\n",
    "Below is the same but with the bigger dataset."
   ]
  },
  {
   "cell_type": "code",
   "execution_count": 93,
   "metadata": {},
   "outputs": [
    {
     "name": "stdout",
     "output_type": "stream",
     "text": [
      "              precision    recall  f1-score   support\n",
      "\n",
      " brute force       0.05      0.42      0.09      7574\n",
      "       files       0.00      0.00      0.00         5\n",
      "    internal       0.53      0.00      0.00    165217\n",
      "        none       0.21      0.78      0.34     60592\n",
      "       pings       0.98      0.28      0.43     63109\n",
      "     scripts       0.00      0.00      0.00      8763\n",
      "      sweeps       0.76      0.76      0.76      4166\n",
      "       warez       1.00      0.13      0.23      1602\n",
      "\n",
      "    accuracy                           0.23    311028\n",
      "   macro avg       0.44      0.30      0.23    311028\n",
      "weighted avg       0.54      0.23      0.17    311028\n",
      "\n"
     ]
    }
   ],
   "source": [
    "# Initialize the label encoder\n",
    "label_encoder = LabelEncoder()\n",
    "# fit and transform y_group\n",
    "y_group = label_encoder.fit_transform(small_train['group'])\n",
    "# Transform the y_group variable to a categorical variable\n",
    "y_group = to_categorical(y_group, num_classes = 8)\n",
    "\n",
    "\n",
    "# Create a random forest classifier with 100 trees\n",
    "rf = RandomForestClassifier(n_estimators=100, random_state= 42)\n",
    "\n",
    "# Fit the model to the data\n",
    "rf.fit(X_big, y_group)\n",
    "\n",
    "# Predict the test dataset with the previous model\n",
    "preds = rf.predict(X_big_test)\n",
    "# Find the prediction that the model likes the most\n",
    "pred = preds.argmax(axis = 1)\n",
    "# Get the corresponding group types from label_encoder\n",
    "ints = label_encoder.classes_\n",
    "# find the intrusions for each prediction\n",
    "predictions = [ints[i] for i in pred]\n",
    "# Print the classification report\n",
    "print(classification_report(small_test['group'], predictions, zero_division = 0))\n"
   ]
  },
  {
   "attachments": {},
   "cell_type": "markdown",
   "metadata": {},
   "source": [
    "## **Conclusion**\n",
    "\n",
    "From these results it is clear that the neural network model is the best model. With more time I could run a lot of hyper paramater tuning and investigate if taking the highest value soft max is the best decision or if maybe sometimes the model hints at something rarer that gets covered up by higher values of more common types. But until then the best model was the big data categorical model. It recalled 92% of all non intrusion observations and 71% precision while also giving valuable insight into the type of intrusion it was. This means that when the model predicted that there was an intrusion there was a 1-(.195*(1-.92)) = 98.4% chance that there was an intrusion."
   ]
  }
 ],
 "metadata": {
  "kernelspec": {
   "display_name": "Capstone-2",
   "language": "python",
   "name": "python3"
  },
  "language_info": {
   "codemirror_mode": {
    "name": "ipython",
    "version": 3
   },
   "file_extension": ".py",
   "mimetype": "text/x-python",
   "name": "python",
   "nbconvert_exporter": "python",
   "pygments_lexer": "ipython3",
   "version": "3.10.9"
  },
  "orig_nbformat": 4
 },
 "nbformat": 4,
 "nbformat_minor": 2
}
