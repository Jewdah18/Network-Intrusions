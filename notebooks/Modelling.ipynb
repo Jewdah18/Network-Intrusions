{
 "cells": [
  {
   "attachments": {},
   "cell_type": "markdown",
   "metadata": {},
   "source": [
    "# **Modeling**"
   ]
  },
  {
   "attachments": {},
   "cell_type": "markdown",
   "metadata": {},
   "source": [
    "**Import Packages**"
   ]
  },
  {
   "cell_type": "code",
   "execution_count": 1,
   "metadata": {},
   "outputs": [],
   "source": [
    "import os\n",
    "os.environ['CUDA_LAUNCH_BLOCKING'] = '1'\n",
    "\n",
    "import numpy as np\n",
    "import pandas as pd\n",
    "import matplotlib.pyplot as plt\n",
    "import seaborn as sns\n",
    "from sklearn.ensemble import RandomForestClassifier\n",
    "\n",
    "import torch \n",
    "import torch.nn as nn\n",
    "import torch.nn.functional as F\n",
    "import torch.optim as optim\n",
    "import torch.multiprocessing as mp\n",
    "\n",
    "from tensorflow.keras.models import Sequential\n",
    "from tensorflow.keras.layers import Dense\n",
    "from tensorflow.keras.activations import relu, softmax\n",
    "from tensorflow.keras.utils import to_categorical\n",
    "\n",
    "\n",
    "from sklearn.model_selection import train_test_split\n",
    "from sklearn.preprocessing import LabelEncoder\n",
    "from sklearn.metrics import classification_report\n",
    "from sklearn.preprocessing import StandardScaler\n",
    "from sklearn.metrics import roc_curve, auc\n",
    "from sklearn.linear_model import Lasso\n",
    "from sklearn.model_selection import GridSearchCV\n",
    "\n",
    "plt.style.use('dark_background')"
   ]
  },
  {
   "attachments": {},
   "cell_type": "markdown",
   "metadata": {},
   "source": [
    "**Set the Directory**"
   ]
  },
  {
   "cell_type": "code",
   "execution_count": 2,
   "metadata": {},
   "outputs": [],
   "source": [
    "# Change the directory to Capstone 2\n",
    "os.chdir(r'C:\\Users\\jdrel\\OneDrive\\Documents\\Data_Science\\Springboard\\Capstone-2')"
   ]
  },
  {
   "attachments": {},
   "cell_type": "markdown",
   "metadata": {},
   "source": [
    "**Load the Data**"
   ]
  },
  {
   "cell_type": "code",
   "execution_count": 3,
   "metadata": {},
   "outputs": [],
   "source": [
    "# Import the small training set\n",
    "small_train = pd.read_csv('./data/processed/small_train.csv')\n",
    "\n",
    "# Import the small test set\n",
    "small_test = pd.read_csv('./data/processed/small_test.csv')\n",
    "\n",
    "# Import the small training set\n",
    "big_train = pd.read_csv('./data/processed/big_train.csv')\n",
    "\n",
    "# Import the small test set\n",
    "big_test = pd.read_csv('./data/processed/big_test.csv')"
   ]
  },
  {
   "attachments": {},
   "cell_type": "markdown",
   "metadata": {},
   "source": [
    "Now that I have loaded the datasets, I need to separate out the features (X) from the target variable (y) so that it is easy to run the models. "
   ]
  },
  {
   "cell_type": "code",
   "execution_count": 4,
   "metadata": {},
   "outputs": [],
   "source": [
    "# Create the X which is only features in the training data\n",
    "X_small = small_train.drop(['labels', 'group'], axis = 1)\n",
    "# Create X small for the test set\n",
    "X_small_test = small_test.drop(['labels', 'group'], axis = 1)\n",
    "# Do the same thing for the bigger data set\n",
    "X_big = big_train.drop(['labels', 'group'], axis = 1)\n",
    "# Create X big for the test set\n",
    "X_big_test = big_test.drop(['labels'], axis = 1)\n",
    "# Create the binary y for the training set.\n",
    "y_train_binary = pd.DataFrame(np.where(small_train['labels'] == 'normal.', 0, 1), columns = ['Binary'])\n",
    "# Combine labels and binary so that I can analyze which intrusions did well\n",
    "y_train = pd.concat([small_train['labels'], y_train_binary], axis = 1)\n",
    "# Create the binary y for the test set\n",
    "y_test_binary = pd.DataFrame(np.where(small_test['labels'] == 'normal.', 0, 1), columns= ['Binary'])\n",
    "# Combine labels and binary so that I can analyze which intrusions did well\n",
    "y_test = pd.concat([small_test['labels'], y_test_binary], axis = 1)"
   ]
  },
  {
   "attachments": {},
   "cell_type": "markdown",
   "metadata": {},
   "source": [
    "## **Neural Network**\n",
    "\n",
    "I wanted to use a gpu for my neural network to speed up the processing significantly. I first tried Keras since that is the simplest API for deeep learning in Python. Unfortunately tensorflow-gpu has discontinued support for Windows so I would have to downgrade of many of the packages in this environment to be compatible with an older version of tensorflow-gpu that is Windows compatible. \n",
    "\n",
    "I then saw that while tensorflow-gpu doesn't support Windows, it still supports Linux. I installed Windows Subsystem for Linux (WSL) and tried a remote session in VScode through Linux to use tensorflow gpu. After many failed attempts of a crashed kernel, I was able to get my gpu to run the neural networks with tensorflow in the Linux distribution in WSL. Sadly it took significantly longer to run tensorflow-gpu in Linux than it did to run tensorflow on the cpu in Windows. The WSL Linux system is missing many of the GPU optimizations that would make it faster than the cpu. I did not have the time to figure out how to optimize the GPU for WSL.\n",
    "\n",
    "My last hope was to try Pytorch on Windows since Pytorch hasn't discontinued Windows support. I don't know how to use Pytorch well but since I have already built the models with the Keras API, I asked chatGPT to translate from Keras to Pytorch. The translation wasn't perfect but after a few fixes I ran the neural net with Pytorch on the GPU. This did not accelerate the run time because there is an initial time cost of converting the model to the GPU before it can run. \n",
    "\n",
    "Below I test to see if Pytorch is able to detect my NVIDIA GPU"
   ]
  },
  {
   "cell_type": "code",
   "execution_count": 5,
   "metadata": {},
   "outputs": [
    {
     "name": "stdout",
     "output_type": "stream",
     "text": [
      "GPU is available\n"
     ]
    }
   ],
   "source": [
    "# Check if GPU is available\n",
    "if torch.cuda.is_available():\n",
    "    device = torch.device(\"cuda\")  # Use the GPU\n",
    "    print(\"GPU is available\")\n",
    "else:\n",
    "    device = torch.device(\"cpu\")  # Use the CPU\n",
    "    print(\"GPU is not available, using CPU\")"
   ]
  },
  {
   "attachments": {},
   "cell_type": "markdown",
   "metadata": {},
   "source": [
    "My computer has two GPUs. An Intel GPU for videos and graphics in normal computing and an NVIDIA GPU for gaming. The code below is to set the GPU that Pytorch is using to NVIDIA."
   ]
  },
  {
   "cell_type": "code",
   "execution_count": 6,
   "metadata": {},
   "outputs": [
    {
     "data": {
      "text/plain": [
       "device(type='cuda')"
      ]
     },
     "execution_count": 6,
     "metadata": {},
     "output_type": "execute_result"
    }
   ],
   "source": [
    "# Set the GPU through the name cuda\n",
    "torch.device(\"cuda\")"
   ]
  },
  {
   "attachments": {},
   "cell_type": "markdown",
   "metadata": {},
   "source": [
    "#### **Define Model Functions**\n",
    "\n",
    "Now I can create a training function similar to the .fit method in Keras so that everytime I need to use this neural net I can call the function."
   ]
  },
  {
   "cell_type": "code",
   "execution_count": 17,
   "metadata": {},
   "outputs": [],
   "source": [
    "# Create a fit function that takes the X-train, y-train, epochs and Batch Size and fits the model\n",
    "def train_model(X_train, y_train, epochs, batch_sizes, net):\n",
    "    y_train = np.array(y_train['Binary'])\n",
    "\n",
    "    # Create an instance of the model with the correct input_dim\n",
    "    model = net(X_train.shape[1])\n",
    "\n",
    "    # Check if the GPU is available and save it to device. If not use the cpu\n",
    "    device = torch.device(\"cuda\" if torch.cuda.is_available() else \"cpu\")\n",
    "    # Move the model over to the device that is available\n",
    "    model.to(device)\n",
    "\n",
    "    # Define the loss function\n",
    "    criterion = nn.BCELoss()\n",
    "\n",
    "    # Define the optimizer\n",
    "    optimizer = optim.Adam(model.parameters())\n",
    "\n",
    "    X_train_tensor = torch.Tensor(X_train.values).float().to(device)\n",
    "    y_train_tensor = torch.Tensor(y_train).float().to(device)\n",
    "\n",
    "    # Training loop\n",
    "    num_epochs = epochs\n",
    "    batch_size = batch_sizes\n",
    "    global losses\n",
    "    losses = []\n",
    "    for epoch in range(num_epochs):\n",
    "        # Shuffle the data at the start of each epoch\n",
    "        indices = np.random.permutation(len(X_train_tensor))\n",
    "        shuffled_X = X_train_tensor[indices]\n",
    "        shuffled_y = y_train_tensor[indices]\n",
    "        \n",
    "        # Set the model to training mode\n",
    "        model.train()\n",
    "\n",
    "        # Mini-batch training\n",
    "        for i in range(0, len(X_train_tensor), batch_size):\n",
    "\n",
    "            batch_X = shuffled_X[i:i+batch_size]\n",
    "            batch_y = shuffled_y[i:i+batch_size]\n",
    "\n",
    "            # Forward pass\n",
    "            outputs = model(batch_X)\n",
    "            outputs = outputs.view(-1)\n",
    "            loss = criterion(outputs, batch_y)\n",
    "\n",
    "            # Backward and optimize\n",
    "            optimizer.zero_grad()\n",
    "            loss.backward()\n",
    "            optimizer.step()\n",
    "\n",
    "            # Compute accuracy\n",
    "            predicted_labels = (outputs > 0.5).float()\n",
    "            accuracy = (predicted_labels == batch_y).float().mean()\n",
    "        \n",
    "\n",
    "            # Print loss and accuracy\n",
    "            print(f'\\rEpoch [{epoch+1}/{num_epochs}], Step [{i+1}/{len(X_train_tensor)}], Loss: {loss.item():.4f}, Accuracy: {accuracy.item():.4f}', end = '\\r')\n",
    "        \n",
    "        losses.append(loss.item()) # type: ignore\n",
    "    \n",
    "    return model"
   ]
  },
  {
   "attachments": {},
   "cell_type": "markdown",
   "metadata": {},
   "source": [
    "I can also create a function that plots the loss function from each training epoch so that I can see how well the model trains."
   ]
  },
  {
   "cell_type": "code",
   "execution_count": 25,
   "metadata": {},
   "outputs": [],
   "source": [
    "# Create a function that takes in the loss from the train_model as an argument\n",
    "def loss_plot(loss = losses):\n",
    "    # Create a plot of the the epics and the losses for each epoch\n",
    "    plt.plot(range(1,len(loss) + 1), loss);\n",
    "    # Match the ticks to the epochs\n",
    "    plt.xticks(np.arange(1, len(loss) + 1));\n",
    "    # Label the x-axis of the graph\n",
    "    plt.xlabel(\"Epoch #\");\n",
    "    # Label the y-axis of the graph\n",
    "    plt.ylabel(\"Cost\");\n",
    "    # Title the graph\n",
    "    plt.title(\"Model Cost\");"
   ]
  },
  {
   "attachments": {},
   "cell_type": "markdown",
   "metadata": {},
   "source": [
    "And finally I can create a function to evaluate the model with a given test set."
   ]
  },
  {
   "cell_type": "code",
   "execution_count": 39,
   "metadata": {},
   "outputs": [],
   "source": [
    "# Create a function to evaluate the model\n",
    "def eval_model(X_test, y_test, model):\n",
    "    # Set the model to evaluation mode\n",
    "    model.eval()\n",
    "\n",
    "    # Move the model and data back to the CPU\n",
    "    model.to(\"cpu\")\n",
    "    X_test_tensor = torch.Tensor(X_test.values).float()\n",
    "\n",
    "    # Make Preds a global variable for the roc graph\n",
    "    global preds\n",
    "    # Perform predictions on the test set\n",
    "    with torch.no_grad():\n",
    "        preds = model(X_test_tensor)\n",
    "\n",
    "    # Convert the predictions tensor to a numpy array\n",
    "    preds = preds.numpy()\n",
    "\n",
    "    # Classify the predicitions as 0 or 1 since the values the sigmoid produces are not exact\n",
    "    preds = np.where(preds < .5, 0, 1)\n",
    "\n",
    "    # Print the classification report \n",
    "    print(classification_report(y_test['Binary'], preds, zero_division = 0))"
   ]
  },
  {
   "cell_type": "code",
   "execution_count": 10,
   "metadata": {},
   "outputs": [],
   "source": [
    "# Define a function that examines how the new intrusion types did\n",
    "def ints_eval(preds, test, multi = False, mask = True):\n",
    "    global new_attacks\n",
    "    # Create a list of all the new attack types. This list was taken from preprocessing notebook\n",
    "    new_attacks = ['xsnoop.', 'udpstorm.', 'mscan.', 'named.', 'processtable.', 'xlock.', 'snmpgetattack.', \n",
    "               'snmpguess.', 'worm.', 'ps.', 'httptunnel.', 'sendmail.', 'saint.', 'mailbomb.', 'apache2.', 'xterm.', 'sqlattack.']\n",
    "    if mask == True:\n",
    "        mask = test['labels'].isin(new_attacks)\n",
    "        # create a dataframe that is a column of labels that only has the new labels\n",
    "        new_labels = pd.DataFrame(test['labels'][mask], columns = ['labels']).reset_index(drop=True)\n",
    "        # create a dataframe that is a column of labels that only has the predictions\n",
    "        pred_df = pd.DataFrame(preds[mask], columns = ['pred']).reset_index(drop=True)\n",
    "        # Combine the labels and the predictions for analysis\n",
    "        new_intrusions = pd.concat([new_labels, pred_df], axis = 1)\n",
    "    else:\n",
    "        # create a dataframe that is a column of labels that only has the new labels\n",
    "        new_labels = pd.DataFrame(test['labels'], columns = ['labels']).reset_index(drop=True)\n",
    "        # create a dataframe that is a column of labels that only has the predictions\n",
    "        pred_df = pd.DataFrame(preds, columns = ['pred']).reset_index(drop=True)\n",
    "        # Combine the labels and the predictions for analysis\n",
    "        new_intrusions = pd.concat([new_labels, pred_df], axis = 1)\n",
    "    # For binary evaluation\n",
    "    if multi == False:\n",
    "        # Run value counts when the prediction is positive to see which new intrusions the model captures\n",
    "        cni = new_intrusions.loc[new_intrusions['pred'] == 1, 'labels'].value_counts()\n",
    "        # Run value counts when the prediction is negative to see which new intrusions the model doesn't capture\n",
    "        wni = new_intrusions.loc[new_intrusions['pred'] == 0, 'labels'].value_counts()\n",
    "    # If this is a multiclass evaluation\n",
    "    else:\n",
    "        # Initialize cni and wni as pandas series\n",
    "        cni = pd.Series()\n",
    "        wni = pd.Series()\n",
    "        # iterate through the different labels of the dataset\n",
    "        for label in test['label'].unique():\n",
    "            # Iterate through all the predictions\n",
    "            for i in range(len(preds)):\n",
    "                # Select all the correct predictions\n",
    "                if preds[i] == test['group'][i]:\n",
    "                    # Add 1 to the count everytime there is a correct prediction\n",
    "                    cni[label] += 1\n",
    "                # If it isn't correct\n",
    "                else:\n",
    "                    # Add one to the incorrect guesses\n",
    "                    wni[label] +=1\n",
    "    # Join the right and wrong counts\n",
    "    deep_dive = pd.concat([cni,wni],axis = 1)\n",
    "    # Change the column names to indicate what the counts mean\n",
    "    deep_dive.columns = [\"Correct\", \"Wrong\"]\n",
    "    # fill in the NaN values since some attacks had no correct predictions\n",
    "    deep_dive = deep_dive.fillna(0)\n",
    "    # Convert the correct column to the integer type\n",
    "    deep_dive[\"Correct\"] = deep_dive[\"Correct\"].astype(int)\n",
    "    # Create a Net column to show the best and worst new intrusions for the model\n",
    "    deep_dive[\"Net\"] = deep_dive[\"Correct\"] - deep_dive[\"Wrong\"]\n",
    "    # Create a column showing the percent correct\n",
    "    deep_dive[\"% Correct\"] = round(deep_dive['Correct']/(deep_dive['Correct'] + deep_dive['Wrong'])*100,1)\n",
    "    # Convert the wrong column to the integer type\n",
    "    deep_dive[\"Wrong\"] = deep_dive[\"Wrong\"].astype(int)\n",
    "    # Convert the net column to the integer type\n",
    "    deep_dive[\"Net\"] = deep_dive[\"Net\"].astype(int)\n",
    "    # return the data frame\n",
    "    return deep_dive"
   ]
  },
  {
   "attachments": {},
   "cell_type": "markdown",
   "metadata": {},
   "source": [
    "#### **Neural Net Architecture**\n",
    "\n",
    "Pytorch is different from Keras as I have to define a class and then specify the methods in order to create the neural network. Below I have created a model with 4 hidden layers that each have 12 nodes. I started out having as many nodes as features and then creating a decent amount of hidden layers. If the model is having significant problems in training, I will try different model architectures. "
   ]
  },
  {
   "cell_type": "code",
   "execution_count": 11,
   "metadata": {},
   "outputs": [],
   "source": [
    "# Define the model class Net from the parent class nn.Module\n",
    "class Net(nn.Module):\n",
    "    # Initialize the class with \n",
    "    def __init__(self, input_dim):\n",
    "        # Initialize nn.Module with super\n",
    "        super(Net, self).__init__()\n",
    "        # Create the first layer of the neural net\n",
    "        self.fc1 = nn.Linear(input_dim, 12)\n",
    "        # Create the middle layers of the network with 12 nodes that connect to 12 nodes\n",
    "        self.fc2 = nn.Linear(12, 12)\n",
    "        self.fc3 = nn.Linear(12, 12)\n",
    "        self.fc4 = nn.Linear(12, 12)\n",
    "        # Create a layer that has 12 nodes that connect to 8 nodes\n",
    "        self.fc5 = nn.Linear(12, 8)\n",
    "        # Create the last layer that takes 8 nodes and compresses it down to 1\n",
    "        self.fc6 = nn.Linear(8, 1)\n",
    "        self.activation = nn.ReLU()\n",
    "        self.sigmoid = nn.Sigmoid()\n",
    "\n",
    "    # Define a method for the forward propagation of the model\n",
    "    def forward(self, x):\n",
    "        # Create the connections \n",
    "        x = self.activation(self.fc1(x))\n",
    "        x = self.activation(self.fc2(x))\n",
    "        x = self.activation(self.fc3(x))\n",
    "        x = self.activation(self.fc4(x))\n",
    "        x = self.activation(self.fc5(x))\n",
    "        x = self.sigmoid(self.fc6(x))\n",
    "        return x"
   ]
  },
  {
   "attachments": {},
   "cell_type": "markdown",
   "metadata": {},
   "source": [
    "### **Small Data**\n",
    "\n",
    "The first model that I'm going to create will use only the training data. The official test set contains new values so by using the training data as both the training and test set I can assess how well the model performs on this dataset and if it will pick up on the patterns that lead to intrusions."
   ]
  },
  {
   "cell_type": "code",
   "execution_count": 12,
   "metadata": {},
   "outputs": [],
   "source": [
    "# Create a train and test data from the 12 feature dataset\n",
    "X_train, X_test, y_tr, y_te = train_test_split(X_small, y_train, test_size = .25, random_state = 42)"
   ]
  },
  {
   "attachments": {},
   "cell_type": "markdown",
   "metadata": {},
   "source": [
    "#### **Running the Model**"
   ]
  },
  {
   "attachments": {},
   "cell_type": "markdown",
   "metadata": {},
   "source": [
    "I had run the model with nn.BCEloss"
   ]
  },
  {
   "cell_type": "code",
   "execution_count": 18,
   "metadata": {},
   "outputs": [
    {
     "name": "stdout",
     "output_type": "stream",
     "text": [
      "Epoch [10/10], Step [3670001/3673822], Loss: 0.0035, Accuracy: 0.9987\r"
     ]
    }
   ],
   "source": [
    "# Train the model with the cross-validational set\n",
    "nnettrain = train_model(X_train, y_tr, 10, 5000, Net)"
   ]
  },
  {
   "attachments": {},
   "cell_type": "markdown",
   "metadata": {},
   "source": [
    "The loss and accuracy are great. It shows that I did a good job in my data wrangling and preprocessing to come up with features that present clear patterns for the model to use.\n",
    "\n",
    "Below is a plot of the loss function after each epoch. "
   ]
  },
  {
   "cell_type": "code",
   "execution_count": 19,
   "metadata": {},
   "outputs": [
    {
     "data": {
      "image/png": "[encoded data removed]",
      "text/plain": [
       "<Figure size 640x480 with 1 Axes>"
      ]
     },
     "metadata": {},
     "output_type": "display_data"
    }
   ],
   "source": [
    "loss_plot(losses)"
   ]
  },
  {
   "attachments": {},
   "cell_type": "markdown",
   "metadata": {},
   "source": [
    "Because the model was able to train itself so quickly through the different batches in the first epoch, there is little difference in the resulting epoch which appear as random fluctuations.\n",
    "\n",
    "Now that I have a trained model on 75% of the data, I can use the last 25% of the data as a cross validational (cv) dataset to test the model."
   ]
  },
  {
   "cell_type": "code",
   "execution_count": 20,
   "metadata": {},
   "outputs": [
    {
     "name": "stdout",
     "output_type": "stream",
     "text": [
      "              precision    recall  f1-score   support\n",
      "\n",
      "           0       1.00      1.00      1.00    243103\n",
      "           1       1.00      1.00      1.00    981505\n",
      "\n",
      "    accuracy                           1.00   1224608\n",
      "   macro avg       1.00      1.00      1.00   1224608\n",
      "weighted avg       1.00      1.00      1.00   1224608\n",
      "\n"
     ]
    }
   ],
   "source": [
    "eval_model(X_test, y_te, nnettrain)"
   ]
  },
  {
   "attachments": {},
   "cell_type": "markdown",
   "metadata": {},
   "source": [
    "Wow. The model was perfect. Sometimes I have run this model and it has had a few mistakes because the deep learning process isn't deterministic. It is possible for the gradient descent algorithm to get caught in local minima and never find the global minima. Now that I know that this model is very effective for this dataset I will use the entire dataset to train for the official test set.\n",
    "\n",
    "Pytorch ended up being far faster as the predictions took significantly less time because it uses a dynamic computational graph instead of the static graph that tensorflow uses. The dynamic graph changes the architecture of model to be more efficient in evaluation but it may lead to different results in some cases. As far as I can tell there is no significant difference between the two packages. \n",
    "\n",
    "Below I ran the training on the entire 12 feature dataset with this current neural net"
   ]
  },
  {
   "cell_type": "code",
   "execution_count": 45,
   "metadata": {},
   "outputs": [
    {
     "name": "stdout",
     "output_type": "stream",
     "text": [
      "Epoch [10/10], Step [4895001/4898430], Loss: 0.0022, Accuracy: 0.9997\r"
     ]
    }
   ],
   "source": [
    "nnetsmall = train_model(X_small, y_train, 10, 5000, Net)"
   ]
  },
  {
   "attachments": {},
   "cell_type": "markdown",
   "metadata": {},
   "source": [
    "This model was perfect in cross validation and has now been trained on the entirety of the training dataset. I will now save the model so that I or anyone else can access it for future use."
   ]
  },
  {
   "cell_type": "code",
   "execution_count": 46,
   "metadata": {},
   "outputs": [],
   "source": [
    "# Save the model to the model folder\n",
    "torch.save(nnetsmall, './models/nnetsmall.pth')"
   ]
  },
  {
   "attachments": {},
   "cell_type": "markdown",
   "metadata": {},
   "source": [
    "Below I loaded the model in so that I don't have to train it everytime I use the notebook"
   ]
  },
  {
   "cell_type": "code",
   "execution_count": 47,
   "metadata": {},
   "outputs": [
    {
     "name": "stdout",
     "output_type": "stream",
     "text": [
      "              precision    recall  f1-score   support\n",
      "\n",
      "           0       0.75      0.84      0.79     60592\n",
      "           1       0.96      0.93      0.94    250436\n",
      "\n",
      "    accuracy                           0.91    311028\n",
      "   macro avg       0.85      0.88      0.87    311028\n",
      "weighted avg       0.92      0.91      0.91    311028\n",
      "\n"
     ]
    }
   ],
   "source": [
    "# Load the model so that I don't keep having to compute the model\n",
    "nnetsmall = torch.load('./models/nnetsmall.pth')\n",
    "# Evaluate the madel with the test set\n",
    "eval_model(X_small_test, y_test, nnetsmall)"
   ]
  },
  {
   "attachments": {},
   "cell_type": "markdown",
   "metadata": {},
   "source": [
    "At first glance this appears promising, The model is not only better than a coinflip, It is also better than a null model where the model would predict the most frequent class every time. To better understand this result I will find the percentage of observations that are an intrusion."
   ]
  },
  {
   "cell_type": "code",
   "execution_count": 49,
   "metadata": {},
   "outputs": [
    {
     "name": "stdout",
     "output_type": "stream",
     "text": [
      "No Intrusion: 19.5%\n",
      "Intrusion: 80.5%\n"
     ]
    }
   ],
   "source": [
    "# Convert y_test to a string\n",
    "y_test = y_test.astype(str)\n",
    "# Store the unique values and their counts in separate variables\n",
    "vals, counts = np.unique(y_test, return_counts = True)\n",
    "# Create value_counts(normalize=True) for np array\n",
    "prop_counts = counts/len(y_test)\n",
    "# print the % of observations with no intrusion\n",
    "print(f'No Intrusion: {round(prop_counts[0]*100, 1)}%')\n",
    "# print the % of observations with an intrusion\n",
    "print(f'Intrusion: {round(prop_counts[1]*100,1)}%')"
   ]
  },
  {
   "attachments": {},
   "cell_type": "markdown",
   "metadata": {},
   "source": [
    "Above we see that only 19.5% of the test set is safe. If I had predicted an intrusion every time, the classification report would have had a precision of 80 for intrusion, 100 for recall intrusion and zeroes on everything for no intrusion. \n",
    "\n",
    "The accuracy scores show that this model is providing important value as they would be 50 if the model guessed intrusion every time. It is also important to note that the test set contains new intrusion types that aren't like the training set. Given the very high training scores, if I had a dataset that didn't have the new intrusion types this model would have been nearly perfect.\n",
    "\n",
    "To get a better understanding of how well the model performed I can use the Reciever under the Curve metric which measures the True Positive Rate (TPR) against the False Positive Rate (FPR). A ROC area of greater that 0.8 is good and an ROC curve of 0.9 or greater is excellent."
   ]
  },
  {
   "cell_type": "code",
   "execution_count": 22,
   "metadata": {},
   "outputs": [
    {
     "data": {
      "image/png": "[encoded data removed]",
      "text/plain": [
       "<Figure size 640x480 with 1 Axes>"
      ]
     },
     "metadata": {},
     "output_type": "display_data"
    }
   ],
   "source": [
    "# compute the false positive rate, true positive rate, and threshold for normal observations\n",
    "fpr, tpr, thresholds = roc_curve(y_test, preds)\n",
    "\n",
    "# calculate the AUC\n",
    "roc_auc = auc(fpr, tpr)\n",
    "\n",
    "# plot the ROC curve\n",
    "plt.plot(fpr, tpr, label='ROC curve (area = %0.2f)' % roc_auc);\n",
    "# Plot the baseline 50-50 dashed line\n",
    "plt.plot([0, 1], [0, 1], '--', color = 'w');\n",
    "# Set the x axis limits\n",
    "plt.xlim([0.0, 1.0]);\n",
    "# Set the y axis limits\n",
    "plt.ylim([0.0, 1.05]);\n",
    "# Label the x-axis\n",
    "plt.xlabel('False Positive Rate');\n",
    "# Label the y-axis\n",
    "plt.ylabel('True Positive Rate');\n",
    "# Title the plot\n",
    "plt.title('Receiver Operating Characteristic');\n",
    "# Create the legend that has the area under the curve\n",
    "plt.legend(loc=\"lower right\");\n",
    "# Show the graph\n",
    "plt.show();"
   ]
  },
  {
   "attachments": {},
   "cell_type": "markdown",
   "metadata": {},
   "source": [
    "An ROC curve of .88 is really good but not great. \n",
    "\n",
    "There is a deeper issue with this result which is that when I compare it to the cv dataset there is a clear drop off. The most likely explanation for this is that the model failed to effectively predict that that the new attacks were not safe. This was the primary challenge of the Capstone and it appears that the model was not able to do an effective job.\n",
    "\n",
    "Below I have isolated all the observations in the test set that are new attack types to see how the model performed against them."
   ]
  },
  {
   "cell_type": "code",
   "execution_count": 50,
   "metadata": {},
   "outputs": [
    {
     "name": "stdout",
     "output_type": "stream",
     "text": [
      "Percent of correctly identified new intrusions: 14.24%\n"
     ]
    }
   ],
   "source": [
    "# Create a mask for all values that are in new attacks in the test set\n",
    "mask = small_test['labels'].isin(new_attacks)\n",
    "# Use the mask to find all the prediction values that are from new labels\n",
    "preds_new = preds[mask]\n",
    "# Store the value count for the predictions\n",
    "values, counts = np.unique(preds_new, return_counts = True)\n",
    "# Print out the percent that is true positive\n",
    "print(f\"Percent of correctly identified new intrusions: {round((counts[1]/len(preds_new))*100, 2)}%\")"
   ]
  },
  {
   "attachments": {},
   "cell_type": "markdown",
   "metadata": {},
   "source": [
    "This is not good. Out of all the observations that had new attack types, only 14.24% were correctly classified by the model as an attack. \n",
    "\n",
    "To further investigate, I looked at which new attack types the model was best at predicting and which attack types the model struggled with."
   ]
  },
  {
   "cell_type": "code",
   "execution_count": 218,
   "metadata": {},
   "outputs": [
    {
     "data": {
      "text/html": [
       "<div>\n",
       "<style scoped>\n",
       "    .dataframe tbody tr th:only-of-type {\n",
       "        vertical-align: middle;\n",
       "    }\n",
       "\n",
       "    .dataframe tbody tr th {\n",
       "        vertical-align: top;\n",
       "    }\n",
       "\n",
       "    .dataframe thead th {\n",
       "        text-align: right;\n",
       "    }\n",
       "</style>\n",
       "<table border=\"1\" class=\"dataframe\">\n",
       "  <thead>\n",
       "    <tr style=\"text-align: right;\">\n",
       "      <th></th>\n",
       "      <th>Correct</th>\n",
       "      <th>Wrong</th>\n",
       "      <th>Net</th>\n",
       "      <th>% Correct</th>\n",
       "    </tr>\n",
       "  </thead>\n",
       "  <tbody>\n",
       "    <tr>\n",
       "      <th>xsnoop.</th>\n",
       "      <td>4</td>\n",
       "      <td>0</td>\n",
       "      <td>4</td>\n",
       "      <td>100.0</td>\n",
       "    </tr>\n",
       "    <tr>\n",
       "      <th>sqlattack.</th>\n",
       "      <td>2</td>\n",
       "      <td>0</td>\n",
       "      <td>2</td>\n",
       "      <td>100.0</td>\n",
       "    </tr>\n",
       "    <tr>\n",
       "      <th>apache2.</th>\n",
       "      <td>790</td>\n",
       "      <td>4</td>\n",
       "      <td>786</td>\n",
       "      <td>99.5</td>\n",
       "    </tr>\n",
       "    <tr>\n",
       "      <th>processtable.</th>\n",
       "      <td>729</td>\n",
       "      <td>30</td>\n",
       "      <td>699</td>\n",
       "      <td>96.0</td>\n",
       "    </tr>\n",
       "    <tr>\n",
       "      <th>saint.</th>\n",
       "      <td>701</td>\n",
       "      <td>35</td>\n",
       "      <td>666</td>\n",
       "      <td>95.2</td>\n",
       "    </tr>\n",
       "    <tr>\n",
       "      <th>xlock.</th>\n",
       "      <td>4</td>\n",
       "      <td>5</td>\n",
       "      <td>-1</td>\n",
       "      <td>44.4</td>\n",
       "    </tr>\n",
       "    <tr>\n",
       "      <th>ps.</th>\n",
       "      <td>7</td>\n",
       "      <td>9</td>\n",
       "      <td>-2</td>\n",
       "      <td>43.8</td>\n",
       "    </tr>\n",
       "    <tr>\n",
       "      <th>named.</th>\n",
       "      <td>7</td>\n",
       "      <td>10</td>\n",
       "      <td>-3</td>\n",
       "      <td>41.2</td>\n",
       "    </tr>\n",
       "    <tr>\n",
       "      <th>xterm.</th>\n",
       "      <td>5</td>\n",
       "      <td>8</td>\n",
       "      <td>-3</td>\n",
       "      <td>38.5</td>\n",
       "    </tr>\n",
       "    <tr>\n",
       "      <th>sendmail.</th>\n",
       "      <td>5</td>\n",
       "      <td>12</td>\n",
       "      <td>-7</td>\n",
       "      <td>29.4</td>\n",
       "    </tr>\n",
       "    <tr>\n",
       "      <th>mscan.</th>\n",
       "      <td>189</td>\n",
       "      <td>864</td>\n",
       "      <td>-675</td>\n",
       "      <td>17.9</td>\n",
       "    </tr>\n",
       "    <tr>\n",
       "      <th>httptunnel.</th>\n",
       "      <td>3</td>\n",
       "      <td>155</td>\n",
       "      <td>-152</td>\n",
       "      <td>1.9</td>\n",
       "    </tr>\n",
       "    <tr>\n",
       "      <th>udpstorm.</th>\n",
       "      <td>0</td>\n",
       "      <td>2</td>\n",
       "      <td>-2</td>\n",
       "      <td>0.0</td>\n",
       "    </tr>\n",
       "    <tr>\n",
       "      <th>worm.</th>\n",
       "      <td>0</td>\n",
       "      <td>2</td>\n",
       "      <td>-2</td>\n",
       "      <td>0.0</td>\n",
       "    </tr>\n",
       "    <tr>\n",
       "      <th>snmpguess.</th>\n",
       "      <td>1</td>\n",
       "      <td>2405</td>\n",
       "      <td>-2404</td>\n",
       "      <td>0.0</td>\n",
       "    </tr>\n",
       "    <tr>\n",
       "      <th>mailbomb.</th>\n",
       "      <td>0</td>\n",
       "      <td>5000</td>\n",
       "      <td>-5000</td>\n",
       "      <td>0.0</td>\n",
       "    </tr>\n",
       "    <tr>\n",
       "      <th>snmpgetattack.</th>\n",
       "      <td>0</td>\n",
       "      <td>7741</td>\n",
       "      <td>-7741</td>\n",
       "      <td>0.0</td>\n",
       "    </tr>\n",
       "  </tbody>\n",
       "</table>\n",
       "</div>"
      ],
      "text/plain": [
       "                Correct  Wrong   Net  % Correct\n",
       "xsnoop.               4      0     4      100.0\n",
       "sqlattack.            2      0     2      100.0\n",
       "apache2.            790      4   786       99.5\n",
       "processtable.       729     30   699       96.0\n",
       "saint.              701     35   666       95.2\n",
       "xlock.                4      5    -1       44.4\n",
       "ps.                   7      9    -2       43.8\n",
       "named.                7     10    -3       41.2\n",
       "xterm.                5      8    -3       38.5\n",
       "sendmail.             5     12    -7       29.4\n",
       "mscan.              189    864  -675       17.9\n",
       "httptunnel.           3    155  -152        1.9\n",
       "udpstorm.             0      2    -2        0.0\n",
       "worm.                 0      2    -2        0.0\n",
       "snmpguess.            1   2405 -2404        0.0\n",
       "mailbomb.             0   5000 -5000        0.0\n",
       "snmpgetattack.        0   7741 -7741        0.0"
      ]
     },
     "execution_count": 218,
     "metadata": {},
     "output_type": "execute_result"
    }
   ],
   "source": [
    "deep_dive = ints_eval(preds, y_test)\n",
    "# Show the deep dive dataframe\n",
    "deep_dive.sort_values(['% Correct','Net'], ascending = False)"
   ]
  },
  {
   "attachments": {},
   "cell_type": "markdown",
   "metadata": {},
   "source": [
    "I believe that the varying efficiency of the model is because there is a wide range in similarity between some of the new attacks, and the training attacks that the model evaluated. For snmpgetattack, mailbomb and snmpguess there weren't a lot of intrusions that had the same signature as them. Since the non intrusion classification most likely doesn't have any specific markers without the data to train for these kinds of attacks the model thought they weren't an intrusion. \n",
    "\n",
    "There is a fundamental problem in this challenge which is that it is impossible to train for what has never happened. These models are great at predicting the future based on the patterns of the past but when they are unable to see any future patterns in the information that they are given then the algorithm will fail. This is why white hat hackers and previous datasets are so important because they can inform us about the threats that aren't in the current dataset.\n",
    "\n",
    "One last test to see if this is still a viable model is to split the official test set in to training and testing data and see how the model performs on that test data. If this were a company or the government eventually the test data would be turned into training data as more data is expected to arrive."
   ]
  },
  {
   "cell_type": "code",
   "execution_count": 21,
   "metadata": {},
   "outputs": [],
   "source": [
    "# Create a train and test data from the 12 feature dataset\n",
    "X_test_train, X_test_test, y_test_tr, y_test_te = train_test_split(X_small_test, y_test, test_size = .25, random_state = 42)"
   ]
  },
  {
   "attachments": {},
   "cell_type": "markdown",
   "metadata": {},
   "source": [
    "Now I train the model with the same model architecture that I have been using but a large portion of the test set as the training set."
   ]
  },
  {
   "cell_type": "code",
   "execution_count": 24,
   "metadata": {},
   "outputs": [
    {
     "name": "stdout",
     "output_type": "stream",
     "text": [
      "Epoch [10/10], Step [233251/233271], Loss: 0.0586, Accuracy: 1.0000\r"
     ]
    }
   ],
   "source": [
    "nnettest = train_model(X_test_train, y_test_tr, 10, 50, Net)"
   ]
  },
  {
   "attachments": {},
   "cell_type": "markdown",
   "metadata": {},
   "source": [
    "The accuracy is for each batch not each epoch of training. The perfect score just means that the last 50 predictions that the model made were perfect.\n",
    "\n",
    "Below is a plot of the loss function."
   ]
  },
  {
   "cell_type": "code",
   "execution_count": 26,
   "metadata": {},
   "outputs": [
    {
     "data": {
      "image/png": "[encoded data removed]",
      "text/plain": [
       "<Figure size 640x480 with 1 Axes>"
      ]
     },
     "metadata": {},
     "output_type": "display_data"
    }
   ],
   "source": [
    "loss_plot()"
   ]
  },
  {
   "cell_type": "code",
   "execution_count": 51,
   "metadata": {},
   "outputs": [
    {
     "name": "stdout",
     "output_type": "stream",
     "text": [
      "              precision    recall  f1-score   support\n",
      "\n",
      "           0       0.84      0.96      0.89     15035\n",
      "           1       0.99      0.96      0.97     62722\n",
      "\n",
      "    accuracy                           0.96     77757\n",
      "   macro avg       0.91      0.96      0.93     77757\n",
      "weighted avg       0.96      0.96      0.96     77757\n",
      "\n"
     ]
    }
   ],
   "source": [
    "eval_model(X_test_test, y_test_te, nnettest)\n",
    "preds_1 = preds"
   ]
  },
  {
   "attachments": {},
   "cell_type": "markdown",
   "metadata": {},
   "source": [
    "The accuracy is not near the training set accuracy which is disappointing. It appears that all the clear patterns that were in the training set are not fully in the test set. When I did lasso regularization, I did it only with the training set which did not have any of the new attacks. This current dataset is optimized for the attacks in the training set but not the attacks in the test set. \n",
    "\n",
    "Below I copied the preprocessing function, added lasso and ran it on the raw test data. I then combined the new columns that were selected by lasso with the old columns of the previous dataset to create a better dataset that if another prediction had to be made that model would do significantly better."
   ]
  },
  {
   "cell_type": "code",
   "execution_count": 28,
   "metadata": {},
   "outputs": [
    {
     "data": {
      "text/html": [
       "<div>\n",
       "<style scoped>\n",
       "    .dataframe tbody tr th:only-of-type {\n",
       "        vertical-align: middle;\n",
       "    }\n",
       "\n",
       "    .dataframe tbody tr th {\n",
       "        vertical-align: top;\n",
       "    }\n",
       "\n",
       "    .dataframe thead th {\n",
       "        text-align: right;\n",
       "    }\n",
       "</style>\n",
       "<table border=\"1\" class=\"dataframe\">\n",
       "  <thead>\n",
       "    <tr style=\"text-align: right;\">\n",
       "      <th></th>\n",
       "      <th>Correct</th>\n",
       "      <th>Wrong</th>\n",
       "      <th>Net</th>\n",
       "      <th>% Correct</th>\n",
       "    </tr>\n",
       "  </thead>\n",
       "  <tbody>\n",
       "    <tr>\n",
       "      <th>mscan.</th>\n",
       "      <td>264</td>\n",
       "      <td>0</td>\n",
       "      <td>264</td>\n",
       "      <td>100.0</td>\n",
       "    </tr>\n",
       "    <tr>\n",
       "      <th>apache2.</th>\n",
       "      <td>210</td>\n",
       "      <td>0</td>\n",
       "      <td>210</td>\n",
       "      <td>100.0</td>\n",
       "    </tr>\n",
       "    <tr>\n",
       "      <th>processtable.</th>\n",
       "      <td>197</td>\n",
       "      <td>0</td>\n",
       "      <td>197</td>\n",
       "      <td>100.0</td>\n",
       "    </tr>\n",
       "    <tr>\n",
       "      <th>xlock.</th>\n",
       "      <td>2</td>\n",
       "      <td>0</td>\n",
       "      <td>2</td>\n",
       "      <td>100.0</td>\n",
       "    </tr>\n",
       "    <tr>\n",
       "      <th>mailbomb.</th>\n",
       "      <td>1202</td>\n",
       "      <td>1</td>\n",
       "      <td>1201</td>\n",
       "      <td>99.9</td>\n",
       "    </tr>\n",
       "    <tr>\n",
       "      <th>httptunnel.</th>\n",
       "      <td>47</td>\n",
       "      <td>1</td>\n",
       "      <td>46</td>\n",
       "      <td>97.9</td>\n",
       "    </tr>\n",
       "    <tr>\n",
       "      <th>saint.</th>\n",
       "      <td>173</td>\n",
       "      <td>5</td>\n",
       "      <td>168</td>\n",
       "      <td>97.2</td>\n",
       "    </tr>\n",
       "    <tr>\n",
       "      <th>named.</th>\n",
       "      <td>3</td>\n",
       "      <td>1</td>\n",
       "      <td>2</td>\n",
       "      <td>75.0</td>\n",
       "    </tr>\n",
       "    <tr>\n",
       "      <th>sendmail.</th>\n",
       "      <td>2</td>\n",
       "      <td>1</td>\n",
       "      <td>1</td>\n",
       "      <td>66.7</td>\n",
       "    </tr>\n",
       "    <tr>\n",
       "      <th>xterm.</th>\n",
       "      <td>2</td>\n",
       "      <td>2</td>\n",
       "      <td>0</td>\n",
       "      <td>50.0</td>\n",
       "    </tr>\n",
       "    <tr>\n",
       "      <th>ps.</th>\n",
       "      <td>2</td>\n",
       "      <td>3</td>\n",
       "      <td>-1</td>\n",
       "      <td>40.0</td>\n",
       "    </tr>\n",
       "    <tr>\n",
       "      <th>udpstorm.</th>\n",
       "      <td>0</td>\n",
       "      <td>2</td>\n",
       "      <td>-2</td>\n",
       "      <td>0.0</td>\n",
       "    </tr>\n",
       "    <tr>\n",
       "      <th>snmpguess.</th>\n",
       "      <td>0</td>\n",
       "      <td>592</td>\n",
       "      <td>-592</td>\n",
       "      <td>0.0</td>\n",
       "    </tr>\n",
       "    <tr>\n",
       "      <th>snmpgetattack.</th>\n",
       "      <td>0</td>\n",
       "      <td>1958</td>\n",
       "      <td>-1958</td>\n",
       "      <td>0.0</td>\n",
       "    </tr>\n",
       "  </tbody>\n",
       "</table>\n",
       "</div>"
      ],
      "text/plain": [
       "                Correct  Wrong   Net  % Correct\n",
       "mscan.              264      0   264      100.0\n",
       "apache2.            210      0   210      100.0\n",
       "processtable.       197      0   197      100.0\n",
       "xlock.                2      0     2      100.0\n",
       "mailbomb.          1202      1  1201       99.9\n",
       "httptunnel.          47      1    46       97.9\n",
       "saint.              173      5   168       97.2\n",
       "named.                3      1     2       75.0\n",
       "sendmail.             2      1     1       66.7\n",
       "xterm.                2      2     0       50.0\n",
       "ps.                   2      3    -1       40.0\n",
       "udpstorm.             0      2    -2        0.0\n",
       "snmpguess.            0    592  -592        0.0\n",
       "snmpgetattack.        0   1958 -1958        0.0"
      ]
     },
     "execution_count": 28,
     "metadata": {},
     "output_type": "execute_result"
    }
   ],
   "source": [
    "deep_dive = ints_eval(preds,y_test_te)\n",
    "# Show the deep dive dataframe\n",
    "deep_dive.sort_values(['% Correct','Net'], ascending = False)"
   ]
  },
  {
   "attachments": {},
   "cell_type": "markdown",
   "metadata": {},
   "source": [
    "The snmp intrusions from this dataset appear to be the exact same as no intrusion. In my cluster analysis I explored how a combination of different traits can lead to some stark conclusions about the type of intrusion the observation is. I can look at all the snmp intrusions and compare them to the clusters that had the highest normal probability."
   ]
  },
  {
   "cell_type": "code",
   "execution_count": 29,
   "metadata": {},
   "outputs": [
    {
     "data": {
      "image/png": "[encoded data removed]",
      "text/plain": [
       "<Figure size 800x200 with 2 Axes>"
      ]
     },
     "metadata": {},
     "output_type": "display_data"
    }
   ],
   "source": [
    "# Create groupby object\n",
    "normal_mean = pd.DataFrame(small_test.loc[small_test['labels'] == 'normal.'].mean(numeric_only = True))\n",
    "# Change the figure size to fit the dataframe\n",
    "plt.figure(figsize=(8,2))\n",
    "# filter out all observations that are snmp attacks\n",
    "snmp = pd.DataFrame(small_test.loc[small_test['labels'].str.startswith('snmpg')].mean(numeric_only = True))\n",
    "# combine the two\n",
    "combined = pd.concat([normal_mean, snmp], axis = 1)\n",
    "# Label the indices to know which is which\n",
    "combined.columns = ['normal', 'snmp']\n",
    "# create a heatmap of the means to visualize it better\n",
    "sns.heatmap(combined.T);"
   ]
  },
  {
   "attachments": {},
   "cell_type": "markdown",
   "metadata": {},
   "source": [
    "The heatmap looks like there should be enough for snmp to classified correctly by the model as protocol_type_udp which would appear to be significantly different in SNMP. What most likely happened was that the model discarded protocol_type_udp during training as it didn't have a significant impact on the training intrusions. If I create a sequential second layer that re-examines all of the observations that the model predicted were safe, I can hopefully catch some obscurred patterns in the rarer intrusion types that could significantly improve the model.\n",
    "\n",
    "Below I separate out the test data into the safe predictions that the model made."
   ]
  },
  {
   "cell_type": "code",
   "execution_count": 30,
   "metadata": {},
   "outputs": [],
   "source": [
    "# Create a mask for all the safe values\n",
    "safe_preds = preds_1 == 0\n",
    "# Apply the mask to the X data\n",
    "X_layer2 = X_test_test[safe_preds]\n",
    "# Apply the mask to the y data\n",
    "y_layer2 = y_test_te[safe_preds]\n",
    "# Use train_test_split to generate train and test sets\n",
    "X2_train, X2_test, y2_train, y2_test = train_test_split(X_layer2, y_layer2, test_size = .25, random_state=25)"
   ]
  },
  {
   "cell_type": "code",
   "execution_count": 41,
   "metadata": {},
   "outputs": [
    {
     "name": "stdout",
     "output_type": "stream",
     "text": [
      "Epoch [100/100], Step [12501/12884], Loss: 0.2682, Accuracy: 0.8568\r"
     ]
    }
   ],
   "source": [
    "# Run the model with large batch and epochs\n",
    "layer2 = train_model(X2_train, y2_train, 100, 500, Net)"
   ]
  },
  {
   "attachments": {},
   "cell_type": "markdown",
   "metadata": {},
   "source": [
    "The loss and accuracy here are surprisingly bad compared to the training set's loss and accuracy."
   ]
  },
  {
   "cell_type": "code",
   "execution_count": 42,
   "metadata": {},
   "outputs": [
    {
     "data": {
      "image/png": "[encoded data removed]",
      "text/plain": [
       "<Figure size 640x480 with 1 Axes>"
      ]
     },
     "metadata": {},
     "output_type": "display_data"
    }
   ],
   "source": [
    "# Plot the losses\n",
    "loss_plot(losses)"
   ]
  },
  {
   "attachments": {},
   "cell_type": "markdown",
   "metadata": {},
   "source": [
    "There are so many epochs that the x-ticks are illegible. There is a slight downward trend throughout the graph but most likely it stops around 500 epochs."
   ]
  },
  {
   "cell_type": "code",
   "execution_count": 43,
   "metadata": {},
   "outputs": [
    {
     "name": "stdout",
     "output_type": "stream",
     "text": [
      "              precision    recall  f1-score   support\n",
      "\n",
      "           0       0.84      1.00      0.91      3606\n",
      "           1       0.00      0.00      0.00       689\n",
      "\n",
      "    accuracy                           0.84      4295\n",
      "   macro avg       0.42      0.50      0.46      4295\n",
      "weighted avg       0.70      0.84      0.77      4295\n",
      "\n"
     ]
    }
   ],
   "source": [
    "eval_model(X2_test, y2_test, layer2)"
   ]
  },
  {
   "attachments": {},
   "cell_type": "markdown",
   "metadata": {},
   "source": [
    "This is not an unsurprising result. The model had classified these initially as safe in the first run through and it did the same thing here after I eliminated the more obvious groups. I had hoped that with the more obvious patterns gone that the model could focus on different patterns but It seems that there weren't enough.\n",
    "\n",
    "Below I created a heatmap that compares all of the means of the features of each label to the normal label to see how similar they are. If it is the case that there is no clear difference, than the model won't be able to distinguish between safe and attack."
   ]
  },
  {
   "cell_type": "code",
   "execution_count": 63,
   "metadata": {},
   "outputs": [
    {
     "name": "stdout",
     "output_type": "stream",
     "text": [
      "Index(['mailbomb.', 'mscan.', 'apache2.', 'processtable.', 'saint.'], dtype='object')\n"
     ]
    },
    {
     "data": {
      "image/png": "[encoded data removed]",
      "text/plain": [
       "<Figure size 1800x500 with 2 Axes>"
      ]
     },
     "metadata": {},
     "output_type": "display_data"
    }
   ],
   "source": [
    "# Create groupby object\n",
    "normal_mean = pd.DataFrame(small_test.loc[small_test['labels'] == 'normal.'].mean(numeric_only = True), columns = ['normal.'])\n",
    "# Change the figure size to fit the dataframe\n",
    "plt.figure(figsize=(18,5))\n",
    "# filter out all observations that are snmp attacks\n",
    "snmp = pd.DataFrame(small_test.loc[small_test['labels'].isin(new_attacks)])\n",
    "grouped = pd.DataFrame(snmp.groupby('labels').mean(numeric_only = True).T)\n",
    "# combine the two\n",
    "combined = pd.concat([grouped, normal_mean], axis = 1)\n",
    "# create a heatmap of the means to visualize it better\n",
    "sns.heatmap(combined.T);\n",
    "print(deep_dive.index[:5])"
   ]
  },
  {
   "attachments": {},
   "cell_type": "markdown",
   "metadata": {},
   "source": [
    "The attack type with the clearest hot spot (apache2) is unsurprisingly consistently captured consistently by the model. I printed above the heatmap the 5 new attacks that the model is the best at classifiying. A lot of them have clear differences with the last row of the heat map in some features. When I look as snmp attacks they are very similar to no attack and there isn't a way for the model to identify them. \n",
    "\n",
    "This is because when I did lasso regularization, I optimized for only the intrusion types in the training set and not any in the test set. In order to build a better model I need to keep optimizing it with all the relevant features.\n",
    "\n",
    "Below I repurposed the preprocessing code to create a feature set that has all the relevant features to predict an intrusion in the test set and the training set."
   ]
  },
  {
   "cell_type": "code",
   "execution_count": 65,
   "metadata": {},
   "outputs": [],
   "source": [
    "def lassoing(dfx):\n",
    "    # I copy and pasted the column names from the website into this list\n",
    "    dfx.columns = [\"duration\", \"protocol_type\", \"service\", \"flag\", \"src_bytes\",\n",
    "                    \"dst_bytes\", \"land\", \"wrong_fragment\", \"urgent\", \"hot\",\n",
    "                    \"num_failed_logins\", \"logged_in\", \"num_compromised\",\n",
    "                    \"root_shell\", \"su_attempted\", \"num_root\", \"num_file_creations\",\n",
    "                    \"num_shells\", \"num_access_files\", \"num_outbound_cmds\", \"is_host_login\",\n",
    "                    \"is_guest_login\", \"count\", \"srv_count\", \"serror_rate\",\"srv_serror_rate\",\n",
    "                    \"rerror_rate\", \"srv_rerror_rate\", \"same_srv_rate\", \"diff_srv_rate\", \"srv_diff_host_rate\",\n",
    "                    \"dst_host_count\", \"dst_host_srv_count\", \"dst_host_same_srv_rate\", \"dst_host_diff_srv_rate\",\n",
    "                    \"dst_host_same_src_port_rate\", \"dst_host_srv_diff_host_rate\", \"dst_host_serror_rate\", \n",
    "                    \"dst_host_srv_serror_rate\", \"dst_host_rerror_rate\", \"dst_host_srv_rerror_rate\", \"labels\"]\n",
    "    \n",
    "    # Between 'num_outbound_cmds', and 'is_host_login' there are 2 non zero values both are observations that were both normal.\n",
    "    # Use the drop methods to get rid of the near constants\n",
    "    dfx = dfx.drop(columns = ['num_outbound_cmds', 'is_host_login'], axis = 1)\n",
    "    '''\n",
    "    Now we separate the data into the feature variables (X) and the target variable (y). With the features dataframe we can use \n",
    "    the pd.get_dummies function to create dummy features for all the categories in the categorical columns. This will make it possible \n",
    "    to analyze all the features for multicolinearity and then use lasso regularization to determine the most important features.\n",
    "    '''\n",
    "    # Only use the X data so that it is easy to test for multicolinearity\n",
    "    y = np.where(dfx['labels'] == 'normal.', 0, 1)\n",
    "    # drop the target variable from the feature set\n",
    "    X_data = dfx.drop('labels', axis = 1)\n",
    "\n",
    "    # Find the categorical columns that need to be made numerical for analysis\n",
    "    cat_cols = list(X_data.select_dtypes(include = 'object').columns)\n",
    "\n",
    "    # Creating a completely numerical dataset that is usable for analysis\n",
    "    X_data = pd.get_dummies(X_data, columns = cat_cols, \n",
    "                            # When testing for multi-co-linearity it is important to drop one of the dummies\n",
    "                            # so that that column doesn't get flagged\n",
    "                                drop_first = True)\n",
    "    \n",
    "    '''\n",
    "    Skewed features are a problem as they make it hard for models to accurately describe interactions between different features because\n",
    "    the arbitrary size of some feature will completely warp the math. To fix this we can scale the features with StandardScaler so as to\n",
    "    preserve the nature of the feature without destroying the model by its size.\n",
    "    '''\n",
    "    # Create the scaler object\n",
    "    scaler = StandardScaler()\n",
    "    # fit the scaler to the dataset\n",
    "    scaler.fit(X_data)\n",
    "    # Scale the dataset\n",
    "    X_data = pd.DataFrame(scaler.transform(X_data), columns = X_data.columns)\n",
    "\n",
    "    '''\n",
    "    Creating the features 'Syn Error' and 'Rej Error'\n",
    "    '''\n",
    "    # Define the Syn Error columns\n",
    "    serror = ['serror_rate', 'srv_serror_rate', 'dst_host_serror_rate', 'dst_host_srv_serror_rate']\n",
    "\n",
    "    # Define the Syn Error columns\n",
    "    rerror = ['rerror_rate', 'srv_rerror_rate', 'dst_host_rerror_rate', 'dst_host_srv_rerror_rate']\n",
    "\n",
    "    # Create new Syn Error column as mean of the former Syn Error columns\n",
    "    X_data['Syn Error'] = X_data[serror].max(axis = 1)\n",
    "\n",
    "\n",
    "    # Create new Syn Error column as mean of the former Syn Error columns\n",
    "    X_data['Rej Error'] = X_data[rerror].max(axis = 1)\n",
    "\n",
    "\n",
    "    # Drop the redundant columns\n",
    "    X_data = X_data.drop(columns = [*serror, *rerror])\n",
    "    \n",
    "    # Find the coefficients of lasso regularization\n",
    "    lasso = Lasso(alpha = 0.007157894736842105)\n",
    "    # Fit the lasso regularization to the data \n",
    "    lasso.fit(X_data,y)\n",
    "    # Create a list of all the features that don't have a lasso coefficient of zero\n",
    "    test_features = [X_data.columns[i] for i in range(len(X_data.columns)) if list(lasso.coef_)[i] != 0]\n",
    "\n",
    "    # Create the list of all important training features\n",
    "    train_features = list(X_small.columns)\n",
    "    # Create join the lists.\n",
    "    train_test_features = list(set(train_features) | set(test_features))\n",
    "    # Return the dataset that has only the lasso test features.\n",
    "    return X_data[train_test_features]"
   ]
  },
  {
   "cell_type": "code",
   "execution_count": 66,
   "metadata": {},
   "outputs": [
    {
     "data": {
      "text/html": [
       "<div>\n",
       "<style scoped>\n",
       "    .dataframe tbody tr th:only-of-type {\n",
       "        vertical-align: middle;\n",
       "    }\n",
       "\n",
       "    .dataframe tbody tr th {\n",
       "        vertical-align: top;\n",
       "    }\n",
       "\n",
       "    .dataframe thead th {\n",
       "        text-align: right;\n",
       "    }\n",
       "</style>\n",
       "<table border=\"1\" class=\"dataframe\">\n",
       "  <thead>\n",
       "    <tr style=\"text-align: right;\">\n",
       "      <th></th>\n",
       "      <th>service_domain_u</th>\n",
       "      <th>wrong_fragment</th>\n",
       "      <th>service_urp_i</th>\n",
       "      <th>service_ecr_i</th>\n",
       "      <th>count</th>\n",
       "      <th>dst_host_count</th>\n",
       "      <th>service_smtp</th>\n",
       "      <th>flag_RSTR</th>\n",
       "      <th>protocol_type_udp</th>\n",
       "      <th>Syn Error</th>\n",
       "      <th>...</th>\n",
       "      <th>dst_host_same_src_port_rate</th>\n",
       "      <th>flag_SF</th>\n",
       "      <th>Rej Error</th>\n",
       "      <th>hot</th>\n",
       "      <th>service_eco_i</th>\n",
       "      <th>service_finger</th>\n",
       "      <th>service_ftp_data</th>\n",
       "      <th>service_http</th>\n",
       "      <th>service_auth</th>\n",
       "      <th>service_pop_3</th>\n",
       "    </tr>\n",
       "  </thead>\n",
       "  <tbody>\n",
       "    <tr>\n",
       "      <th>0</th>\n",
       "      <td>-0.101312</td>\n",
       "      <td>-0.018877</td>\n",
       "      <td>-0.014234</td>\n",
       "      <td>-1.058542</td>\n",
       "      <td>-1.220230</td>\n",
       "      <td>0.323696</td>\n",
       "      <td>-0.165254</td>\n",
       "      <td>-0.053023</td>\n",
       "      <td>3.263145</td>\n",
       "      <td>-0.252083</td>\n",
       "      <td>...</td>\n",
       "      <td>-1.113746</td>\n",
       "      <td>0.502232</td>\n",
       "      <td>-0.408486</td>\n",
       "      <td>-0.047032</td>\n",
       "      <td>-0.041974</td>\n",
       "      <td>-0.030602</td>\n",
       "      <td>-0.084845</td>\n",
       "      <td>-0.390958</td>\n",
       "      <td>-0.021966</td>\n",
       "      <td>-0.113735</td>\n",
       "    </tr>\n",
       "    <tr>\n",
       "      <th>1</th>\n",
       "      <td>-0.101312</td>\n",
       "      <td>-0.018877</td>\n",
       "      <td>-0.014234</td>\n",
       "      <td>-1.058542</td>\n",
       "      <td>-1.220230</td>\n",
       "      <td>0.323696</td>\n",
       "      <td>-0.165254</td>\n",
       "      <td>-0.053023</td>\n",
       "      <td>3.263145</td>\n",
       "      <td>-0.252083</td>\n",
       "      <td>...</td>\n",
       "      <td>-1.113746</td>\n",
       "      <td>0.502232</td>\n",
       "      <td>-0.408486</td>\n",
       "      <td>-0.047032</td>\n",
       "      <td>-0.041974</td>\n",
       "      <td>-0.030602</td>\n",
       "      <td>-0.084845</td>\n",
       "      <td>-0.390958</td>\n",
       "      <td>-0.021966</td>\n",
       "      <td>-0.113735</td>\n",
       "    </tr>\n",
       "    <tr>\n",
       "      <th>2</th>\n",
       "      <td>-0.101312</td>\n",
       "      <td>-0.018877</td>\n",
       "      <td>-0.014234</td>\n",
       "      <td>-1.058542</td>\n",
       "      <td>-1.215681</td>\n",
       "      <td>0.323696</td>\n",
       "      <td>-0.165254</td>\n",
       "      <td>-0.053023</td>\n",
       "      <td>3.263145</td>\n",
       "      <td>-0.252083</td>\n",
       "      <td>...</td>\n",
       "      <td>-1.113746</td>\n",
       "      <td>0.502232</td>\n",
       "      <td>-0.408486</td>\n",
       "      <td>-0.047032</td>\n",
       "      <td>-0.041974</td>\n",
       "      <td>-0.030602</td>\n",
       "      <td>-0.084845</td>\n",
       "      <td>-0.390958</td>\n",
       "      <td>-0.021966</td>\n",
       "      <td>-0.113735</td>\n",
       "    </tr>\n",
       "    <tr>\n",
       "      <th>3</th>\n",
       "      <td>-0.101312</td>\n",
       "      <td>-0.018877</td>\n",
       "      <td>-0.014234</td>\n",
       "      <td>-1.058542</td>\n",
       "      <td>-1.215681</td>\n",
       "      <td>0.323696</td>\n",
       "      <td>-0.165254</td>\n",
       "      <td>-0.053023</td>\n",
       "      <td>3.263145</td>\n",
       "      <td>-0.252083</td>\n",
       "      <td>...</td>\n",
       "      <td>-1.093419</td>\n",
       "      <td>0.502232</td>\n",
       "      <td>-0.408486</td>\n",
       "      <td>-0.047032</td>\n",
       "      <td>-0.041974</td>\n",
       "      <td>-0.030602</td>\n",
       "      <td>-0.084845</td>\n",
       "      <td>-0.390958</td>\n",
       "      <td>-0.021966</td>\n",
       "      <td>-0.113735</td>\n",
       "    </tr>\n",
       "    <tr>\n",
       "      <th>4</th>\n",
       "      <td>-0.101312</td>\n",
       "      <td>-0.018877</td>\n",
       "      <td>-0.014234</td>\n",
       "      <td>-1.058542</td>\n",
       "      <td>-1.215681</td>\n",
       "      <td>0.323696</td>\n",
       "      <td>-0.165254</td>\n",
       "      <td>-0.053023</td>\n",
       "      <td>3.263145</td>\n",
       "      <td>-0.252083</td>\n",
       "      <td>...</td>\n",
       "      <td>-1.093419</td>\n",
       "      <td>0.502232</td>\n",
       "      <td>-0.408486</td>\n",
       "      <td>-0.047032</td>\n",
       "      <td>-0.041974</td>\n",
       "      <td>-0.030602</td>\n",
       "      <td>-0.084845</td>\n",
       "      <td>-0.390958</td>\n",
       "      <td>-0.021966</td>\n",
       "      <td>-0.113735</td>\n",
       "    </tr>\n",
       "  </tbody>\n",
       "</table>\n",
       "<p>5 rows × 22 columns</p>\n",
       "</div>"
      ],
      "text/plain": [
       "   service_domain_u  wrong_fragment  service_urp_i  service_ecr_i     count  \\\n",
       "0         -0.101312       -0.018877      -0.014234      -1.058542 -1.220230   \n",
       "1         -0.101312       -0.018877      -0.014234      -1.058542 -1.220230   \n",
       "2         -0.101312       -0.018877      -0.014234      -1.058542 -1.215681   \n",
       "3         -0.101312       -0.018877      -0.014234      -1.058542 -1.215681   \n",
       "4         -0.101312       -0.018877      -0.014234      -1.058542 -1.215681   \n",
       "\n",
       "   dst_host_count  service_smtp  flag_RSTR  protocol_type_udp  Syn Error  ...  \\\n",
       "0        0.323696     -0.165254  -0.053023           3.263145  -0.252083  ...   \n",
       "1        0.323696     -0.165254  -0.053023           3.263145  -0.252083  ...   \n",
       "2        0.323696     -0.165254  -0.053023           3.263145  -0.252083  ...   \n",
       "3        0.323696     -0.165254  -0.053023           3.263145  -0.252083  ...   \n",
       "4        0.323696     -0.165254  -0.053023           3.263145  -0.252083  ...   \n",
       "\n",
       "   dst_host_same_src_port_rate   flag_SF  Rej Error       hot  service_eco_i  \\\n",
       "0                    -1.113746  0.502232  -0.408486 -0.047032      -0.041974   \n",
       "1                    -1.113746  0.502232  -0.408486 -0.047032      -0.041974   \n",
       "2                    -1.113746  0.502232  -0.408486 -0.047032      -0.041974   \n",
       "3                    -1.093419  0.502232  -0.408486 -0.047032      -0.041974   \n",
       "4                    -1.093419  0.502232  -0.408486 -0.047032      -0.041974   \n",
       "\n",
       "   service_finger  service_ftp_data  service_http  service_auth  service_pop_3  \n",
       "0       -0.030602         -0.084845     -0.390958     -0.021966      -0.113735  \n",
       "1       -0.030602         -0.084845     -0.390958     -0.021966      -0.113735  \n",
       "2       -0.030602         -0.084845     -0.390958     -0.021966      -0.113735  \n",
       "3       -0.030602         -0.084845     -0.390958     -0.021966      -0.113735  \n",
       "4       -0.030602         -0.084845     -0.390958     -0.021966      -0.113735  \n",
       "\n",
       "[5 rows x 22 columns]"
      ]
     },
     "execution_count": 66,
     "metadata": {},
     "output_type": "execute_result"
    }
   ],
   "source": [
    "# Import the test data\n",
    "test = pd.read_csv('./data/raw/test')\n",
    "\n",
    "Opt_test = lassoing(test)\n",
    "Opt_test.head()"
   ]
  },
  {
   "cell_type": "code",
   "execution_count": null,
   "metadata": {},
   "outputs": [],
   "source": [
    "Xopt_train, X_opt_test, y_opt_tr, y_opt_tr = train_test_split(Opt_test, y_test_binary, test_size = 0.25, random_state = 54)\n",
    "opt_model = train_model(Xopt_train, y_opt_tr, 10, 50, Net)"
   ]
  },
  {
   "cell_type": "code",
   "execution_count": 73,
   "metadata": {},
   "outputs": [
    {
     "data": {
      "text/html": [
       "<div>\n",
       "<style scoped>\n",
       "    .dataframe tbody tr th:only-of-type {\n",
       "        vertical-align: middle;\n",
       "    }\n",
       "\n",
       "    .dataframe tbody tr th {\n",
       "        vertical-align: top;\n",
       "    }\n",
       "\n",
       "    .dataframe thead th {\n",
       "        text-align: right;\n",
       "    }\n",
       "</style>\n",
       "<table border=\"1\" class=\"dataframe\">\n",
       "  <thead>\n",
       "    <tr style=\"text-align: right;\">\n",
       "      <th></th>\n",
       "      <th>service_domain_u</th>\n",
       "      <th>wrong_fragment</th>\n",
       "      <th>service_urp_i</th>\n",
       "      <th>service_ecr_i</th>\n",
       "      <th>count</th>\n",
       "      <th>dst_host_count</th>\n",
       "      <th>service_smtp</th>\n",
       "      <th>flag_RSTR</th>\n",
       "      <th>protocol_type_udp</th>\n",
       "      <th>Syn Error</th>\n",
       "      <th>...</th>\n",
       "      <th>dst_host_same_src_port_rate</th>\n",
       "      <th>flag_SF</th>\n",
       "      <th>Rej Error</th>\n",
       "      <th>hot</th>\n",
       "      <th>service_eco_i</th>\n",
       "      <th>service_finger</th>\n",
       "      <th>service_ftp_data</th>\n",
       "      <th>service_http</th>\n",
       "      <th>service_auth</th>\n",
       "      <th>service_pop_3</th>\n",
       "    </tr>\n",
       "  </thead>\n",
       "  <tbody>\n",
       "    <tr>\n",
       "      <th>271279</th>\n",
       "      <td>-0.101312</td>\n",
       "      <td>-0.018877</td>\n",
       "      <td>-0.014234</td>\n",
       "      <td>0.944696</td>\n",
       "      <td>1.099704</td>\n",
       "      <td>0.323696</td>\n",
       "      <td>-0.165254</td>\n",
       "      <td>-0.053023</td>\n",
       "      <td>-0.306453</td>\n",
       "      <td>-0.252083</td>\n",
       "      <td>...</td>\n",
       "      <td>0.918932</td>\n",
       "      <td>0.502232</td>\n",
       "      <td>-0.408486</td>\n",
       "      <td>-0.047032</td>\n",
       "      <td>-0.041974</td>\n",
       "      <td>-0.030602</td>\n",
       "      <td>-0.084845</td>\n",
       "      <td>-0.390958</td>\n",
       "      <td>-0.021966</td>\n",
       "      <td>-0.113735</td>\n",
       "    </tr>\n",
       "    <tr>\n",
       "      <th>148975</th>\n",
       "      <td>-0.101312</td>\n",
       "      <td>-0.018877</td>\n",
       "      <td>-0.014234</td>\n",
       "      <td>-1.058542</td>\n",
       "      <td>-1.192937</td>\n",
       "      <td>-1.629901</td>\n",
       "      <td>-0.165254</td>\n",
       "      <td>-0.053023</td>\n",
       "      <td>-0.306453</td>\n",
       "      <td>-0.252083</td>\n",
       "      <td>...</td>\n",
       "      <td>-1.093419</td>\n",
       "      <td>0.502232</td>\n",
       "      <td>-0.408486</td>\n",
       "      <td>-0.047032</td>\n",
       "      <td>-0.041974</td>\n",
       "      <td>-0.030602</td>\n",
       "      <td>-0.084845</td>\n",
       "      <td>2.557821</td>\n",
       "      <td>-0.021966</td>\n",
       "      <td>-0.113735</td>\n",
       "    </tr>\n",
       "    <tr>\n",
       "      <th>113015</th>\n",
       "      <td>-0.101312</td>\n",
       "      <td>-0.018877</td>\n",
       "      <td>-0.014234</td>\n",
       "      <td>-1.058542</td>\n",
       "      <td>-0.624325</td>\n",
       "      <td>0.323696</td>\n",
       "      <td>-0.165254</td>\n",
       "      <td>-0.053023</td>\n",
       "      <td>-0.306453</td>\n",
       "      <td>-0.252083</td>\n",
       "      <td>...</td>\n",
       "      <td>-1.113746</td>\n",
       "      <td>-1.991114</td>\n",
       "      <td>2.489522</td>\n",
       "      <td>-0.047032</td>\n",
       "      <td>-0.041974</td>\n",
       "      <td>-0.030602</td>\n",
       "      <td>-0.084845</td>\n",
       "      <td>-0.390958</td>\n",
       "      <td>-0.021966</td>\n",
       "      <td>-0.113735</td>\n",
       "    </tr>\n",
       "    <tr>\n",
       "      <th>288474</th>\n",
       "      <td>-0.101312</td>\n",
       "      <td>-0.018877</td>\n",
       "      <td>-0.014234</td>\n",
       "      <td>-1.058542</td>\n",
       "      <td>-1.206583</td>\n",
       "      <td>0.323696</td>\n",
       "      <td>-0.165254</td>\n",
       "      <td>-0.053023</td>\n",
       "      <td>-0.306453</td>\n",
       "      <td>-0.252083</td>\n",
       "      <td>...</td>\n",
       "      <td>-1.113746</td>\n",
       "      <td>0.502232</td>\n",
       "      <td>-0.235719</td>\n",
       "      <td>6.361818</td>\n",
       "      <td>-0.041974</td>\n",
       "      <td>-0.030602</td>\n",
       "      <td>-0.084845</td>\n",
       "      <td>2.557821</td>\n",
       "      <td>-0.021966</td>\n",
       "      <td>-0.113735</td>\n",
       "    </tr>\n",
       "    <tr>\n",
       "      <th>90548</th>\n",
       "      <td>-0.101312</td>\n",
       "      <td>-0.018877</td>\n",
       "      <td>-0.014234</td>\n",
       "      <td>-1.058542</td>\n",
       "      <td>-1.220230</td>\n",
       "      <td>0.323696</td>\n",
       "      <td>-0.165254</td>\n",
       "      <td>-0.053023</td>\n",
       "      <td>-0.306453</td>\n",
       "      <td>-0.252083</td>\n",
       "      <td>...</td>\n",
       "      <td>-1.113746</td>\n",
       "      <td>0.502232</td>\n",
       "      <td>-0.408486</td>\n",
       "      <td>-0.047032</td>\n",
       "      <td>-0.041974</td>\n",
       "      <td>-0.030602</td>\n",
       "      <td>-0.084845</td>\n",
       "      <td>2.557821</td>\n",
       "      <td>-0.021966</td>\n",
       "      <td>-0.113735</td>\n",
       "    </tr>\n",
       "  </tbody>\n",
       "</table>\n",
       "<p>5 rows × 22 columns</p>\n",
       "</div>"
      ],
      "text/plain": [
       "        service_domain_u  wrong_fragment  service_urp_i  service_ecr_i  \\\n",
       "271279         -0.101312       -0.018877      -0.014234       0.944696   \n",
       "148975         -0.101312       -0.018877      -0.014234      -1.058542   \n",
       "113015         -0.101312       -0.018877      -0.014234      -1.058542   \n",
       "288474         -0.101312       -0.018877      -0.014234      -1.058542   \n",
       "90548          -0.101312       -0.018877      -0.014234      -1.058542   \n",
       "\n",
       "           count  dst_host_count  service_smtp  flag_RSTR  protocol_type_udp  \\\n",
       "271279  1.099704        0.323696     -0.165254  -0.053023          -0.306453   \n",
       "148975 -1.192937       -1.629901     -0.165254  -0.053023          -0.306453   \n",
       "113015 -0.624325        0.323696     -0.165254  -0.053023          -0.306453   \n",
       "288474 -1.206583        0.323696     -0.165254  -0.053023          -0.306453   \n",
       "90548  -1.220230        0.323696     -0.165254  -0.053023          -0.306453   \n",
       "\n",
       "        Syn Error  ...  dst_host_same_src_port_rate   flag_SF  Rej Error  \\\n",
       "271279  -0.252083  ...                     0.918932  0.502232  -0.408486   \n",
       "148975  -0.252083  ...                    -1.093419  0.502232  -0.408486   \n",
       "113015  -0.252083  ...                    -1.113746 -1.991114   2.489522   \n",
       "288474  -0.252083  ...                    -1.113746  0.502232  -0.235719   \n",
       "90548   -0.252083  ...                    -1.113746  0.502232  -0.408486   \n",
       "\n",
       "             hot  service_eco_i  service_finger  service_ftp_data  \\\n",
       "271279 -0.047032      -0.041974       -0.030602         -0.084845   \n",
       "148975 -0.047032      -0.041974       -0.030602         -0.084845   \n",
       "113015 -0.047032      -0.041974       -0.030602         -0.084845   \n",
       "288474  6.361818      -0.041974       -0.030602         -0.084845   \n",
       "90548  -0.047032      -0.041974       -0.030602         -0.084845   \n",
       "\n",
       "        service_http  service_auth  service_pop_3  \n",
       "271279     -0.390958     -0.021966      -0.113735  \n",
       "148975      2.557821     -0.021966      -0.113735  \n",
       "113015     -0.390958     -0.021966      -0.113735  \n",
       "288474      2.557821     -0.021966      -0.113735  \n",
       "90548       2.557821     -0.021966      -0.113735  \n",
       "\n",
       "[5 rows x 22 columns]"
      ]
     },
     "execution_count": 73,
     "metadata": {},
     "output_type": "execute_result"
    }
   ],
   "source": [
    "Xopt_train.head()\n",
    "\n"
   ]
  },
  {
   "cell_type": "code",
   "execution_count": null,
   "metadata": {},
   "outputs": [],
   "source": [
    "print(X_opt_test.head())"
   ]
  },
  {
   "cell_type": "code",
   "execution_count": 74,
   "metadata": {},
   "outputs": [
    {
     "data": {
      "text/html": [
       "<div>\n",
       "<style scoped>\n",
       "    .dataframe tbody tr th:only-of-type {\n",
       "        vertical-align: middle;\n",
       "    }\n",
       "\n",
       "    .dataframe tbody tr th {\n",
       "        vertical-align: top;\n",
       "    }\n",
       "\n",
       "    .dataframe thead th {\n",
       "        text-align: right;\n",
       "    }\n",
       "</style>\n",
       "<table border=\"1\" class=\"dataframe\">\n",
       "  <thead>\n",
       "    <tr style=\"text-align: right;\">\n",
       "      <th></th>\n",
       "      <th>Binary</th>\n",
       "    </tr>\n",
       "  </thead>\n",
       "  <tbody>\n",
       "    <tr>\n",
       "      <th>304929</th>\n",
       "      <td>1</td>\n",
       "    </tr>\n",
       "    <tr>\n",
       "      <th>276697</th>\n",
       "      <td>1</td>\n",
       "    </tr>\n",
       "    <tr>\n",
       "      <th>94066</th>\n",
       "      <td>0</td>\n",
       "    </tr>\n",
       "    <tr>\n",
       "      <th>179532</th>\n",
       "      <td>1</td>\n",
       "    </tr>\n",
       "    <tr>\n",
       "      <th>242828</th>\n",
       "      <td>1</td>\n",
       "    </tr>\n",
       "  </tbody>\n",
       "</table>\n",
       "</div>"
      ],
      "text/plain": [
       "        Binary\n",
       "304929       1\n",
       "276697       1\n",
       "94066        0\n",
       "179532       1\n",
       "242828       1"
      ]
     },
     "execution_count": 74,
     "metadata": {},
     "output_type": "execute_result"
    }
   ],
   "source": [
    "y_opt_tr.head()\n"
   ]
  },
  {
   "cell_type": "code",
   "execution_count": 75,
   "metadata": {},
   "outputs": [
    {
     "data": {
      "text/html": [
       "<div>\n",
       "<style scoped>\n",
       "    .dataframe tbody tr th:only-of-type {\n",
       "        vertical-align: middle;\n",
       "    }\n",
       "\n",
       "    .dataframe tbody tr th {\n",
       "        vertical-align: top;\n",
       "    }\n",
       "\n",
       "    .dataframe thead th {\n",
       "        text-align: right;\n",
       "    }\n",
       "</style>\n",
       "<table border=\"1\" class=\"dataframe\">\n",
       "  <thead>\n",
       "    <tr style=\"text-align: right;\">\n",
       "      <th></th>\n",
       "      <th>Binary</th>\n",
       "    </tr>\n",
       "  </thead>\n",
       "  <tbody>\n",
       "    <tr>\n",
       "      <th>304929</th>\n",
       "      <td>1</td>\n",
       "    </tr>\n",
       "    <tr>\n",
       "      <th>276697</th>\n",
       "      <td>1</td>\n",
       "    </tr>\n",
       "    <tr>\n",
       "      <th>94066</th>\n",
       "      <td>0</td>\n",
       "    </tr>\n",
       "    <tr>\n",
       "      <th>179532</th>\n",
       "      <td>1</td>\n",
       "    </tr>\n",
       "    <tr>\n",
       "      <th>242828</th>\n",
       "      <td>1</td>\n",
       "    </tr>\n",
       "  </tbody>\n",
       "</table>\n",
       "</div>"
      ],
      "text/plain": [
       "        Binary\n",
       "304929       1\n",
       "276697       1\n",
       "94066        0\n",
       "179532       1\n",
       "242828       1"
      ]
     },
     "execution_count": 75,
     "metadata": {},
     "output_type": "execute_result"
    }
   ],
   "source": [
    "y_opt_tr.head()"
   ]
  },
  {
   "attachments": {},
   "cell_type": "markdown",
   "metadata": {},
   "source": [
    "#### **Categorical Models**"
   ]
  },
  {
   "attachments": {},
   "cell_type": "markdown",
   "metadata": {},
   "source": [
    "As helpful"
   ]
  },
  {
   "attachments": {},
   "cell_type": "markdown",
   "metadata": {},
   "source": [
    "#### **Big Data**"
   ]
  },
  {
   "attachments": {},
   "cell_type": "markdown",
   "metadata": {},
   "source": [
    "Now is the chance to use the bigger dataset that is supposed to contain every features that can help distinguish between the intrusion types."
   ]
  },
  {
   "cell_type": "code",
   "execution_count": 35,
   "metadata": {},
   "outputs": [],
   "source": [
    "# Create a train and test data from the full dataset\n",
    "X_train, X_test, y_tr, y_te = train_test_split(X_big, small_train['group'], test_size = .25)"
   ]
  },
  {
   "cell_type": "code",
   "execution_count": 36,
   "metadata": {},
   "outputs": [],
   "source": [
    "def change_labels(y_train):\n",
    "    # Initialize the label encoder\n",
    "    label_encoder = LabelEncoder()\n",
    "    # fit and transform the y training data with label encoder\n",
    "    y_group = label_encoder.fit_transform(y_train)\n",
    "    # transfrom the encoded data to a categorical variable\n",
    "    y_group = to_categorical(y_group, num_classes = 8)\n",
    "    # return the labels for outside the function\n",
    "    return y_group"
   ]
  },
  {
   "cell_type": "code",
   "execution_count": 37,
   "metadata": {},
   "outputs": [],
   "source": [
    "y_group = change_labels(y_tr)"
   ]
  },
  {
   "cell_type": "code",
   "execution_count": 38,
   "metadata": {},
   "outputs": [],
   "source": [
    "def tf_model(X_train, y_train, ep, b_s):\n",
    "    # Initialize the model\n",
    "    model = Sequential()\n",
    "\n",
    "    # Create the first layer of the deep learning model with input set the number of features in X_train\n",
    "    model.add(Dense(61, activation = 'relu', input_dim = X_train.shape[1]))\n",
    "    # Add a middle layer to give the model more complexity\n",
    "    model.add(Dense(61, activation = 'relu'))\n",
    "    # Add a middle layer to give the model more complexity\n",
    "    model.add(Dense(61, activation = 'relu'))\n",
    "    # Add a middle layer to give the model more complexity\n",
    "    model.add(Dense(61, activation = 'relu'))\n",
    "    # Add a middle layer to give the model more complexity\n",
    "    model.add(Dense(61, activation = 'relu'))\n",
    "    # Add a middle layer to give the model more complexity\n",
    "    model.add(Dense(61, activation = 'relu'))\n",
    "    # Add a middle layer to give the model more complexity\n",
    "    model.add(Dense(61, activation = 'relu'))\n",
    "    # Add a middle layer to give the model more complexity\n",
    "    model.add(Dense(61, activation = 'relu'))\n",
    "    # Add a middle layer to give the model more complexity\n",
    "    model.add(Dense(61, activation = 'relu'))\n",
    "    # Add a middle layer to give the model more complexity\n",
    "    model.add(Dense(53, activation = 'relu'))\n",
    "    # Add a middle layer to give the model more complexity\n",
    "    model.add(Dense(38, activation = 'relu'))\n",
    "    # Add a middle layer to give the model more complexity\n",
    "    model.add(Dense(25, activation = 'relu'))\n",
    "    # Add a middle layer to give the model more complexity\n",
    "    model.add(Dense(14, activation = 'relu'))\n",
    "    # Finish with the same amount of nodes as categories that there are to predict\n",
    "    model.add(Dense(8, activation = 'softmax'))\n",
    "    # Compile the network with the standard optimiizer and loss function\n",
    "    model.compile(optimizer = 'adam', loss = 'binary_crossentropy', metrics = ['binary_accuracy'])\n",
    "    # Train the model with X_train and the encoded categorical y_group\n",
    "    model.fit(X_train.astype('float32'), y_train, epochs = ep, batch_size = b_s)\n",
    "\n",
    "    return model\n"
   ]
  },
  {
   "cell_type": "code",
   "execution_count": 39,
   "metadata": {},
   "outputs": [
    {
     "name": "stdout",
     "output_type": "stream",
     "text": [
      "Epoch 1/2\n",
      "735/735 [==============================] - 61s 78ms/step - loss: 0.0689 - binary_accuracy: 0.9838\n",
      "Epoch 2/2\n",
      "735/735 [==============================] - 69s 94ms/step - loss: 9.2383e-04 - binary_accuracy: 0.9998\n"
     ]
    }
   ],
   "source": [
    "bignet = tf_model(X_train, y_group, 2, 5000)"
   ]
  },
  {
   "cell_type": "code",
   "execution_count": 40,
   "metadata": {},
   "outputs": [],
   "source": [
    "def eval_tf(X_test, y_test, model):\n",
    "    # Create the predictions. This creates an array that has as many columns as potential predictions\n",
    "    preds = model.predict(X_test)\n",
    "    # Take the highest prediction as the model's prediction\n",
    "    pred = preds.argmax(axis = 1)\n",
    "    # get the intrusions corresponding to the encoder class.\n",
    "    ints = label_encoder.classes_ # type: ignore\n",
    "    # Assign each of the predictions to the group that they correspond to\n",
    "    predictions = [ints[i] for i in pred]\n",
    "    # Print out the classification report\n",
    "    print(classification_report(y_test, predictions, zero_division = 0))"
   ]
  },
  {
   "attachments": {},
   "cell_type": "markdown",
   "metadata": {},
   "source": []
  },
  {
   "cell_type": "code",
   "execution_count": 42,
   "metadata": {},
   "outputs": [
    {
     "name": "stdout",
     "output_type": "stream",
     "text": [
      "38269/38269 [==============================] - 61s 2ms/step\n",
      "              precision    recall  f1-score   support\n",
      "\n",
      " brute force       0.00      0.00      0.00        27\n",
      "       files       0.00      0.00      0.00         8\n",
      "    internal       1.00      1.00      1.00    703113\n",
      "        none       1.00      1.00      1.00    242849\n",
      "       pings       1.00      1.00      1.00    268073\n",
      "     scripts       0.00      0.00      0.00         4\n",
      "      sweeps       0.99      0.97      0.98     10274\n",
      "       warez       0.00      0.00      0.00       260\n",
      "\n",
      "    accuracy                           1.00   1224608\n",
      "   macro avg       0.50      0.50      0.50   1224608\n",
      "weighted avg       1.00      1.00      1.00   1224608\n",
      "\n"
     ]
    }
   ],
   "source": [
    "eval_tf(X_test, y_te, bignet)"
   ]
  },
  {
   "attachments": {},
   "cell_type": "markdown",
   "metadata": {},
   "source": [
    "This was slightly more precise than the previous model where the sweeps group was nearly perfect. Now lets see how it performs on the official test set."
   ]
  },
  {
   "attachments": {},
   "cell_type": "markdown",
   "metadata": {},
   "source": [
    "Overall the neural networks were amazing at predicting intrusion types that had already happened. If this model was to be used at a security firm than the more diverse set of intrusions that it was allowed to train on the better it would do. Unfortunately there are a set of attacks that without training data is impossible for this model to catch. I don't know if there is a better way to train the model to catch them.\n",
    "\n",
    "The one thing that I wish I had done better was to get the model to generate more rare events. Given the size of the dataset and the rarety of some of the intrusion types the models just ignored those types and stuck with the more common intrusion types. If I had weighted the model and created some synthetic data with some of the rarer intrusion types that might have helped the model predict all intrusion types."
   ]
  },
  {
   "cell_type": "code",
   "execution_count": 44,
   "metadata": {},
   "outputs": [
    {
     "name": "stdout",
     "output_type": "stream",
     "text": [
      "Epoch 1/2\n",
      "980/980 [==============================] - 75s 76ms/step - loss: 0.0268 - binary_accuracy: 0.9942\n",
      "Epoch 2/2\n",
      "980/980 [==============================] - 81s 82ms/step - loss: 8.2705e-04 - binary_accuracy: 0.9998\n"
     ]
    }
   ],
   "source": [
    "y_group = change_labels(small_train['group'])\n",
    "bigNet = tf_model(X_big, y_group, 2, 5000)"
   ]
  },
  {
   "cell_type": "code",
   "execution_count": 45,
   "metadata": {},
   "outputs": [
    {
     "name": "stdout",
     "output_type": "stream",
     "text": [
      "9720/9720 [==============================] - 16s 2ms/step\n",
      "              precision    recall  f1-score   support\n",
      "\n",
      " brute force       0.00      0.00      0.00      7574\n",
      "       files       0.00      0.00      0.00         5\n",
      "    internal       0.96      0.99      0.98    165217\n",
      "        none       0.70      0.89      0.79     60592\n",
      "       pings       0.99      0.92      0.95     63109\n",
      "     scripts       0.00      0.00      0.00      8763\n",
      "      sweeps       0.78      0.70      0.74      4166\n",
      "       warez       0.25      0.14      0.18      1602\n",
      "\n",
      "    accuracy                           0.90    311028\n",
      "   macro avg       0.46      0.46      0.45    311028\n",
      "weighted avg       0.86      0.90      0.88    311028\n",
      "\n"
     ]
    }
   ],
   "source": [
    "eval_tf(X_big_test, small_test['group'], bigNet)"
   ]
  },
  {
   "cell_type": "code",
   "execution_count": 67,
   "metadata": {},
   "outputs": [],
   "source": [
    "bigNet.save('./models/bigNet.h5')"
   ]
  },
  {
   "attachments": {},
   "cell_type": "markdown",
   "metadata": {},
   "source": [
    "### **Random Forrest**"
   ]
  },
  {
   "attachments": {},
   "cell_type": "markdown",
   "metadata": {},
   "source": [
    "The second type of model that I will use is random forrest which is an ensemble method of decision trees. The idea is that since hacking is an inherently human act, the process should follow some sort of decision tree where certain features being elevated or lowered should lead to certain types of intrusions. I did not have enough time to conduct a grid search or random search so I just did the basic version of a Random Forest Classifier."
   ]
  },
  {
   "cell_type": "code",
   "execution_count": 61,
   "metadata": {},
   "outputs": [
    {
     "name": "stdout",
     "output_type": "stream",
     "text": [
      "Fitting 2 folds for each of 2 candidates, totalling 4 fits\n"
     ]
    },
    {
     "data": {
      "text/plain": [
       "{'n_estimators': 300}"
      ]
     },
     "execution_count": 61,
     "metadata": {},
     "output_type": "execute_result"
    }
   ],
   "source": [
    "# Initialize a random forest model\n",
    "rf = RandomForestClassifier(n_jobs = 4)\n",
    "# Create a set of values to search\n",
    "param_grid = {'n_estimators': [5, 50, 100, 150, 200, 300, 600]}  \n",
    "# Create the grid search object with 5 cross validational folds\n",
    "grid_search = GridSearchCV(rf, param_grid, cv = 2, verbose = 1)  \n",
    "# Fit the data to the grid search\n",
    "grid_search.fit(X_small, y_train)\n",
    "# Save the best parameters  \n",
    "best_params = grid_search.best_params_\n",
    "# Print the best parameters\n",
    "best_params"
   ]
  },
  {
   "cell_type": "code",
   "execution_count": 65,
   "metadata": {},
   "outputs": [],
   "source": [
    "# Create a train and test data from the 12 feature dataset\n",
    "X_train, X_test, y_tr, y_te = train_test_split(X_small, y_train, test_size = .25, random_state = 42)"
   ]
  },
  {
   "cell_type": "code",
   "execution_count": 66,
   "metadata": {},
   "outputs": [
    {
     "name": "stdout",
     "output_type": "stream",
     "text": [
      "              precision    recall  f1-score   support\n",
      "\n",
      "           0       1.00      1.00      1.00    243103\n",
      "           1       1.00      1.00      1.00    981505\n",
      "\n",
      "    accuracy                           1.00   1224608\n",
      "   macro avg       1.00      1.00      1.00   1224608\n",
      "weighted avg       1.00      1.00      1.00   1224608\n",
      "\n"
     ]
    }
   ],
   "source": [
    "# Create a random forest classifier with the best parameters trees\n",
    "rf = RandomForestClassifier(n_estimators= best_params['n_estimators'], n_jobs = 4)\n",
    "\n",
    "# Fit the model to the data\n",
    "rf.fit(X_train, y_tr)\n",
    "\n",
    "# Predict the test set\n",
    "rf_pred = rf.predict(X_test)\n",
    "\n",
    "# print the classification report\n",
    "print(classification_report(y_te, rf_pred, zero_division = 0))"
   ]
  },
  {
   "cell_type": "code",
   "execution_count": 63,
   "metadata": {},
   "outputs": [
    {
     "name": "stdout",
     "output_type": "stream",
     "text": [
      "              precision    recall  f1-score   support\n",
      "\n",
      "           0       0.70      0.86      0.77     60592\n",
      "           1       0.96      0.91      0.94    250436\n",
      "\n",
      "    accuracy                           0.90    311028\n",
      "   macro avg       0.83      0.88      0.85    311028\n",
      "weighted avg       0.91      0.90      0.90    311028\n",
      "\n"
     ]
    }
   ],
   "source": [
    "# Create a random forest classifier with the best parameters trees\n",
    "rf = RandomForestClassifier(n_estimators= best_params['n_estimators'], n_jobs = 4)\n",
    "\n",
    "# Fit the model to the data\n",
    "rf.fit(X_small, y_train)\n",
    "\n",
    "# Predict the test set\n",
    "rf_pred = rf.predict(X_small_test)\n",
    "\n",
    "# print the classification report\n",
    "print(classification_report(y_test, rf_pred, zero_division = 0))"
   ]
  },
  {
   "attachments": {},
   "cell_type": "markdown",
   "metadata": {},
   "source": [
    "This is slightly worse than the neural network but it is very close. It could be that If the hyper parameters were correctly tuned that the results would be better. Below is a categorical random forrest."
   ]
  },
  {
   "attachments": {},
   "cell_type": "markdown",
   "metadata": {},
   "source": [
    "This did significantly worse than the neural network. It is important to note that it recalled 99% of all the non intrusion observations but its precision was so low that has much less importance than the recall would indicate.\n",
    "\n",
    "Below is the same but with the bigger dataset."
   ]
  },
  {
   "cell_type": "code",
   "execution_count": 64,
   "metadata": {},
   "outputs": [
    {
     "name": "stdout",
     "output_type": "stream",
     "text": [
      "              precision    recall  f1-score   support\n",
      "\n",
      " brute force       0.04      0.20      0.06      7574\n",
      "       files       0.00      0.00      0.00         5\n",
      "    internal       1.00      0.00      0.00    165217\n",
      "        none       0.21      0.80      0.34     60592\n",
      "       pings       0.98      0.24      0.39     63109\n",
      "     scripts       0.00      0.00      0.00      8763\n",
      "      sweeps       0.11      0.68      0.19      4166\n",
      "       warez       1.00      0.13      0.23      1602\n",
      "\n",
      "    accuracy                           0.22    311028\n",
      "   macro avg       0.42      0.26      0.15    311028\n",
      "weighted avg       0.78      0.22      0.15    311028\n",
      "\n"
     ]
    }
   ],
   "source": [
    "# Initialize the label encoder\n",
    "label_encoder = LabelEncoder()\n",
    "# fit and transform y_group\n",
    "y_group = label_encoder.fit_transform(small_train['group']) #type: ignore\n",
    "# Transform the y_group variable to a categorical variable\n",
    "y_group = to_categorical(y_group, num_classes = 8)\n",
    "\n",
    "\n",
    "# Create a random forest classifier with 100 trees\n",
    "rf = RandomForestClassifier(n_estimators=best_params['n_estimators'], n_jobs = 4)\n",
    "\n",
    "# Fit the model to the data\n",
    "rf.fit(X_big, y_group)\n",
    "\n",
    "# Predict the test dataset with the previous model\n",
    "preds = rf.predict(X_big_test)\n",
    "# Find the prediction that the model likes the most\n",
    "pred = preds.argmax(axis = 1)\n",
    "# Get the corresponding group types from label_encoder\n",
    "ints = label_encoder.classes_\n",
    "# find the intrusions for each prediction\n",
    "predictions = [ints[i] for i in pred]\n",
    "# Print the classification report\n",
    "print(classification_report(small_test['group'], predictions, zero_division = 0))\n"
   ]
  },
  {
   "attachments": {},
   "cell_type": "markdown",
   "metadata": {},
   "source": [
    "## **Conclusion**\n",
    "\n",
    "From these results it is clear that the neural network model is the best model. With more time I could run a lot of hyper paramater tuning and investigate if taking the highest value soft max is the best decision or if maybe sometimes the model hints at something rarer that gets covered up by higher values of more common types. But until then the best model was the big data categorical model. It recalled 92% of all non intrusion observations and 71% precision while also giving valuable insight into the type of intrusion it was. This means that when the model predicted that there was an intrusion there was a 1-(.195*(1-.92)) = 98.4% chance that there was an intrusion."
   ]
  }
 ],
 "metadata": {
  "kernelspec": {
   "display_name": "Capstone-2",
   "language": "python",
   "name": "python3"
  },
  "language_info": {
   "codemirror_mode": {
    "name": "ipython",
    "version": 3
   },
   "file_extension": ".py",
   "mimetype": "text/x-python",
   "name": "python",
   "nbconvert_exporter": "python",
   "pygments_lexer": "ipython3",
   "version": "3.10.11"
  },
  "orig_nbformat": 4
 },
 "nbformat": 4,
 "nbformat_minor": 2
}
